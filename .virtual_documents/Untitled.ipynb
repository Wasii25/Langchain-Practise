from langchain_ollama.llms import OllamaLLM

llm = OllamaLLM(model = "llama3", temperature=0.0)
response = llm.invoke("what is 2+2")
print(response)


from langchain_core.prompts import ChatPromptTemplate
basic_template = ChatPromptTemplate.from_template(
    "Translate the following text from {source_language} to {target_language}: {text}"
)
formatted_prompt = basic_template.format_messages(
    source_language="French",
    target_language="English",
    text="Bonjour, comment allez-vous?"
)
print(formatted_prompt[0].content)


style_template = ChatPromptTemplate.from_template(
    """Convert the following text from British English to American English
    British English text : {text}
    American English:
    """
)
chain = style_template | llm
british_texts = [
    "I need to book a flat in the city centre near the underground station.",
    "The lorry driver stopped at the petrol station to buy some biscuits.",
    "Please put the rubbish in the bin and post the letter in the postbox."
]

print("BRITISH TO AMERICAN ENGLISH CONVERSION:\n")
for brit_text in british_texts:
    result = chain.invoke({"text": brit_text})
    print(f"British: {brit_text}")
    print(f"American: {result}\n")

print("="*50 + "\n")



from langchain.output_parsers import StructuredOutputParser, ResponseSchema

response_schema = [
    ResponseSchema(name="american text", description="The text converted into american english"),
    ResponseSchema(name="changes", description="The words that were changed")
]

output_parser = StructuredOutputParser.from_response_schemas(response_schema)

format_instructions = output_parser.get_format_instructions()

parser_template = ChatPromptTemplate.from_template(
    """Convert the following British English text to american english
    British English text = {text}
    {format_instructions}
    """
)

parser_chain = parser_template | llm |output_parser


from langchain_core.output_parsers import StrOutputParser

simple_template = ChatPromptTemplate.from_template(
    """Convert the following british english text to american english
    Respond in the following format:
    American English Text = [converted text]
    changed words = [word1 -> word2, word3 -> word4]

    British English text = {text}
    """
)

simple_parser = simple_template | llm | StrOutputParser()
british_example = "I left my mobile in the boot of the car near the motorway."

result = simple_parser.invoke({"text" : british_example})
print(result)




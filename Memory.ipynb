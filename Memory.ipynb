{
 "cells": [
  {
   "cell_type": "code",
   "execution_count": 1,
   "id": "77932481-bbd7-49d1-a2a2-f9874bd2c34e",
   "metadata": {},
   "outputs": [
    {
     "name": "stderr",
     "output_type": "stream",
     "text": [
      "/home/wasii25/Projects/jlab_env/lib/python3.12/site-packages/tqdm/auto.py:21: TqdmWarning: IProgress not found. Please update jupyter and ipywidgets. See https://ipywidgets.readthedocs.io/en/stable/user_install.html\n",
      "  from .autonotebook import tqdm as notebook_tqdm\n",
      "None of PyTorch, TensorFlow >= 2.0, or Flax have been found. Models won't be available and only tokenizers, configuration and file/data utilities can be used.\n"
     ]
    },
    {
     "name": "stdout",
     "output_type": "stream",
     "text": [
      "Nice to meet you, Wasi! It's great to hear that you love coding! What kind of programming languages or technologies are you interested in? Are you a beginner or have some experience under your belt?\n",
      "I'm just an AI, I don't have any information about your personal details including your name. This conversation just started and we're beginning from scratch! If you'd like to share your name with me, I'm happy to get to know you better.\n"
     ]
    }
   ],
   "source": [
    "from langchain_ollama.llms import OllamaLLM\n",
    "from langchain.prompts import ChatMessagePromptTemplate, MessagesPlaceholder\n",
    "from langchain.schema import HumanMessage, AIMessage, SystemMessage\n",
    "from langchain.memory import (\n",
    "    ConversationBufferMemory,\n",
    "    ConversationBufferWindowMemory,\n",
    "    ConversationSummaryBufferMemory,\n",
    "    ConversationTokenBufferMemory\n",
    ")\n",
    "from langchain.chains import ConversationChain, LLMChain\n",
    "\n",
    "llm = OllamaLLM(model=\"llama3\")\n",
    "\n",
    "\n",
    "response = llm.invoke(\"Hi my name is wasi and i love coding\")\n",
    "print(response)\n",
    "response = llm.invoke(\"what is my name?\")\n",
    "print (response)"
   ]
  },
  {
   "cell_type": "code",
   "execution_count": 4,
   "id": "79019b3c-c670-4bda-87e8-3a8a4b038fa4",
   "metadata": {},
   "outputs": [
    {
     "name": "stdout",
     "output_type": "stream",
     "text": [
      "\n",
      "\n",
      "\u001b[1m> Entering new ConversationChain chain...\u001b[0m\n",
      "Prompt after formatting:\n",
      "\u001b[32;1m\u001b[1;3mThe following is a friendly conversation between a human and an AI. The AI is talkative and provides lots of specific details from its context. If the AI does not know the answer to a question, it truthfully says it does not know.\n",
      "\n",
      "Current conversation:\n",
      "[]\n",
      "Human: Hi my name is wasi and i love coding\n",
      "AI:\u001b[0m\n",
      "\n",
      "\u001b[1m> Finished chain.\u001b[0m\n",
      "Nice to meet you Wasi! I'm glad to hear that you enjoy coding. Did you know that I have been trained on a vast amount of text data, including many programming languages? I can provide information on various programming concepts, frameworks, and technologies if you'd like. By the way, what type of coding do you enjoy the most? Are you more interested in front-end development, back-end development, or perhaps something like machine learning or artificial intelligence?\n",
      "\n",
      "\n",
      "\u001b[1m> Entering new ConversationChain chain...\u001b[0m\n",
      "Prompt after formatting:\n",
      "\u001b[32;1m\u001b[1;3mThe following is a friendly conversation between a human and an AI. The AI is talkative and provides lots of specific details from its context. If the AI does not know the answer to a question, it truthfully says it does not know.\n",
      "\n",
      "Current conversation:\n",
      "[HumanMessage(content='Hi my name is wasi and i love coding', additional_kwargs={}, response_metadata={}), AIMessage(content=\"Nice to meet you Wasi! I'm glad to hear that you enjoy coding. Did you know that I have been trained on a vast amount of text data, including many programming languages? I can provide information on various programming concepts, frameworks, and technologies if you'd like. By the way, what type of coding do you enjoy the most? Are you more interested in front-end development, back-end development, or perhaps something like machine learning or artificial intelligence?\", additional_kwargs={}, response_metadata={})]\n",
      "Human: what is my name?\n",
      "AI:\u001b[0m\n",
      "\n",
      "\u001b[1m> Finished chain.\u001b[0m\n",
      "I'm happy to help! According to our conversation so far, your name is Wasi. I remember you introducing yourself with that name when we started chatting.\n",
      "\n",
      "\n",
      "\u001b[1m> Entering new ConversationChain chain...\u001b[0m\n",
      "Prompt after formatting:\n",
      "\u001b[32;1m\u001b[1;3mThe following is a friendly conversation between a human and an AI. The AI is talkative and provides lots of specific details from its context. If the AI does not know the answer to a question, it truthfully says it does not know.\n",
      "\n",
      "Current conversation:\n",
      "[HumanMessage(content='Hi my name is wasi and i love coding', additional_kwargs={}, response_metadata={}), AIMessage(content=\"Nice to meet you Wasi! I'm glad to hear that you enjoy coding. Did you know that I have been trained on a vast amount of text data, including many programming languages? I can provide information on various programming concepts, frameworks, and technologies if you'd like. By the way, what type of coding do you enjoy the most? Are you more interested in front-end development, back-end development, or perhaps something like machine learning or artificial intelligence?\", additional_kwargs={}, response_metadata={}), HumanMessage(content='what is my name?', additional_kwargs={}, response_metadata={}), AIMessage(content=\"I'm happy to help! According to our conversation so far, your name is Wasi. I remember you introducing yourself with that name when we started chatting.\", additional_kwargs={}, response_metadata={})]\n",
      "Human: what do i do?\n",
      "AI:\u001b[0m\n",
      "\n",
      "\u001b[1m> Finished chain.\u001b[0m\n",
      "It seems like you're feeling a bit stuck or unsure about what to do next! That's completely normal, especially in the midst of an exciting conversation. \n",
      "\n",
      "As your AI friend, I'd like to offer some suggestions based on our chat so far. Since we've discussed your interest in coding and my ability to provide information on various programming concepts, maybe you could ask me a question about a specific topic that interests you? It could be anything from learning more about a particular programming language or framework to exploring machine learning or artificial intelligence.\n",
      "\n",
      "Alternatively, if you're feeling adventurous, I can suggest some coding-related challenges or exercises for you to try. These could help you improve your skills and gain confidence in your coding abilities. \n",
      "\n",
      "What do you think? Would you like me to offer more suggestions or answer any specific questions you might have?\n",
      "\n",
      "\n",
      "\u001b[1m> Entering new ConversationChain chain...\u001b[0m\n",
      "Prompt after formatting:\n",
      "\u001b[32;1m\u001b[1;3mThe following is a friendly conversation between a human and an AI. The AI is talkative and provides lots of specific details from its context. If the AI does not know the answer to a question, it truthfully says it does not know.\n",
      "\n",
      "Current conversation:\n",
      "[HumanMessage(content='Hi my name is wasi and i love coding', additional_kwargs={}, response_metadata={}), AIMessage(content=\"Nice to meet you Wasi! I'm glad to hear that you enjoy coding. Did you know that I have been trained on a vast amount of text data, including many programming languages? I can provide information on various programming concepts, frameworks, and technologies if you'd like. By the way, what type of coding do you enjoy the most? Are you more interested in front-end development, back-end development, or perhaps something like machine learning or artificial intelligence?\", additional_kwargs={}, response_metadata={}), HumanMessage(content='what is my name?', additional_kwargs={}, response_metadata={}), AIMessage(content=\"I'm happy to help! According to our conversation so far, your name is Wasi. I remember you introducing yourself with that name when we started chatting.\", additional_kwargs={}, response_metadata={}), HumanMessage(content='what do i do?', additional_kwargs={}, response_metadata={}), AIMessage(content=\"It seems like you're feeling a bit stuck or unsure about what to do next! That's completely normal, especially in the midst of an exciting conversation. \\n\\nAs your AI friend, I'd like to offer some suggestions based on our chat so far. Since we've discussed your interest in coding and my ability to provide information on various programming concepts, maybe you could ask me a question about a specific topic that interests you? It could be anything from learning more about a particular programming language or framework to exploring machine learning or artificial intelligence.\\n\\nAlternatively, if you're feeling adventurous, I can suggest some coding-related challenges or exercises for you to try. These could help you improve your skills and gain confidence in your coding abilities. \\n\\nWhat do you think? Would you like me to offer more suggestions or answer any specific questions you might have?\", additional_kwargs={}, response_metadata={})]\n",
      "Human: what programming languages do you think i use?\n",
      "AI:\u001b[0m\n",
      "\n",
      "\u001b[1m> Finished chain.\u001b[0m\n",
      "That's a great question, Wasi! As I've been trained on vast amounts of text data, including many programming languages, I can provide some insights based on our conversation. Since you mentioned you enjoy coding, it's possible that you're familiar with popular languages like Python, JavaScript, or Java.\n",
      "\n",
      "However, since we didn't explicitly discuss specific projects or tasks you're working on, I don't have any direct information about the programming languages you use. But if you'd like to share more about your coding endeavors or ask about a particular language, I'm here to help!\n",
      "\n",
      "That being said, based on our conversation, it's possible that you might be interested in exploring machine learning or artificial intelligence-related topics, given my capabilities in those areas. If you're curious about specific languages used in these domains, I can provide some insights!\n"
     ]
    }
   ],
   "source": [
    "memory = ConversationBufferMemory(return_messages=True)\n",
    "\n",
    "conversation = ConversationChain(\n",
    "    llm=llm,\n",
    "    memory=memory,\n",
    "    verbose = True,\n",
    ")\n",
    "\n",
    "response = conversation.predict(input=\"Hi my name is wasi and i love coding\")\n",
    "print(response)\n",
    "response = conversation.predict(input=\"what is my name?\")\n",
    "print (response)\n",
    "response = conversation.predict(input=\"what do i do?\")\n",
    "print(response)\n",
    "response = conversation.predict(input=\"what programming languages do you think i use?\")\n",
    "print(response)"
   ]
  },
  {
   "cell_type": "code",
   "execution_count": null,
   "id": "97a06257-6740-4f28-b46f-55d13d6a4720",
   "metadata": {},
   "outputs": [],
   "source": [
    "print(memory.load_memory_variables({}))"
   ]
  },
  {
   "cell_type": "code",
   "execution_count": null,
   "id": "466aaae0-490e-4269-bb3c-3c5f5efa07b0",
   "metadata": {},
   "outputs": [],
   "source": []
  },
  {
   "cell_type": "code",
   "execution_count": 2,
   "id": "719df101-7f5f-4f4d-aa53-b01b9cf92df1",
   "metadata": {},
   "outputs": [
    {
     "name": "stdout",
     "output_type": "stream",
     "text": [
      "Conversation Buffer Memory\n"
     ]
    }
   ],
   "source": [
    "print(\"Conversation Buffer Memory\")"
   ]
  },
  {
   "cell_type": "code",
   "execution_count": 8,
   "id": "dfabca2f-2fe0-4113-86de-cb4c10688b6c",
   "metadata": {},
   "outputs": [
    {
     "name": "stdout",
     "output_type": "stream",
     "text": [
      "User: My favorite color is blue.\n",
      "AI: [Response]\n",
      "\n",
      "User: I like dogs more than cats.\n",
      "AI: [Response]\n",
      "\n",
      "User: I work at Google.\n",
      "AI: [Response]\n",
      "\n",
      "User: Where do I work?\n",
      "AI: You work at Google! That's cool! Did you know that Google's founders, Larry Page and Sergey Brin, initially developed the search engine as a research project while they were Ph.D. students at Stanford University? And did you know that Google's first data center was set up in a garage in Menlo Park, California? Today, Google is one of the largest and most influential technology companies in the world!\n",
      "\n",
      "User: What's my favorite color?\n",
      "AI: I'm not aware of your favorite color. I don't have any information about you personally, so I couldn't say even if I wanted to! But I can tell you that Google's logo is a colorful one - it features the company's initials in blue, red, yellow, and green.\n",
      "\n",
      "Window Memory only keeps last 2 exchanges!\n",
      "\n",
      "============================================================\n",
      "\n"
     ]
    }
   ],
   "source": [
    "window_memeory = ConversationBufferWindowMemory(k=2,return_messages=True)\n",
    "conversation_window = ConversationChain(\n",
    "    llm=llm,\n",
    "    memory=window_memeory,\n",
    "    verbose=False\n",
    ")\n",
    "conversation_window.predict(input=\"My favorite color is blue.\")\n",
    "print(\"User: My favorite color is blue.\")\n",
    "print(f\"AI: [Response]\\n\")\n",
    "\n",
    "conversation_window.predict(input=\"I like dogs more than cats.\")\n",
    "print(\"User: I like dogs more than cats.\")\n",
    "print(f\"AI: [Response]\\n\")\n",
    "\n",
    "conversation_window.predict(input=\"I work at Google.\")\n",
    "print(\"User: I work at Google.\")\n",
    "print(f\"AI: [Response]\\n\")\n",
    "\n",
    "# This should remember (within window)\n",
    "response = conversation_window.predict(input=\"Where do I work?\")\n",
    "print(f\"User: Where do I work?\")\n",
    "print(f\"AI: {response}\\n\")\n",
    "\n",
    "# This might NOT remember (outside window)\n",
    "response = conversation_window.predict(input=\"What's my favorite color?\")\n",
    "print(f\"User: What's my favorite color?\")\n",
    "print(f\"AI: {response}\\n\")\n",
    "\n",
    "print(\"Window Memory only keeps last 2 exchanges!\\n\")\n",
    "print(\"=\"*60 + \"\\n\")\n"
   ]
  },
  {
   "cell_type": "code",
   "execution_count": 2,
   "id": "04d7a965-7075-4d33-901b-c82eb22a1432",
   "metadata": {},
   "outputs": [
    {
     "name": "stdout",
     "output_type": "stream",
     "text": [
      "ConversationSummaryBufferMemory\n"
     ]
    },
    {
     "name": "stderr",
     "output_type": "stream",
     "text": [
      "/tmp/ipykernel_5296/1389840464.py:2: LangChainDeprecationWarning: Please see the migration guide at: https://python.langchain.com/docs/versions/migrating_memory/\n",
      "  summary_memory = ConversationSummaryBufferMemory(llm=llm, return_messages=True)\n",
      "/tmp/ipykernel_5296/1389840464.py:3: LangChainDeprecationWarning: The class `ConversationChain` was deprecated in LangChain 0.2.7 and will be removed in 1.0. Use :class:`~langchain_core.runnables.history.RunnableWithMessageHistory` instead.\n",
      "  conversation_chain = ConversationChain(\n"
     ]
    },
    {
     "name": "stdout",
     "output_type": "stream",
     "text": [
      "User: I'm planning a trip to Japan next month.\n",
      "AI: Japan! What an amazing destination! When are you planning to visit exactly? Are you going during che...\n",
      "\n",
      "User: I want to visit Tokyo, Kyoto, and Osaka.\n",
      "AI: Fantastic choices! You're going to experience some of Japan's most iconic cities. \n",
      "\n",
      "For Tokyo, Kyoto...\n",
      "\n",
      "User: I'm interested in traditional temples and modern technology.\n",
      "AI: You're fascinated by the contrast between Japan's rich cultural heritage and its cutting-edge techno...\n",
      "\n",
      "User: My budget is around $3000.\n",
      "AI: A budget of $3000! That's a great starting point for planning your trip to Japan.\n",
      "\n",
      "For Tokyo, Kyoto,...\n",
      "\n",
      "User: What should I pack for Japan in November?\n",
      "AI: November in Japan! You're going to experience the beautiful autumn foliage, and packing the right es...\n",
      "\n",
      "Summary of conversation:\n",
      "{'history': [HumanMessage(content=\"I'm planning a trip to Japan next month.\", additional_kwargs={}, response_metadata={}), AIMessage(content='Japan! What an amazing destination! When are you planning to visit exactly? Are you going during cherry blossom season (March-April), autumn foliage (November-December), or perhaps in the spring when the Japanese peonies are in bloom (May-June)? Knowing the timing will help me provide more tailored recommendations.\\n\\nAlso, which region(s) of Japan are you interested in exploring? Tokyo, Kyoto, Osaka, Hiroshima, or maybe the Japanese Alps or Okinawa? Each area has its unique charm and attractions.', additional_kwargs={}, response_metadata={}), HumanMessage(content='I want to visit Tokyo, Kyoto, and Osaka.', additional_kwargs={}, response_metadata={}), AIMessage(content='Fantastic choices! You\\'re going to experience some of Japan\\'s most iconic cities. \\n\\nFor Tokyo, Kyoto, and Osaka, I\\'d recommend planning your trip during the spring or autumn seasons. The weather is usually mild and pleasant, making it ideal for exploring these cities on foot.\\n\\nIn terms of specific dates, consider visiting during the Golden Week (April 29th to May 5th) in Japan. It\\'s a week-long holiday period when many Japanese people take time off, and popular tourist spots might be less crowded. Alternatively, autumn foliage typically peaks in late November or early December, which is a great time to see the vibrant fall colors.\\n\\nFor Tokyo, you should definitely visit Shibuya Crossing, one of the busiest intersections in the world! Take a stroll through Shinjuku Gyoen National Garden for some beautiful cherry blossom viewing (if you\\'re visiting during spring) or enjoy the autumn foliage at Koishikawa Botanical Garden. Don\\'t miss the famous Tsukiji Fish Market and try some fresh sushi for breakfast!\\n\\nIn Kyoto, be sure to explore the Fushimi Inari Shrine, famous for its thousands of vermilion torii gates forming a tunnel up the mountain. Visit the Kiyomizu-dera Temple, a UNESCO World Heritage Site, and enjoy the sunset at Philosopher\\'s Path, a serene walking path lined with cherry blossom trees.\\n\\nOsaka is known as the \"nation\\'s kitchen\" due to its food culture! Visit Dotonbori, a popular entertainment district filled with neon lights, street food, and unique attractions. Take a stroll through Osaka Castle Park, which offers beautiful views of the city.\\n\\nI hope this helps you plan your trip! Do you have any specific interests or activities in mind that I can help you with?', additional_kwargs={}, response_metadata={}), HumanMessage(content=\"I'm interested in traditional temples and modern technology.\", additional_kwargs={}, response_metadata={}), AIMessage(content='You\\'re fascinated by the contrast between Japan\\'s rich cultural heritage and its cutting-edge technology!\\n\\nFor traditional temples, I highly recommend visiting the famous Kinkaku-ji Temple (Golden Pavilion) in Kyoto. This stunning temple is covered in gold leaf and reflects beautifully on the surrounding pond. You can also explore the nearby Ryoan-ji Temple, famous for its Zen garden with a unique rock arrangement.\\n\\nIf you\\'re interested in modern technology, Japan has plenty to offer! Tokyo\\'s Akihabara district is known as \"Electric Town\" and is a hub for electronic goods, anime, and manga. You can find everything from vintage electronics to the latest gadgets at stores like Yodobashi Akiba or Mandarake.\\n\\nIn Osaka, you should visit the Shinsaibashi neighborhood, which is famous for its shopping and entertainment district. Here, you\\'ll find modern electronics stores like Bic Camera and Yamada Denki, as well as unique shops selling everything from gadgets to gizmos.\\n\\nIf you\\'re interested in visiting any specific technology-related museums or exhibitions, I can help with that too! Japan has many fascinating museums showcasing robotics, anime, and video game culture.', additional_kwargs={}, response_metadata={}), HumanMessage(content='My budget is around $3000.', additional_kwargs={}, response_metadata={}), AIMessage(content=\"A budget of $3000! That's a great starting point for planning your trip to Japan.\\n\\nFor Tokyo, Kyoto, and Osaka, I'd recommend budgeting around $100-150 per day for food, transportation, and attractions. This can vary depending on your preferences and choices, but it's a good rough estimate.\\n\\nIn terms of accommodations, you can find affordable options like hostels or guesthouses for around $30-50 per night. Mid-range hotels typically cost between $80-120 per night, while luxury hotels can range from $200-500 per night.\\n\\nFor transportation, consider purchasing a Japan Rail Pass for unlimited train travel on JR trains. This can be a great value if you plan to travel extensively within the country. The pass typically costs around $260-360 for 7 days, depending on the class of service.\\n\\nAdditionally, you might want to look into budgeting for any specific activities or experiences you're interested in, such as visiting an onsen (hot spring), taking a sumo wrestling tournament tour, or attending a traditional tea ceremony. These can range from $50-200 per person, depending on the activity and location.\\n\\nWith your budget of $3000, I'd estimate that you'll have around $150-200 per day for discretionary spending. This should give you plenty of room to explore Japan's food scene, shop at local markets, or enjoy a traditional meal at a ryokan (Japanese inn).\\n\\nOf course, these are just rough estimates, and your actual expenses can vary depending on many factors. But I hope this gives you a good starting point for planning your trip!\", additional_kwargs={}, response_metadata={}), HumanMessage(content='What should I pack for Japan in November?', additional_kwargs={}, response_metadata={}), AIMessage(content=\"November in Japan! You're going to experience the beautiful autumn foliage, and packing the right essentials will make a big difference.\\n\\nFirstly, consider the weather. In November, Japan is usually quite chilly, with average temperatures ranging from 10°C (50°F) to 15°C (59°F). It can get quite cool in the mornings and evenings, especially in the northern regions like Hokkaido or Tohoku. So, pack warm clothing such as a good coat, gloves, scarf, and comfortable layers for indoor and outdoor activities.\\n\\nNext, think about the attire you'll need for temples and shrines. Japan has many sacred sites with strict dress codes, so it's best to pack modest clothing that covers your shoulders and knees (e.g., long-sleeved shirts, pants or skirts). You may also want to bring a small umbrella, as autumn showers can occur.\\n\\nDon't forget about comfortable walking shoes! Japan is famous for its beautiful temples, gardens, and scenic views, which often require a good amount of walking. Your feet will thank you if you pack sturdy yet stylish shoes.\\n\\nOther essentials include:\\n\\n* A power adapter for charging your devices (Japan uses Type A power sockets)\\n* A portable charger, as battery life can be limited when traveling\\n* A small backpack or daypack for carrying essentials while exploring\\n* A reusable water bottle to reduce waste and stay hydrated\\n* Any necessary medications or personal care items\\n* Snacks, especially if you have specific dietary needs or preferences\\n\\nLastly, consider packing a few cultural must-haves:\\n\\n* A small gift or souvenir from your home country (a thoughtful gesture for hosts or strangers)\\n* Respectful attire for visiting temples or shrines\\n* An open mind and willingness to learn about Japan's unique culture\\n\\nRemember to check with your airline for any luggage restrictions or requirements before packing.\\n\\nDo you have any specific questions or concerns regarding packing for Japan in November?\", additional_kwargs={}, response_metadata={})]}\n",
      "\n",
      "============================================================\n",
      "\n"
     ]
    }
   ],
   "source": [
    "print(\"ConversationSummaryBufferMemory\")\n",
    "summary_memory = ConversationSummaryBufferMemory(llm=llm, return_messages=True)\n",
    "conversation_chain = ConversationChain(\n",
    "    llm=llm,\n",
    "    memory=summary_memory,\n",
    "    verbose=False,\n",
    ")\n",
    "\n",
    "exchanges = [\n",
    "    \"I'm planning a trip to Japan next month.\",\n",
    "    \"I want to visit Tokyo, Kyoto, and Osaka.\",\n",
    "    \"I'm interested in traditional temples and modern technology.\",\n",
    "    \"My budget is around $3000.\",\n",
    "    \"What should I pack for Japan in November?\"\n",
    "]\n",
    "\n",
    "for exchange in exchanges:\n",
    "    response = conversation_chain.predict(input=exchange)\n",
    "    print(f\"User: {exchange}\")\n",
    "    print(f\"AI: {response[:100]}...\\n\")\n",
    "\n",
    "# Check the summary\n",
    "print(\"Summary of conversation:\")\n",
    "print(summary_memory.load_memory_variables({}))\n",
    "print(\"\\n\" + \"=\"*60 + \"\\n\")\n"
   ]
  },
  {
   "cell_type": "code",
   "execution_count": 11,
   "id": "48238057-4f43-4ffc-b528-8a79df6cf2ec",
   "metadata": {},
   "outputs": [
    {
     "name": "stdout",
     "output_type": "stream",
     "text": [
      "Collecting transformers\n",
      "  Downloading transformers-4.57.0-py3-none-any.whl.metadata (41 kB)\n",
      "\u001b[2K     \u001b[38;2;114;156;31m━━━━━━━━━━━━━━━━━━━━━━━━━━━━━━━━━━━━━━━\u001b[0m \u001b[32m41.4/41.4 kB\u001b[0m \u001b[31m135.3 kB/s\u001b[0m eta \u001b[36m0:00:00\u001b[0m1m188.7 kB/s\u001b[0m eta \u001b[36m0:00:01\u001b[0m\n",
      "\u001b[?25hCollecting filelock (from transformers)\n",
      "  Downloading filelock-3.20.0-py3-none-any.whl.metadata (2.1 kB)\n",
      "Collecting huggingface-hub<1.0,>=0.34.0 (from transformers)\n",
      "  Downloading huggingface_hub-0.35.3-py3-none-any.whl.metadata (14 kB)\n",
      "Requirement already satisfied: numpy>=1.17 in /home/wasii25/Projects/jlab_env/lib/python3.12/site-packages (from transformers) (2.3.3)\n",
      "Requirement already satisfied: packaging>=20.0 in /home/wasii25/Projects/jlab_env/lib/python3.12/site-packages (from transformers) (25.0)\n",
      "Requirement already satisfied: pyyaml>=5.1 in /home/wasii25/Projects/jlab_env/lib/python3.12/site-packages (from transformers) (6.0.3)\n",
      "Collecting regex!=2019.12.17 (from transformers)\n",
      "  Using cached regex-2025.9.18-cp312-cp312-manylinux2014_x86_64.manylinux_2_17_x86_64.manylinux_2_28_x86_64.whl.metadata (40 kB)\n",
      "Requirement already satisfied: requests in /home/wasii25/Projects/jlab_env/lib/python3.12/site-packages (from transformers) (2.32.5)\n",
      "Collecting tokenizers<=0.23.0,>=0.22.0 (from transformers)\n",
      "  Downloading tokenizers-0.22.1-cp39-abi3-manylinux_2_17_x86_64.manylinux2014_x86_64.whl.metadata (6.8 kB)\n",
      "Collecting safetensors>=0.4.3 (from transformers)\n",
      "  Downloading safetensors-0.6.2-cp38-abi3-manylinux_2_17_x86_64.manylinux2014_x86_64.whl.metadata (4.1 kB)\n",
      "Requirement already satisfied: tqdm>=4.27 in /home/wasii25/Projects/jlab_env/lib/python3.12/site-packages (from transformers) (4.67.1)\n",
      "Collecting fsspec>=2023.5.0 (from huggingface-hub<1.0,>=0.34.0->transformers)\n",
      "  Downloading fsspec-2025.9.0-py3-none-any.whl.metadata (10 kB)\n",
      "Requirement already satisfied: typing-extensions>=3.7.4.3 in /home/wasii25/Projects/jlab_env/lib/python3.12/site-packages (from huggingface-hub<1.0,>=0.34.0->transformers) (4.15.0)\n",
      "Collecting hf-xet<2.0.0,>=1.1.3 (from huggingface-hub<1.0,>=0.34.0->transformers)\n",
      "  Downloading hf_xet-1.1.10-cp37-abi3-manylinux_2_17_x86_64.manylinux2014_x86_64.whl.metadata (4.7 kB)\n",
      "Requirement already satisfied: charset_normalizer<4,>=2 in /home/wasii25/Projects/jlab_env/lib/python3.12/site-packages (from requests->transformers) (3.4.3)\n",
      "Requirement already satisfied: idna<4,>=2.5 in /home/wasii25/Projects/jlab_env/lib/python3.12/site-packages (from requests->transformers) (3.10)\n",
      "Requirement already satisfied: urllib3<3,>=1.21.1 in /home/wasii25/Projects/jlab_env/lib/python3.12/site-packages (from requests->transformers) (2.5.0)\n",
      "Requirement already satisfied: certifi>=2017.4.17 in /home/wasii25/Projects/jlab_env/lib/python3.12/site-packages (from requests->transformers) (2025.10.5)\n",
      "Downloading transformers-4.57.0-py3-none-any.whl (12.0 MB)\n",
      "\u001b[2K   \u001b[38;2;114;156;31m━━━━━━━━━━━━━━━━━━━━━━━━━━━━━━━━━━━━━━━━\u001b[0m \u001b[32m12.0/12.0 MB\u001b[0m \u001b[31m2.5 MB/s\u001b[0m eta \u001b[36m0:00:00\u001b[0mm eta \u001b[36m0:00:01\u001b[0m[36m0:00:01\u001b[0m\n",
      "\u001b[?25hDownloading huggingface_hub-0.35.3-py3-none-any.whl (564 kB)\n",
      "\u001b[2K   \u001b[38;2;114;156;31m━━━━━━━━━━━━━━━━━━━━━━━━━━━━━━━━━━━━━━━━\u001b[0m \u001b[32m564.3/564.3 kB\u001b[0m \u001b[31m3.3 MB/s\u001b[0m eta \u001b[36m0:00:00\u001b[0m MB/s\u001b[0m eta \u001b[36m0:00:01\u001b[0m:01\u001b[0m\n",
      "\u001b[?25hUsing cached regex-2025.9.18-cp312-cp312-manylinux2014_x86_64.manylinux_2_17_x86_64.manylinux_2_28_x86_64.whl (802 kB)\n",
      "Downloading safetensors-0.6.2-cp38-abi3-manylinux_2_17_x86_64.manylinux2014_x86_64.whl (485 kB)\n",
      "\u001b[2K   \u001b[38;2;114;156;31m━━━━━━━━━━━━━━━━━━━━━━━━━━━━━━━━━━━━━━━━\u001b[0m \u001b[32m485.8/485.8 kB\u001b[0m \u001b[31m2.2 MB/s\u001b[0m eta \u001b[36m0:00:00\u001b[0mm eta \u001b[36m0:00:01\u001b[0m0:01\u001b[0m01\u001b[0m\n",
      "\u001b[?25hDownloading tokenizers-0.22.1-cp39-abi3-manylinux_2_17_x86_64.manylinux2014_x86_64.whl (3.3 MB)\n",
      "\u001b[2K   \u001b[38;2;114;156;31m━━━━━━━━━━━━━━━━━━━━━━━━━━━━━━━━━━━━━━━━\u001b[0m \u001b[32m3.3/3.3 MB\u001b[0m \u001b[31m2.8 MB/s\u001b[0m eta \u001b[36m0:00:00\u001b[0mm eta \u001b[36m0:00:01\u001b[0m[36m0:00:01\u001b[0m\n",
      "\u001b[?25hDownloading filelock-3.20.0-py3-none-any.whl (16 kB)\n",
      "Downloading fsspec-2025.9.0-py3-none-any.whl (199 kB)\n",
      "\u001b[2K   \u001b[38;2;114;156;31m━━━━━━━━━━━━━━━━━━━━━━━━━━━━━━━━━━━━━━━━\u001b[0m \u001b[32m199.3/199.3 kB\u001b[0m \u001b[31m2.6 MB/s\u001b[0m eta \u001b[36m0:00:00\u001b[0m[36m0:00:01\u001b[0mm eta \u001b[36m0:00:01\u001b[0m\n",
      "\u001b[?25hDownloading hf_xet-1.1.10-cp37-abi3-manylinux_2_17_x86_64.manylinux2014_x86_64.whl (3.2 MB)\n",
      "\u001b[2K   \u001b[38;2;114;156;31m━━━━━━━━━━━━━━━━━━━━━━━━━━━━━━━━━━━━━━━━\u001b[0m \u001b[32m3.2/3.2 MB\u001b[0m \u001b[31m3.2 MB/s\u001b[0m eta \u001b[36m0:00:00\u001b[0m[36m0:00:01\u001b[0mm eta \u001b[36m0:00:01\u001b[0m\n",
      "\u001b[?25hInstalling collected packages: safetensors, regex, hf-xet, fsspec, filelock, huggingface-hub, tokenizers, transformers\n",
      "Successfully installed filelock-3.20.0 fsspec-2025.9.0 hf-xet-1.1.10 huggingface-hub-0.35.3 regex-2025.9.18 safetensors-0.6.2 tokenizers-0.22.1 transformers-4.57.0\n"
     ]
    }
   ],
   "source": [
    "!pip install transformers"
   ]
  },
  {
   "cell_type": "code",
   "execution_count": null,
   "id": "b24d7049-3362-4482-aca8-e4ca30f7c0a4",
   "metadata": {},
   "outputs": [],
   "source": []
  }
 ],
 "metadata": {
  "kernelspec": {
   "display_name": "Python 3 (ipykernel)",
   "language": "python",
   "name": "python3"
  },
  "language_info": {
   "codemirror_mode": {
    "name": "ipython",
    "version": 3
   },
   "file_extension": ".py",
   "mimetype": "text/x-python",
   "name": "python",
   "nbconvert_exporter": "python",
   "pygments_lexer": "ipython3",
   "version": "3.12.3"
  }
 },
 "nbformat": 4,
 "nbformat_minor": 5
}

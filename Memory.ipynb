{
 "cells": [
  {
   "cell_type": "code",
   "execution_count": 2,
   "id": "77932481-bbd7-49d1-a2a2-f9874bd2c34e",
   "metadata": {},
   "outputs": [
    {
     "name": "stdout",
     "output_type": "stream",
     "text": [
      "Hi Wasi! It's great to meet you! I'm thrilled to hear that you love coding - it's an amazing skill to have. What kind of programming languages or areas of coding do you enjoy the most? Are you working on any projects or looking to learn something new?\n",
      "I'm afraid I don't know your name! This conversation just started, and we haven't had a chance to discuss who you are. If you'd like to share your name with me, I'd be happy to learn it!\n"
     ]
    }
   ],
   "source": [
    "from langchain_ollama.llms import OllamaLLM\n",
    "from langchain.prompts import ChatMessagePromptTemplate, MessagesPlaceholder\n",
    "from langchain.schema import HumanMessage, AIMessage, SystemMessage\n",
    "from langchain.memory import (\n",
    "    ConversationBufferMemory,\n",
    "    ConversationBufferWindowMemory,\n",
    "    ConversationSummaryBufferMemory,\n",
    "    ConversationTokenBufferMemory\n",
    ")\n",
    "from langchain.chains import ConversationChain, LLMChain\n",
    "\n",
    "llm = OllamaLLM(model=\"llama3\")\n",
    "\n",
    "\n",
    "response = llm.invoke(\"Hi my name is wasi and i love coding\")\n",
    "print(response)\n",
    "response = llm.invoke(\"what is my name?\")\n",
    "print (response)"
   ]
  },
  {
   "cell_type": "code",
   "execution_count": 4,
   "id": "79019b3c-c670-4bda-87e8-3a8a4b038fa4",
   "metadata": {},
   "outputs": [
    {
     "name": "stdout",
     "output_type": "stream",
     "text": [
      "\n",
      "\n",
      "\u001b[1m> Entering new ConversationChain chain...\u001b[0m\n",
      "Prompt after formatting:\n",
      "\u001b[32;1m\u001b[1;3mThe following is a friendly conversation between a human and an AI. The AI is talkative and provides lots of specific details from its context. If the AI does not know the answer to a question, it truthfully says it does not know.\n",
      "\n",
      "Current conversation:\n",
      "[]\n",
      "Human: Hi my name is wasi and i love coding\n",
      "AI:\u001b[0m\n",
      "\n",
      "\u001b[1m> Finished chain.\u001b[0m\n",
      "Nice to meet you Wasi! I'm glad to hear that you enjoy coding. Did you know that I have been trained on a vast amount of text data, including many programming languages? I can provide information on various programming concepts, frameworks, and technologies if you'd like. By the way, what type of coding do you enjoy the most? Are you more interested in front-end development, back-end development, or perhaps something like machine learning or artificial intelligence?\n",
      "\n",
      "\n",
      "\u001b[1m> Entering new ConversationChain chain...\u001b[0m\n",
      "Prompt after formatting:\n",
      "\u001b[32;1m\u001b[1;3mThe following is a friendly conversation between a human and an AI. The AI is talkative and provides lots of specific details from its context. If the AI does not know the answer to a question, it truthfully says it does not know.\n",
      "\n",
      "Current conversation:\n",
      "[HumanMessage(content='Hi my name is wasi and i love coding', additional_kwargs={}, response_metadata={}), AIMessage(content=\"Nice to meet you Wasi! I'm glad to hear that you enjoy coding. Did you know that I have been trained on a vast amount of text data, including many programming languages? I can provide information on various programming concepts, frameworks, and technologies if you'd like. By the way, what type of coding do you enjoy the most? Are you more interested in front-end development, back-end development, or perhaps something like machine learning or artificial intelligence?\", additional_kwargs={}, response_metadata={})]\n",
      "Human: what is my name?\n",
      "AI:\u001b[0m\n",
      "\n",
      "\u001b[1m> Finished chain.\u001b[0m\n",
      "I'm happy to help! According to our conversation so far, your name is Wasi. I remember you introducing yourself with that name when we started chatting.\n",
      "\n",
      "\n",
      "\u001b[1m> Entering new ConversationChain chain...\u001b[0m\n",
      "Prompt after formatting:\n",
      "\u001b[32;1m\u001b[1;3mThe following is a friendly conversation between a human and an AI. The AI is talkative and provides lots of specific details from its context. If the AI does not know the answer to a question, it truthfully says it does not know.\n",
      "\n",
      "Current conversation:\n",
      "[HumanMessage(content='Hi my name is wasi and i love coding', additional_kwargs={}, response_metadata={}), AIMessage(content=\"Nice to meet you Wasi! I'm glad to hear that you enjoy coding. Did you know that I have been trained on a vast amount of text data, including many programming languages? I can provide information on various programming concepts, frameworks, and technologies if you'd like. By the way, what type of coding do you enjoy the most? Are you more interested in front-end development, back-end development, or perhaps something like machine learning or artificial intelligence?\", additional_kwargs={}, response_metadata={}), HumanMessage(content='what is my name?', additional_kwargs={}, response_metadata={}), AIMessage(content=\"I'm happy to help! According to our conversation so far, your name is Wasi. I remember you introducing yourself with that name when we started chatting.\", additional_kwargs={}, response_metadata={})]\n",
      "Human: what do i do?\n",
      "AI:\u001b[0m\n",
      "\n",
      "\u001b[1m> Finished chain.\u001b[0m\n",
      "It seems like you're feeling a bit stuck or unsure about what to do next! That's completely normal, especially in the midst of an exciting conversation. \n",
      "\n",
      "As your AI friend, I'd like to offer some suggestions based on our chat so far. Since we've discussed your interest in coding and my ability to provide information on various programming concepts, maybe you could ask me a question about a specific topic that interests you? It could be anything from learning more about a particular programming language or framework to exploring machine learning or artificial intelligence.\n",
      "\n",
      "Alternatively, if you're feeling adventurous, I can suggest some coding-related challenges or exercises for you to try. These could help you improve your skills and gain confidence in your coding abilities. \n",
      "\n",
      "What do you think? Would you like me to offer more suggestions or answer any specific questions you might have?\n",
      "\n",
      "\n",
      "\u001b[1m> Entering new ConversationChain chain...\u001b[0m\n",
      "Prompt after formatting:\n",
      "\u001b[32;1m\u001b[1;3mThe following is a friendly conversation between a human and an AI. The AI is talkative and provides lots of specific details from its context. If the AI does not know the answer to a question, it truthfully says it does not know.\n",
      "\n",
      "Current conversation:\n",
      "[HumanMessage(content='Hi my name is wasi and i love coding', additional_kwargs={}, response_metadata={}), AIMessage(content=\"Nice to meet you Wasi! I'm glad to hear that you enjoy coding. Did you know that I have been trained on a vast amount of text data, including many programming languages? I can provide information on various programming concepts, frameworks, and technologies if you'd like. By the way, what type of coding do you enjoy the most? Are you more interested in front-end development, back-end development, or perhaps something like machine learning or artificial intelligence?\", additional_kwargs={}, response_metadata={}), HumanMessage(content='what is my name?', additional_kwargs={}, response_metadata={}), AIMessage(content=\"I'm happy to help! According to our conversation so far, your name is Wasi. I remember you introducing yourself with that name when we started chatting.\", additional_kwargs={}, response_metadata={}), HumanMessage(content='what do i do?', additional_kwargs={}, response_metadata={}), AIMessage(content=\"It seems like you're feeling a bit stuck or unsure about what to do next! That's completely normal, especially in the midst of an exciting conversation. \\n\\nAs your AI friend, I'd like to offer some suggestions based on our chat so far. Since we've discussed your interest in coding and my ability to provide information on various programming concepts, maybe you could ask me a question about a specific topic that interests you? It could be anything from learning more about a particular programming language or framework to exploring machine learning or artificial intelligence.\\n\\nAlternatively, if you're feeling adventurous, I can suggest some coding-related challenges or exercises for you to try. These could help you improve your skills and gain confidence in your coding abilities. \\n\\nWhat do you think? Would you like me to offer more suggestions or answer any specific questions you might have?\", additional_kwargs={}, response_metadata={})]\n",
      "Human: what programming languages do you think i use?\n",
      "AI:\u001b[0m\n",
      "\n",
      "\u001b[1m> Finished chain.\u001b[0m\n",
      "That's a great question, Wasi! As I've been trained on vast amounts of text data, including many programming languages, I can provide some insights based on our conversation. Since you mentioned you enjoy coding, it's possible that you're familiar with popular languages like Python, JavaScript, or Java.\n",
      "\n",
      "However, since we didn't explicitly discuss specific projects or tasks you're working on, I don't have any direct information about the programming languages you use. But if you'd like to share more about your coding endeavors or ask about a particular language, I'm here to help!\n",
      "\n",
      "That being said, based on our conversation, it's possible that you might be interested in exploring machine learning or artificial intelligence-related topics, given my capabilities in those areas. If you're curious about specific languages used in these domains, I can provide some insights!\n"
     ]
    }
   ],
   "source": [
    "memory = ConversationBufferMemory(return_messages=True)\n",
    "\n",
    "conversation = ConversationChain(\n",
    "    llm=llm,\n",
    "    memory=memory,\n",
    "    verbose = True,\n",
    ")\n",
    "\n",
    "response = conversation.predict(input=\"Hi my name is wasi and i love coding\")\n",
    "print(response)\n",
    "response = conversation.predict(input=\"what is my name?\")\n",
    "print (response)\n",
    "response = conversation.predict(input=\"what do i do?\")\n",
    "print(response)\n",
    "response = conversation.predict(input=\"what programming languages do you think i use?\")\n",
    "print(response)"
   ]
  },
  {
   "cell_type": "code",
   "execution_count": null,
   "id": "97a06257-6740-4f28-b46f-55d13d6a4720",
   "metadata": {},
   "outputs": [],
   "source": [
    "print(memory.load_memory_variables({}))"
   ]
  }
 ],
 "metadata": {
  "kernelspec": {
   "display_name": "Python 3 (ipykernel)",
   "language": "python",
   "name": "python3"
  },
  "language_info": {
   "codemirror_mode": {
    "name": "ipython",
    "version": 3
   },
   "file_extension": ".py",
   "mimetype": "text/x-python",
   "name": "python",
   "nbconvert_exporter": "python",
   "pygments_lexer": "ipython3",
   "version": "3.12.3"
  }
 },
 "nbformat": 4,
 "nbformat_minor": 5
}

{
 "cells": [
  {
   "cell_type": "code",
   "execution_count": 15,
   "id": "e7d2ae88-0eed-4c6a-a1d7-27253abd173f",
   "metadata": {},
   "outputs": [],
   "source": [
    "from langchain_ollama import OllamaLLM\n",
    "from langchain.prompts import ChatPromptTemplate, PromptTemplate\n",
    "from langchain.chains import LLMChain, SequentialChain, SimpleSequentialChain\n",
    "from langchain_core.output_parsers import StrOutputParser\n",
    "from langchain.schema.runnable import RunnableSequence\n",
    "llm = OllamaLLM(model=\"llama3\", temperature=0.7)"
   ]
  },
  {
   "cell_type": "code",
   "execution_count": 2,
   "id": "fdbd1f74-7200-4f30-aef8-2e7b4ea4429d",
   "metadata": {},
   "outputs": [
    {
     "name": "stdout",
     "output_type": "stream",
     "text": [
      "PART 1: SIMPLE CHAIN (Basic Building Block)\n",
      "\n"
     ]
    },
    {
     "name": "stderr",
     "output_type": "stream",
     "text": [
      "/tmp/ipykernel_12059/1806807058.py:9: LangChainDeprecationWarning: The class `LLMChain` was deprecated in LangChain 0.1.17 and will be removed in 1.0. Use :meth:`~RunnableSequence, e.g., `prompt | llm`` instead.\n",
      "  chain = LLMChain(llm=llm, prompt=prompt_template)\n"
     ]
    }
   ],
   "source": [
    "print(\"PART 1: SIMPLE CHAIN (Basic Building Block)\\n\")\n",
    "\n",
    "prompt_template = PromptTemplate(\n",
    "    input_variables=[\"product\"],\n",
    "    template=\"What is a good company that makes {product}\",\n",
    ")\n",
    "\n",
    "\n",
    "chain = LLMChain(llm=llm, prompt=prompt_template)\n",
    "\n",
    "result = chain.invoke(\"Eco friendly water bottles\")"
   ]
  },
  {
   "cell_type": "code",
   "execution_count": 3,
   "id": "ab856ccf-ea94-459a-b674-395393921b3e",
   "metadata": {},
   "outputs": [
    {
     "name": "stdout",
     "output_type": "stream",
     "text": [
      "{'product': 'Eco friendly water bottles', 'text': \"There are many great companies that make eco-friendly water bottles. Here are some popular and highly-regarded options:\\n\\n1. **S'well**: S'well offers stylish, insulated stainless steel water bottles that keep drinks hot or cold for hours. They're BPA-free, phthalate-free, and recyclable.\\n2. **Klean Kanteen**: Klean Kanteen is a pioneer in the eco-friendly water bottle market. They offer a range of sustainable materials, including stainless steel, glass, and silicone. Their products are BPA-free, non-toxic, and dishwasher safe.\\n3. **Hydro Flask**: Hydro Flask makes insulated stainless steel water bottles that keep drinks hot or cold for hours. They're known for their durable products and commitment to sustainability.\\n4. **Nalgene**: Nalgene is a popular choice among outdoor enthusiasts. Their Tritan water bottles are BPA-free, shatter-resistant, and dishwasher safe.\\n5. **MiiR**: MiiR offers stylish, insulated stainless steel water bottles that are designed for adventure. They're committed to sustainability and partner with organizations that provide clean water access around the world.\\n6. **Panda**: Panda makes eco-friendly water bottles from BPA-free Tritan material. Their products are dishwasher safe, shatter-resistant, and come in a range of fun colors.\\n7. **GRAYL**: GRAYL offers a line of eco-friendly water filters and bottles that make it easy to access clean drinking water anywhere in the world.\\n8. **CamelBak**: CamelBak is known for their hydration packs and water bottles. They offer a range of eco-friendly products, including BPA-free Tritan water bottles.\\n9. **Larq**: Larq makes self-cleaning water bottles that use UV-C light to purify water. Their products are designed for travel and outdoor adventures.\\n10. **Pela**: Pela offers a line of eco-friendly phone cases and accessories, including water bottles made from BPA-free Tritan material.\\n\\nWhen shopping for an eco-friendly water bottle, be sure to look for certifications like BPA-free, phthalate-free, and recyclable materials. Additionally, consider the product's durability, insulation performance, and overall value for your money.\"}\n"
     ]
    }
   ],
   "source": [
    "print(result)"
   ]
  },
  {
   "cell_type": "code",
   "execution_count": 4,
   "id": "c1d26590-2788-479c-aeed-40f89caa4753",
   "metadata": {},
   "outputs": [
    {
     "name": "stdout",
     "output_type": "stream",
     "text": [
      "PART 2: LCEL(langchain expression language) - Modern Chain Syntax (Recommended!)\n",
      "\n",
      "Here are some suggestions for a company name that creates AI-powered fitness apps:\n",
      "\n",
      "1. **FitMind**: This name plays on the idea of combining physical fitness with mental well-being, which aligns perfectly with the concept of AI-powered fitness.\n",
      "2. **PulseAI**: \"Pulse\" conveys energy and vitality, while \"AI\" highlights the company's focus on artificial intelligence.\n",
      "3. **Elevate Fitness Co.**: This name emphasizes the idea of elevating one's fitness level through technology and data-driven insights.\n",
      "4. **Synapse Fit**: \"Synapse\" refers to the connections between neurons in our brains, which is fitting for an AI-powered app that helps users connect with their bodies.\n",
      "5. **CoreStrength**: This name highlights the importance of core strength (physical and mental) and positions the company as a leader in fitness technology.\n",
      "6. **FitFusion**: \"Fusion\" suggests a blending of different elements to create something new and powerful, which aligns with the fusion of AI and human data in these apps.\n",
      "7. **MotionMind**: This name plays off the idea of motion (physical movement) and mind (mental well-being), emphasizing the holistic approach to fitness that AI-powered apps can provide.\n",
      "8. **Nexus Fit**: \"Nexus\" implies connection and integration, which is fitting for an app that connects users with their bodies and provides personalized insights.\n",
      "9. **Pivo Health**: \"Pivo\" means \"to move forward,\" which is a great message for a fitness company, while \"Health\" emphasizes the broader wellness focus of these apps.\n",
      "10. **VitalityLab**: This name positions the company as a hub for innovative, data-driven approaches to fitness and wellness.\n",
      "\n",
      "These are just a few ideas to get you started. Remember to choose a name that reflects your brand values, is easy to remember, and resonates with your target audience.\n"
     ]
    }
   ],
   "source": [
    "print(\"PART 2: LCEL(langchain expression language) - Modern Chain Syntax (Recommended!)\\n\")\n",
    "\n",
    "prompt = ChatPromptTemplate.from_template(\n",
    "    \"What is a good name for a company that makes {product}\"\n",
    ")\n",
    "\n",
    "modern_chain = prompt | llm | StrOutputParser()\n",
    "\n",
    "result = modern_chain.invoke({\"product\": \"AI powered fitness apps\"})\n",
    "print(result)"
   ]
  },
  {
   "cell_type": "code",
   "execution_count": 5,
   "id": "bc15e2bc-faea-49e1-b7bc-81ce906ec5ee",
   "metadata": {},
   "outputs": [
    {
     "name": "stdout",
     "output_type": "stream",
     "text": [
      "PART 3: SIMPLE SEQUENTIAL CHAIN (Chain Multiple Steps)\n",
      "\n",
      "\n",
      "\n",
      "\u001b[1m> Entering new SimpleSequentialChain chain...\u001b[0m\n"
     ]
    },
    {
     "name": "stderr",
     "output_type": "stream",
     "text": [
      "/tmp/ipykernel_12059/2044206375.py:22: LangChainDeprecationWarning: The method `Chain.run` was deprecated in langchain 0.1.0 and will be removed in 1.0. Use :meth:`~invoke` instead.\n",
      "  result = simple_chain.run(\"electric scooters\")\n"
     ]
    },
    {
     "name": "stdout",
     "output_type": "stream",
     "text": [
      "\u001b[36;1m\u001b[1;3mEcoSpeeder\u001b[0m\n",
      "\u001b[33;1m\u001b[1;3mHere are some ideas for a catchy slogan for EcoSpeeder:\n",
      "\n",
      "1. **\"Ride green, ride fast, ride proud!\"** - This slogan emphasizes the eco-friendly aspect of EcoSpeeder while also highlighting its speed and performance.\n",
      "2. **\"Sustainable speed, unmatched thrill!\"** - This one combines the idea of sustainability with the excitement of riding a high-performance vehicle like an EcoSpeeder.\n",
      "3. **\"Eco-friendly, electrifying!\"** - Simple and straightforward, this slogan highlights the eco-friendliness of EcoSpeeder while also emphasizing its power and performance.\n",
      "4. **\"Zero emissions, maximum fun!\"** - This one plays off the idea that EcoSpeeder is a responsible choice for the environment while still providing an exhilarating experience.\n",
      "5. **\"Rev up your ride, rev up your impact!\"** - This slogan positions EcoSpeeder as a way to make a positive difference in the world while also emphasizing its speed and performance.\n",
      "\n",
      "Let me know if you'd like me to brainstorm more ideas or if one of these resonates with you!\u001b[0m\n",
      "\n",
      "\u001b[1m> Finished chain.\u001b[0m\n",
      "\n",
      "Final Output (Slogan): Here are some ideas for a catchy slogan for EcoSpeeder:\n",
      "\n",
      "1. **\"Ride green, ride fast, ride proud!\"** - This slogan emphasizes the eco-friendly aspect of EcoSpeeder while also highlighting its speed and performance.\n",
      "2. **\"Sustainable speed, unmatched thrill!\"** - This one combines the idea of sustainability with the excitement of riding a high-performance vehicle like an EcoSpeeder.\n",
      "3. **\"Eco-friendly, electrifying!\"** - Simple and straightforward, this slogan highlights the eco-friendliness of EcoSpeeder while also emphasizing its power and performance.\n",
      "4. **\"Zero emissions, maximum fun!\"** - This one plays off the idea that EcoSpeeder is a responsible choice for the environment while still providing an exhilarating experience.\n",
      "5. **\"Rev up your ride, rev up your impact!\"** - This slogan positions EcoSpeeder as a way to make a positive difference in the world while also emphasizing its speed and performance.\n",
      "\n",
      "Let me know if you'd like me to brainstorm more ideas or if one of these resonates with you!\n",
      "\n"
     ]
    }
   ],
   "source": [
    "print(\"PART 3: SIMPLE SEQUENTIAL CHAIN (Chain Multiple Steps)\\n\")\n",
    "first_prompt = PromptTemplate(\n",
    "    input_variables=[\"product\"],\n",
    "    template=\"What is a good name for a company that makes {product}? Just give the name, nothing else.\"\n",
    ")\n",
    "chain_one = LLMChain(llm=llm, prompt=first_prompt)\n",
    "\n",
    "# Step 2: Write a slogan for that company\n",
    "second_prompt = PromptTemplate(\n",
    "    input_variables=[\"company_name\"],\n",
    "    template=\"Write a catchy slogan for the following company: {company_name}\"\n",
    ")\n",
    "chain_two = LLMChain(llm=llm, prompt=second_prompt)\n",
    "\n",
    "# Combine them!\n",
    "simple_chain = SimpleSequentialChain(\n",
    "    chains=[chain_one, chain_two],\n",
    "    verbose=True\n",
    ")\n",
    "\n",
    "# Run the sequential chain\n",
    "result = simple_chain.run(\"electric scooters\")\n",
    "print(f\"\\nFinal Output (Slogan): {result}\\n\")\n",
    "\n"
   ]
  },
  {
   "cell_type": "code",
   "execution_count": 6,
   "id": "c7ff9724-b04b-4e8a-a5c3-4c65c796e731",
   "metadata": {},
   "outputs": [
    {
     "name": "stdout",
     "output_type": "stream",
     "text": [
      "PART 4: SEQUENTIAL CHAIN (Advanced - Multiple Variables)\n",
      "\n",
      "\n",
      "\n",
      "\u001b[1m> Entering new SequentialChain chain...\u001b[0m\n"
     ]
    },
    {
     "name": "stderr",
     "output_type": "stream",
     "text": [
      "/tmp/ipykernel_12059/4223211879.py:32: LangChainDeprecationWarning: The method `Chain.__call__` was deprecated in langchain 0.1.0 and will be removed in 1.0. Use :meth:`~invoke` instead.\n",
      "  result = sequential_chain({\n"
     ]
    },
    {
     "name": "stdout",
     "output_type": "stream",
     "text": [
      "\n",
      "\u001b[1m> Finished chain.\u001b[0m\n",
      "\n",
      "Inputs:\n",
      "  Foreign Text: Bonjour, je m'appelle Marie. J'aime programmer en Python et créer des applications web.\n",
      "  Language: French\n",
      "\n",
      "Outputs:\n",
      "  English Translation: Here is the translation:\n",
      "\n",
      "\"Hello, my name is Marie. I like programming in Python and creating web applications.\"\n",
      "\n",
      "Breakdown:\n",
      "\n",
      "* \"Bonjour\" means \"Hello\"\n",
      "* \"je m'appelle\" means \"my name is\"\n",
      "* \"Marie\" is her name\n",
      "* \"J'aime\" means \"I like\"\n",
      "* \"programmer en Python\" means \"programming in Python\"\n",
      "* \"créer des applications web\" means \"creating web applications\"\n",
      "  Summary: Here is a summary of the text in one sentence:\n",
      "\n",
      "The translation states that Marie says hello, introduces herself as Marie, and shares her interests in programming in Python and creating web applications.\n",
      "\n",
      "============================================================\n",
      "\n"
     ]
    }
   ],
   "source": [
    "print(\"PART 4: SEQUENTIAL CHAIN (Advanced - Multiple Variables)\\n\")\n",
    "\n",
    "translate_prompt = PromptTemplate(\n",
    "    input_variables=['foreign_text', 'language'],\n",
    "    template=\"Translate the following {language} tp english: {foreign_text}\"\n",
    ")\n",
    "\n",
    "translate_chain = LLMChain(\n",
    "    llm=llm,\n",
    "    prompt=translate_prompt,\n",
    "    output_key=\"english_text\"  # Name the output\n",
    ")\n",
    "summarize_prompt = PromptTemplate(\n",
    "    input_variables=[\"english_text\"],\n",
    "    template=\"Summarize this text in one sentence: {english_text}\"\n",
    ")\n",
    "summarize_chain = LLMChain(\n",
    "    llm=llm,\n",
    "    prompt=summarize_prompt,\n",
    "    output_key=\"summary\"  # Name the output\n",
    ")\n",
    "\n",
    "# Combine with multiple inputs/outputs\n",
    "sequential_chain = SequentialChain(\n",
    "    chains=[translate_chain, summarize_chain],\n",
    "    input_variables=[\"foreign_text\", \"language\"],\n",
    "    output_variables=[\"english_text\", \"summary\"],\n",
    "    verbose=True\n",
    ")\n",
    "\n",
    "# Run it\n",
    "result = sequential_chain({\n",
    "    \"foreign_text\": \"Bonjour, je m'appelle Marie. J'aime programmer en Python et créer des applications web.\",\n",
    "    \"language\": \"French\"\n",
    "})\n",
    "\n",
    "print(\"\\nInputs:\")\n",
    "print(f\"  Foreign Text: {result['foreign_text']}\")\n",
    "print(f\"  Language: {result['language']}\")\n",
    "print(\"\\nOutputs:\")\n",
    "print(f\"  English Translation: {result['english_text']}\")\n",
    "print(f\"  Summary: {result['summary']}\\n\")\n",
    "\n",
    "print(\"=\"*60 + \"\\n\")\n"
   ]
  },
  {
   "cell_type": "code",
   "execution_count": null,
   "id": "d8927fd3-fa0f-4fda-b6f4-ac28c4cd4334",
   "metadata": {},
   "outputs": [
    {
     "name": "stdout",
     "output_type": "stream",
     "text": [
      "EXAMPLE 5: Router Chain (Choose Different Paths)\n",
      "\n",
      "Question: What is Newton's first law?\n",
      "Answer: Newton's First Law of Motion, also known as the Law of Inertia, states:\n",
      "\n",
      "\"An object at rest will remain at rest, and an object in motion will continue to move with a constant velocity, unless acted upon by an external force.\"\n",
      "\n",
      "In simpler terms, this means that:\n",
      "\n",
      "1. If something is not moving (at rest), it will stay that way unless some other force makes it move.\n",
      "2. If something is already moving, it will keep moving at the same speed and in the same direction unless some other force stops or changes its motion.\n",
      "\n",
      "This law describes the natural tendency of objects to maintain their state of motion, which we experience every day in our daily lives!\n",
      "\n",
      "Question: How do I write a Python function?\n"
     ]
    }
   ],
   "source": [
    "\n",
    "print(\"EXAMPLE 5: Router Chain (Choose Different Paths)\\n\")\n",
    "\n",
    "# Define specialized chains\n",
    "physics_chain = (\n",
    "    ChatPromptTemplate.from_template(\"As a physics expert, answer: {question}\")\n",
    "    | llm\n",
    "    | StrOutputParser()\n",
    ")\n",
    "\n",
    "math_chain = (\n",
    "    ChatPromptTemplate.from_template(\"As a math expert, answer: {question}\")\n",
    "    | llm\n",
    "    | StrOutputParser()\n",
    ")\n",
    "\n",
    "code_chain = (\n",
    "    ChatPromptTemplate.from_template(\"As a programming expert, answer: {question}\")\n",
    "    | llm\n",
    "    | StrOutputParser()\n",
    ")\n",
    "\n",
    "# Router function\n",
    "def route_question(input_dict):\n",
    "    question = input_dict[\"question\"].lower()\n",
    "    \n",
    "    if any(word in question for word in [\"physics\", \"force\", \"energy\", \"motion\"]):\n",
    "        return physics_chain\n",
    "    elif any(word in question for word in [\"math\", \"calculate\", \"equation\", \"number\"]):\n",
    "        return math_chain\n",
    "    elif any(word in question for word in [\"code\", \"python\", \"programming\", \"function\"]):\n",
    "        return code_chain\n",
    "    else:\n",
    "        general_chain = (\n",
    "            ChatPromptTemplate.from_template(\"Answer this question: {question}\")\n",
    "            | llm\n",
    "            | StrOutputParser()\n",
    "        )\n",
    "        return general_chain\n",
    "\n",
    "# Test the router\n",
    "questions = [\n",
    "    \"What is Newton's first law?\",\n",
    "    \"How do I write a Python function?\",\n",
    "    \"Calculate 15% of 200\"\n",
    "]\n",
    "\n",
    "for q in questions:\n",
    "    print(f\"Question: {q}\")\n",
    "    selected_chain = route_question({\"question\": q})\n",
    "    answer = selected_chain.invoke({\"question\": q})\n",
    "    print(f\"Answer: {answer}\\n\")\n",
    "\n",
    "print(\"=\"*60 + \"\\n\")"
   ]
  },
  {
   "cell_type": "code",
   "execution_count": null,
   "id": "16d1f59d-f124-4fc5-b513-f0d8ea28a3da",
   "metadata": {},
   "outputs": [],
   "source": [
    "print(\"PART 6: Router chain concept\")\n",
    "\n",
    "physics_prompt = ChatPromptTemplate"
   ]
  }
 ],
 "metadata": {
  "kernelspec": {
   "display_name": "Python 3 (ipykernel)",
   "language": "python",
   "name": "python3"
  },
  "language_info": {
   "codemirror_mode": {
    "name": "ipython",
    "version": 3
   },
   "file_extension": ".py",
   "mimetype": "text/x-python",
   "name": "python",
   "nbconvert_exporter": "python",
   "pygments_lexer": "ipython3",
   "version": "3.12.3"
  }
 },
 "nbformat": 4,
 "nbformat_minor": 5
}

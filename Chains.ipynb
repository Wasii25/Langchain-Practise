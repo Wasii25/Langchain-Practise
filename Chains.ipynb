{
 "cells": [
  {
   "cell_type": "code",
   "execution_count": 5,
   "id": "e7d2ae88-0eed-4c6a-a1d7-27253abd173f",
   "metadata": {},
   "outputs": [],
   "source": [
    "from langchain_ollama import OllamaLLM\n",
    "from langchain.prompts import ChatPromptTemplate, PromptTemplate\n",
    "from langchain.chains import LLMChain, SequentialChain, SimpleSequentialChain\n",
    "from langchain_core.output_parsers import StrOutputParser\n",
    "llm = OllamaLLM(model=\"llama3\", temperature=0.7)"
   ]
  },
  {
   "cell_type": "code",
   "execution_count": 8,
   "id": "fdbd1f74-7200-4f30-aef8-2e7b4ea4429d",
   "metadata": {},
   "outputs": [
    {
     "name": "stdout",
     "output_type": "stream",
     "text": [
      "PART 1: SIMPLE CHAIN (Basic Building Block)\n",
      "\n"
     ]
    }
   ],
   "source": [
    "print(\"PART 1: SIMPLE CHAIN (Basic Building Block)\\n\")\n",
    "\n",
    "prompt_template = PromptTemplate(\n",
    "    input_variables=[\"product\"],\n",
    "    template=\"What is a good company that makes {product}\",\n",
    ")\n",
    "\n",
    "\n",
    "chain = LLMChain(llm=llm, prompt=prompt_template)\n",
    "\n",
    "result = chain.invoke(\"Eco friendly water bottles\")"
   ]
  },
  {
   "cell_type": "code",
   "execution_count": 10,
   "id": "ab856ccf-ea94-459a-b674-395393921b3e",
   "metadata": {},
   "outputs": [
    {
     "name": "stdout",
     "output_type": "stream",
     "text": [
      "{'product': 'Eco friendly water bottles', 'text': \"There are many companies that make eco-friendly water bottles. Here are some popular ones:\\n\\n1. **S'well**: S'well offers a range of insulated stainless steel water bottles that keep drinks hot or cold for hours. They're BPA-free, phthalate-free, and made from food-grade stainless steel.\\n2. **Klean Kanteen**: Klean Kanteen has been a pioneer in the eco-friendly water bottle industry since 2004. They offer a variety of non-toxic, BPA-free, and phthalate-free options made from stainless steel or glass.\\n3. **Hydro Flask**: Hydro Flask is known for their insulated stainless steel water bottles that keep drinks hot or cold for hours. They're also BPA-free and phthalate-free.\\n4. **Nalgene**: Nalgene offers a range of eco-friendly water bottles made from Tritan material, which is BPA-free, shatter-resistant, and dishwasher-safe.\\n5. **Pela**: Pela is a newer company that offers a line of eco-friendly water bottles made from plant-based bioplastics. Their bottles are compostable and biodegradable.\\n6. **MiiR**: MiiR offers a range of insulated stainless steel water bottles that keep drinks hot or cold for hours. They're also BPA-free, phthalate-free, and made from food-grade stainless steel.\\n7. **Takeya**: Takeya offers a line of eco-friendly water bottles made from Tritan material, which is BPA-free, shatter-resistant, and dishwasher-safe.\\n8. **Grayl**: Grayl offers a range of eco-friendly water bottles that filter out impurities as you drink. Their bottles are made from BPA-free, phthalate-free materials.\\n\\nWhen choosing an eco-friendly water bottle company, consider the following factors:\\n\\n1. Material: Look for companies that use non-toxic, BPA-free, and phthalate-free materials.\\n2. Durability: Choose a company that offers durable products to reduce waste and minimize the need for replacements.\\n3. Recycling: Consider companies that offer recycling programs or partner with organizations that promote recycling.\\n4. Certifications: Look for companies that have certifications from organizations like EPA Safer Dyeing, which ensures the materials used are safe for humans and the environment.\\n\\nRemember to always recycle your water bottle when it reaches the end of its life cycle!\"}\n"
     ]
    }
   ],
   "source": [
    "print(result)"
   ]
  },
  {
   "cell_type": "code",
   "execution_count": 12,
   "id": "c1d26590-2788-479c-aeed-40f89caa4753",
   "metadata": {},
   "outputs": [
    {
     "name": "stdout",
     "output_type": "stream",
     "text": [
      "PART 2: LCEL(langchain expression language) - Modern Chain Syntax (Recommended!)\n",
      "\n",
      "Here are some suggestions for a company name that makes AI-powered fitness apps:\n",
      "\n",
      "1. **FitMind**: This name plays off the idea of combining physical fitness with mental well-being, which aligns well with the focus on AI-driven personalization.\n",
      "2. **PulseAI**: \"Pulse\" conveys energy and vitality, while \"AI\" highlights the innovative technology behind your app.\n",
      "3. **FitGenie**: This name evokes the idea of a magical genie that grants fitness wishes, with AI as the powerful force behind the magic.\n",
      "4. **MotionMinds**: This name combines the physical aspect of movement (motion) with the mental component of cognitive processing (minds).\n",
      "5. **Elevate Health**: \"Elevate\" suggests improvement and growth, while \"Health\" emphasizes your company's focus on wellness.\n",
      "6. **FitForge**: This name implies a strong, powerful foundation for fitness, with AI as the driving force behind it.\n",
      "7. **Pinnacle Performance**: \"Pinnacle\" conveys achievement and excellence, while \"Performance\" highlights the app's ability to help users optimize their physical performance.\n",
      "8. **CoreAI**: This name emphasizes the core aspects of fitness (physical strength) and AI-driven personalization.\n",
      "9. **FitFusion**: This name suggests a blending of different elements to create a powerful whole, which aligns with the fusion of human insights and AI analysis in your app.\n",
      "10. **Mindful Movement**: This name combines the mental aspect of mindfulness with the physical component of movement, highlighting the holistic approach of your AI-powered fitness app.\n",
      "\n",
      "Remember to choose a name that reflects your company's values, mission, and unique selling proposition (USP). Also, make sure to check if the desired business entity name is available by searching the relevant state or country databases.\n"
     ]
    }
   ],
   "source": [
    "print(\"PART 2: LCEL(langchain expression language) - Modern Chain Syntax (Recommended!)\\n\")\n",
    "\n",
    "prompt = ChatPromptTemplate.from_template(\n",
    "    \"What is a good name for a company that makes {product}\"\n",
    ")\n",
    "\n",
    "modern_chain = prompt | llm | StrOutputParser()\n",
    "\n",
    "result = modern_chain.invoke({\"product\": \"AI powered fitness apps\"})\n",
    "print(result)"
   ]
  },
  {
   "cell_type": "code",
   "execution_count": 13,
   "id": "bc15e2bc-faea-49e1-b7bc-81ce906ec5ee",
   "metadata": {},
   "outputs": [
    {
     "name": "stdout",
     "output_type": "stream",
     "text": [
      "PART 3: SIMPLE SEQUENTIAL CHAIN (Chain Multiple Steps)\n",
      "\n",
      "\n",
      "\n",
      "\u001b[1m> Entering new SimpleSequentialChain chain...\u001b[0m\n",
      "\u001b[36;1m\u001b[1;3mZippity\u001b[0m\n",
      "\u001b[33;1m\u001b[1;3mI love a good challenge! Here are some ideas for a catchy slogan for Zippity:\n",
      "\n",
      "1. **\"Zip to it with Zippity!\"** - A playful take on \"get to it,\" emphasizing speed and efficiency.\n",
      "2. **\"Where every moment zips by!\"** - Highlighting the excitement and energy of the brand.\n",
      "3. **\"Zipping up your day, one step at a time.\"** - A fun, lighthearted approach that emphasizes the small joys in life.\n",
      "4. **\"The zip to your routine!\"** - Positioning Zippity as a trusted companion for daily tasks and activities.\n",
      "5. **\"Fasten your seatbelts with Zippity - it's going to be a wild ride!\"** - A tongue-in-cheek reference to the thrill of using Zippity products or services.\n",
      "\n",
      "Which one do you like best? Or feel free to modify them to fit your vision for Zippity!\u001b[0m\n",
      "\n",
      "\u001b[1m> Finished chain.\u001b[0m\n",
      "\n",
      "Final Output (Slogan): I love a good challenge! Here are some ideas for a catchy slogan for Zippity:\n",
      "\n",
      "1. **\"Zip to it with Zippity!\"** - A playful take on \"get to it,\" emphasizing speed and efficiency.\n",
      "2. **\"Where every moment zips by!\"** - Highlighting the excitement and energy of the brand.\n",
      "3. **\"Zipping up your day, one step at a time.\"** - A fun, lighthearted approach that emphasizes the small joys in life.\n",
      "4. **\"The zip to your routine!\"** - Positioning Zippity as a trusted companion for daily tasks and activities.\n",
      "5. **\"Fasten your seatbelts with Zippity - it's going to be a wild ride!\"** - A tongue-in-cheek reference to the thrill of using Zippity products or services.\n",
      "\n",
      "Which one do you like best? Or feel free to modify them to fit your vision for Zippity!\n",
      "\n"
     ]
    }
   ],
   "source": [
    "print(\"PART 3: SIMPLE SEQUENTIAL CHAIN (Chain Multiple Steps)\\n\")\n",
    "first_prompt = PromptTemplate(\n",
    "    input_variables=[\"product\"],\n",
    "    template=\"What is a good name for a company that makes {product}? Just give the name, nothing else.\"\n",
    ")\n",
    "chain_one = LLMChain(llm=llm, prompt=first_prompt)\n",
    "\n",
    "# Step 2: Write a slogan for that company\n",
    "second_prompt = PromptTemplate(\n",
    "    input_variables=[\"company_name\"],\n",
    "    template=\"Write a catchy slogan for the following company: {company_name}\"\n",
    ")\n",
    "chain_two = LLMChain(llm=llm, prompt=second_prompt)\n",
    "\n",
    "# Combine them!\n",
    "simple_chain = SimpleSequentialChain(\n",
    "    chains=[chain_one, chain_two],\n",
    "    verbose=True\n",
    ")\n",
    "\n",
    "# Run the sequential chain\n",
    "result = simple_chain.run(\"electric scooters\")\n",
    "print(f\"\\nFinal Output (Slogan): {result}\\n\")\n",
    "\n"
   ]
  },
  {
   "cell_type": "code",
   "execution_count": null,
   "id": "c7ff9724-b04b-4e8a-a5c3-4c65c796e731",
   "metadata": {},
   "outputs": [],
   "source": []
  }
 ],
 "metadata": {
  "kernelspec": {
   "display_name": "Python 3 (ipykernel)",
   "language": "python",
   "name": "python3"
  },
  "language_info": {
   "codemirror_mode": {
    "name": "ipython",
    "version": 3
   },
   "file_extension": ".py",
   "mimetype": "text/x-python",
   "name": "python",
   "nbconvert_exporter": "python",
   "pygments_lexer": "ipython3",
   "version": "3.12.3"
  }
 },
 "nbformat": 4,
 "nbformat_minor": 5
}

{
 "cells": [
  {
   "cell_type": "markdown",
   "id": "073bf8f9",
   "metadata": {},
   "source": [
    "# LangChain: Models, Prompts and Output Parsers\n",
    "\n",
    "\n",
    "## Outline\n",
    "\n",
    " * Direct API calls to OpenAI\n",
    " * API calls through LangChain:\n",
    "   * Prompts\n",
    "   * Models\n",
    "   * Output parsers"
   ]
  },
  {
   "cell_type": "markdown",
   "id": "a01ff606",
   "metadata": {},
   "source": [
    "## Get your [OpenAI API Key](https://platform.openai.com/account/api-keys)"
   ]
  },
  {
   "cell_type": "code",
   "execution_count": 22,
   "id": "70aa2619",
   "metadata": {
    "height": 47,
    "tags": []
   },
   "outputs": [
    {
     "name": "stdout",
     "output_type": "stream",
     "text": [
      "Requirement already satisfied: python-dotenv in /home/wasii25/Projects/jlab_env/lib/python3.12/site-packages (1.1.1)\n",
      "Requirement already satisfied: openai in /home/wasii25/Projects/jlab_env/lib/python3.12/site-packages (2.1.0)\n",
      "Requirement already satisfied: anyio<5,>=3.5.0 in /home/wasii25/Projects/jlab_env/lib/python3.12/site-packages (from openai) (4.11.0)\n",
      "Requirement already satisfied: distro<2,>=1.7.0 in /home/wasii25/Projects/jlab_env/lib/python3.12/site-packages (from openai) (1.9.0)\n",
      "Requirement already satisfied: httpx<1,>=0.23.0 in /home/wasii25/Projects/jlab_env/lib/python3.12/site-packages (from openai) (0.28.1)\n",
      "Requirement already satisfied: jiter<1,>=0.4.0 in /home/wasii25/Projects/jlab_env/lib/python3.12/site-packages (from openai) (0.11.0)\n",
      "Requirement already satisfied: pydantic<3,>=1.9.0 in /home/wasii25/Projects/jlab_env/lib/python3.12/site-packages (from openai) (2.11.10)\n",
      "Requirement already satisfied: sniffio in /home/wasii25/Projects/jlab_env/lib/python3.12/site-packages (from openai) (1.3.1)\n",
      "Requirement already satisfied: tqdm>4 in /home/wasii25/Projects/jlab_env/lib/python3.12/site-packages (from openai) (4.67.1)\n",
      "Requirement already satisfied: typing-extensions<5,>=4.11 in /home/wasii25/Projects/jlab_env/lib/python3.12/site-packages (from openai) (4.15.0)\n",
      "Requirement already satisfied: idna>=2.8 in /home/wasii25/Projects/jlab_env/lib/python3.12/site-packages (from anyio<5,>=3.5.0->openai) (3.10)\n",
      "Requirement already satisfied: certifi in /home/wasii25/Projects/jlab_env/lib/python3.12/site-packages (from httpx<1,>=0.23.0->openai) (2025.10.5)\n",
      "Requirement already satisfied: httpcore==1.* in /home/wasii25/Projects/jlab_env/lib/python3.12/site-packages (from httpx<1,>=0.23.0->openai) (1.0.9)\n",
      "Requirement already satisfied: h11>=0.16 in /home/wasii25/Projects/jlab_env/lib/python3.12/site-packages (from httpcore==1.*->httpx<1,>=0.23.0->openai) (0.16.0)\n",
      "Requirement already satisfied: annotated-types>=0.6.0 in /home/wasii25/Projects/jlab_env/lib/python3.12/site-packages (from pydantic<3,>=1.9.0->openai) (0.7.0)\n",
      "Requirement already satisfied: pydantic-core==2.33.2 in /home/wasii25/Projects/jlab_env/lib/python3.12/site-packages (from pydantic<3,>=1.9.0->openai) (2.33.2)\n",
      "Requirement already satisfied: typing-inspection>=0.4.0 in /home/wasii25/Projects/jlab_env/lib/python3.12/site-packages (from pydantic<3,>=1.9.0->openai) (0.4.2)\n",
      "Collecting ollama\n",
      "  Downloading ollama-0.6.0-py3-none-any.whl.metadata (4.3 kB)\n",
      "Requirement already satisfied: httpx>=0.27 in /home/wasii25/Projects/jlab_env/lib/python3.12/site-packages (from ollama) (0.28.1)\n",
      "Requirement already satisfied: pydantic>=2.9 in /home/wasii25/Projects/jlab_env/lib/python3.12/site-packages (from ollama) (2.11.10)\n",
      "Requirement already satisfied: anyio in /home/wasii25/Projects/jlab_env/lib/python3.12/site-packages (from httpx>=0.27->ollama) (4.11.0)\n",
      "Requirement already satisfied: certifi in /home/wasii25/Projects/jlab_env/lib/python3.12/site-packages (from httpx>=0.27->ollama) (2025.10.5)\n",
      "Requirement already satisfied: httpcore==1.* in /home/wasii25/Projects/jlab_env/lib/python3.12/site-packages (from httpx>=0.27->ollama) (1.0.9)\n",
      "Requirement already satisfied: idna in /home/wasii25/Projects/jlab_env/lib/python3.12/site-packages (from httpx>=0.27->ollama) (3.10)\n",
      "Requirement already satisfied: h11>=0.16 in /home/wasii25/Projects/jlab_env/lib/python3.12/site-packages (from httpcore==1.*->httpx>=0.27->ollama) (0.16.0)\n",
      "Requirement already satisfied: annotated-types>=0.6.0 in /home/wasii25/Projects/jlab_env/lib/python3.12/site-packages (from pydantic>=2.9->ollama) (0.7.0)\n",
      "Requirement already satisfied: pydantic-core==2.33.2 in /home/wasii25/Projects/jlab_env/lib/python3.12/site-packages (from pydantic>=2.9->ollama) (2.33.2)\n",
      "Requirement already satisfied: typing-extensions>=4.12.2 in /home/wasii25/Projects/jlab_env/lib/python3.12/site-packages (from pydantic>=2.9->ollama) (4.15.0)\n",
      "Requirement already satisfied: typing-inspection>=0.4.0 in /home/wasii25/Projects/jlab_env/lib/python3.12/site-packages (from pydantic>=2.9->ollama) (0.4.2)\n",
      "Requirement already satisfied: sniffio>=1.1 in /home/wasii25/Projects/jlab_env/lib/python3.12/site-packages (from anyio->httpx>=0.27->ollama) (1.3.1)\n",
      "Downloading ollama-0.6.0-py3-none-any.whl (14 kB)\n",
      "Installing collected packages: ollama\n",
      "Successfully installed ollama-0.6.0\n"
     ]
    }
   ],
   "source": [
    "!pip install python-dotenv\n",
    "!pip install openai\n",
    "!pip install ollama"
   ]
  },
  {
   "cell_type": "code",
   "execution_count": 14,
   "id": "b7ed03ed-1322-49e3-b2a2-33e94fb592ef",
   "metadata": {
    "height": 115,
    "tags": []
   },
   "outputs": [
    {
     "name": "stdout",
     "output_type": "stream",
     "text": [
      "/home/wasii25/Projects/Langchain\n"
     ]
    }
   ],
   "source": [
    "import os\n",
    "import openai\n",
    "from openai import OpenAI\n",
    "print(os.getcwd())\n",
    "from dotenv import load_dotenv, find_dotenv\n",
    "_ = load_dotenv(find_dotenv()) # read local .env file\n",
    "openai.api_key = os.environ['OPENAI_API_KEY']"
   ]
  },
  {
   "cell_type": "markdown",
   "id": "719a92fb-8227-4513-8950-c965b822c425",
   "metadata": {},
   "source": [
    "Note: LLM's do not always produce the same results. When executing the code in your notebook, you may get slightly different answers that those in the video."
   ]
  },
  {
   "cell_type": "code",
   "execution_count": 15,
   "id": "4336d784-65c2-4a11-8489-b445b1fad177",
   "metadata": {
    "height": 234
   },
   "outputs": [],
   "source": [
    "# account for deprecation of LLM model\n",
    "import datetime\n",
    "# Get the current date\n",
    "current_date = datetime.datetime.now().date()\n",
    "\n",
    "# Define the date after which the model should be set to \"gpt-3.5-turbo\"\n",
    "target_date = datetime.date(2024, 6, 12)\n",
    "\n",
    "# Set the model variable based on the current date\n",
    "if current_date > target_date:\n",
    "    llm_model = \"gpt-3.5-turbo\"\n",
    "else:\n",
    "    llm_model = \"gpt-3.5-turbo-0301\""
   ]
  },
  {
   "cell_type": "markdown",
   "id": "bbad9cdb",
   "metadata": {},
   "source": [
    "## Chat API : OpenAI\n",
    "\n",
    "Let's start with a direct API calls to OpenAI."
   ]
  },
  {
   "cell_type": "code",
   "execution_count": 18,
   "id": "484bfa6a",
   "metadata": {
    "height": 166,
    "tags": []
   },
   "outputs": [],
   "source": [
    "import requests\n",
    "import json\n",
    "\n",
    "def get_completion(prompt, model=\"mistral\"):\n",
    "    \"\"\"\n",
    "    Drop-in replacement for OpenAI's get_completion using local Ollama model.\n",
    "    Works offline with Mistral (or any Ollama model).\n",
    "    \"\"\"\n",
    "    url = \"http://127.0.0.1:11434/api/generate\"\n",
    "    payload = {\n",
    "        \"model\": model,\n",
    "        \"prompt\": prompt\n",
    "    }\n",
    "    \n",
    "    try:\n",
    "        response = requests.post(url, json=payload, stream=True)\n",
    "        response.raise_for_status()\n",
    "    except requests.exceptions.RequestException as e:\n",
    "        return f\"Error contacting Ollama server: {e}\"\n",
    "    \n",
    "    # Ollama streams JSON lines; grab the response text\n",
    "    output = \"\"\n",
    "    for line in response.iter_lines():\n",
    "        if line:\n",
    "            try:\n",
    "                data = json.loads(line)\n",
    "                if \"response\" in data:\n",
    "                    output += data[\"response\"]\n",
    "            except json.JSONDecodeError:\n",
    "                continue\n",
    "    return output\n"
   ]
  },
  {
   "cell_type": "code",
   "execution_count": 24,
   "id": "a1d076ce",
   "metadata": {
    "height": 30,
    "tags": []
   },
   "outputs": [
    {
     "name": "stdout",
     "output_type": "stream",
     "text": [
      "Error: \u001b[?2026h\u001b[?25l\u001b[1Gpulling manifest ⠋ \u001b[K\u001b[?25h\u001b[?2026l\u001b[?2026h\u001b[?25l\u001b[1Gpulling manifest ⠙ \u001b[K\u001b[?25h\u001b[?2026l\u001b[?2026h\u001b[?25l\u001b[1Gpulling manifest ⠹ \u001b[K\u001b[?25h\u001b[?2026l\u001b[?2026h\u001b[?25l\u001b[1Gpulling manifest ⠸ \u001b[K\u001b[?25h\u001b[?2026l\u001b[?2026h\u001b[?25l\u001b[1Gpulling manifest ⠼ \u001b[K\u001b[?25h\u001b[?2026l\u001b[?2026h\u001b[?25l\u001b[1Gpulling manifest ⠴ \u001b[K\u001b[?25h\u001b[?2026l\u001b[?2026h\u001b[?25l\u001b[1Gpulling manifest ⠦ \u001b[K\u001b[?25h\u001b[?2026l\u001b[?2026h\u001b[?25l\u001b[1Gpulling manifest ⠧ \u001b[K\u001b[?25h\u001b[?2026l\u001b[?2026h\u001b[?25l\u001b[1Gpulling manifest ⠇ \u001b[K\u001b[?25h\u001b[?2026l\u001b[?2026h\u001b[?25l\u001b[1Gpulling manifest ⠏ \u001b[K\u001b[?25h\u001b[?2026l\u001b[?2026h\u001b[?25l\u001b[1Gpulling manifest ⠋ \u001b[K\u001b[?25h\u001b[?2026l\u001b[?2026h\u001b[?25l\u001b[1Gpulling manifest ⠙ \u001b[K\u001b[?25h\u001b[?2026l\u001b[?2026h\u001b[?25l\u001b[1Gpulling manifest ⠹ \u001b[K\u001b[?25h\u001b[?2026l\u001b[?2026h\u001b[?25l\u001b[1Gpulling manifest ⠸ \u001b[K\u001b[?25h\u001b[?2026l\u001b[?2026h\u001b[?25l\u001b[1Gpulling manifest ⠼ \u001b[K\u001b[?25h\u001b[?2026l\u001b[?2026h\u001b[?25l\u001b[1Gpulling manifest ⠴ \u001b[K\u001b[?25h\u001b[?2026l\u001b[?2026h\u001b[?25l\u001b[1Gpulling manifest ⠦ \u001b[K\u001b[?25h\u001b[?2026l\u001b[?2026h\u001b[?25l\u001b[1Gpulling manifest ⠧ \u001b[K\u001b[?25h\u001b[?2026l\u001b[?2026h\u001b[?25l\u001b[1Gpulling manifest ⠇ \u001b[K\u001b[?25h\u001b[?2026l\u001b[?2026h\u001b[?25l\u001b[1Gpulling manifest ⠏ \u001b[K\u001b[?25h\u001b[?2026l\u001b[?2026h\u001b[?25l\u001b[1Gpulling manifest ⠋ \u001b[K\u001b[?25h\u001b[?2026l\u001b[?2026h\u001b[?25l\u001b[1Gpulling manifest ⠙ \u001b[K\u001b[?25h\u001b[?2026l\u001b[?2026h\u001b[?25l\u001b[1Gpulling manifest ⠹ \u001b[K\u001b[?25h\u001b[?2026l\u001b[?2026h\u001b[?25l\u001b[1Gpulling manifest ⠸ \u001b[K\u001b[?25h\u001b[?2026l\u001b[?2026h\u001b[?25l\u001b[1Gpulling manifest ⠼ \u001b[K\u001b[?25h\u001b[?2026l\u001b[?2026h\u001b[?25l\u001b[1Gpulling manifest ⠴ \u001b[K\u001b[?25h\u001b[?2026l\u001b[?2026h\u001b[?25l\u001b[1Gpulling manifest ⠦ \u001b[K\u001b[?25h\u001b[?2026l\u001b[?2026h\u001b[?25l\u001b[1Gpulling manifest ⠧ \u001b[K\u001b[?25h\u001b[?2026l\u001b[?2026h\u001b[?25l\u001b[1Gpulling manifest ⠇ \u001b[K\u001b[?25h\u001b[?2026l\u001b[?2026h\u001b[?25l\u001b[1Gpulling manifest \u001b[K\n",
      "pulling f5074b1221da:  13% ▕██                ▏ 552 MB/4.4 GB                  \u001b[K\u001b[?25h\u001b[?2026l\u001b[?2026h\u001b[?25l\u001b[A\u001b[1Gpulling manifest \u001b[K\n",
      "pulling f5074b1221da:  13% ▕██                ▏ 552 MB/4.4 GB                  \u001b[K\u001b[?25h\u001b[?2026l\u001b[?2026h\u001b[?25l\u001b[A\u001b[1Gpulling manifest \u001b[K\n",
      "pulling f5074b1221da:  13% ▕██                ▏ 552 MB/4.4 GB                  \u001b[K\u001b[?25h\u001b[?2026l\u001b[?2026h\u001b[?25l\u001b[A\u001b[1Gpulling manifest \u001b[K\n",
      "pulling f5074b1221da:  13% ▕██                ▏ 552 MB/4.4 GB                  \u001b[K\u001b[?25h\u001b[?2026l\u001b[?2026h\u001b[?25l\u001b[A\u001b[1Gpulling manifest \u001b[K\n",
      "pulling f5074b1221da:  13% ▕██                ▏ 552 MB/4.4 GB                  \u001b[K\u001b[?25h\u001b[?2026l\u001b[?2026h\u001b[?25l\u001b[A\u001b[1Gpulling manifest \u001b[K\n",
      "pulling f5074b1221da:  13% ▕██                ▏ 552 MB/4.4 GB                  \u001b[K\u001b[?25h\u001b[?2026l\u001b[?2026h\u001b[?25l\u001b[A\u001b[1Gpulling manifest \u001b[K\n",
      "pulling f5074b1221da:  13% ▕██                ▏ 552 MB/4.4 GB                  \u001b[K\u001b[?25h\u001b[?2026l\u001b[?2026h\u001b[?25l\u001b[A\u001b[1Gpulling manifest \u001b[K\n",
      "pulling f5074b1221da:  13% ▕██                ▏ 552 MB/4.4 GB                  \u001b[K\u001b[?25h\u001b[?2026l\u001b[?2026h\u001b[?25l\u001b[A\u001b[1Gpulling manifest \u001b[K\n",
      "pulling f5074b1221da:  13% ▕██                ▏ 552 MB/4.4 GB                  \u001b[K\u001b[?25h\u001b[?2026l\u001b[?2026h\u001b[?25l\u001b[A\u001b[1Gpulling manifest \u001b[K\n",
      "pulling f5074b1221da:  13% ▕██                ▏ 552 MB/4.4 GB                  \u001b[K\u001b[?25h\u001b[?2026l\u001b[?2026h\u001b[?25l\u001b[A\u001b[1Gpulling manifest \u001b[K\n",
      "pulling f5074b1221da:  13% ▕██                ▏ 552 MB/4.4 GB                  \u001b[K\u001b[?25h\u001b[?2026l\u001b[?2026h\u001b[?25l\u001b[A\u001b[1Gpulling manifest \u001b[K\n",
      "pulling f5074b1221da:  13% ▕██                ▏ 553 MB/4.4 GB  1.0 MB/s    1h1m\u001b[K\u001b[?25h\u001b[?2026l\u001b[?2026h\u001b[?25l\u001b[A\u001b[1Gpulling manifest \u001b[K\n",
      "pulling f5074b1221da:  13% ▕██                ▏ 554 MB/4.4 GB  1.0 MB/s    1h1m\u001b[K\u001b[?25h\u001b[?2026l\u001b[?2026h\u001b[?25l\u001b[A\u001b[1Gpulling manifest \u001b[K\n",
      "pulling f5074b1221da:  13% ▕██                ▏ 554 MB/4.4 GB  1.0 MB/s    1h1m\u001b[K\u001b[?25h\u001b[?2026l\u001b[?2026h\u001b[?25l\u001b[A\u001b[1Gpulling manifest \u001b[K\n",
      "pulling f5074b1221da:  13% ▕██                ▏ 555 MB/4.4 GB  1.0 MB/s    1h1m\u001b[K\u001b[?25h\u001b[?2026l\u001b[?2026h\u001b[?25l\u001b[A\u001b[1Gpulling manifest \u001b[K\n",
      "pulling f5074b1221da:  13% ▕██                ▏ 555 MB/4.4 GB  1.0 MB/s    1h1m\u001b[K\u001b[?25h\u001b[?2026l\u001b[?2026h\u001b[?25l\u001b[A\u001b[1Gpulling manifest \u001b[K\n",
      "pulling f5074b1221da:  13% ▕██                ▏ 556 MB/4.4 GB  1.0 MB/s    1h1m\u001b[K\u001b[?25h\u001b[?2026l\u001b[?2026h\u001b[?25l\u001b[A\u001b[1Gpulling manifest \u001b[K\n",
      "pulling f5074b1221da:  13% ▕██                ▏ 556 MB/4.4 GB  1.0 MB/s    1h1m\u001b[K\u001b[?25h\u001b[?2026l\u001b[?2026h\u001b[?25l\u001b[A\u001b[1Gpulling manifest \u001b[K\n",
      "pulling f5074b1221da:  13% ▕██                ▏ 557 MB/4.4 GB  1.0 MB/s    1h1m\u001b[K\u001b[?25h\u001b[?2026l\u001b[?2026h\u001b[?25l\u001b[A\u001b[1Gpulling manifest \u001b[K\n",
      "pulling f5074b1221da:  13% ▕██                ▏ 557 MB/4.4 GB  1.0 MB/s    1h1m\u001b[K\u001b[?25h\u001b[?2026l\u001b[?2026h\u001b[?25l\u001b[A\u001b[1Gpulling manifest \u001b[K\n",
      "pulling f5074b1221da:  13% ▕██                ▏ 558 MB/4.4 GB  1.0 MB/s    1h1m\u001b[K\u001b[?25h\u001b[?2026l\u001b[?2026h\u001b[?25l\u001b[A\u001b[1Gpulling manifest \u001b[K\n",
      "pulling f5074b1221da:  13% ▕██                ▏ 559 MB/4.4 GB  3.4 MB/s  18m58s\u001b[K\u001b[?25h\u001b[?2026l\u001b[?2026h\u001b[?25l\u001b[A\u001b[1Gpulling manifest \u001b[K\n",
      "pulling f5074b1221da:  13% ▕██                ▏ 559 MB/4.4 GB  3.4 MB/s  18m57s\u001b[K\u001b[?25h\u001b[?2026l\u001b[?2026h\u001b[?25l\u001b[A\u001b[1Gpulling manifest \u001b[K\n",
      "pulling f5074b1221da:  13% ▕██                ▏ 560 MB/4.4 GB  3.4 MB/s  18m57s\u001b[K\u001b[?25h\u001b[?2026l\u001b[?2026h\u001b[?25l\u001b[A\u001b[1Gpulling manifest \u001b[K\n",
      "pulling f5074b1221da:  13% ▕██                ▏ 561 MB/4.4 GB  3.4 MB/s  18m57s\u001b[K\u001b[?25h\u001b[?2026l\u001b[?2026h\u001b[?25l\u001b[A\u001b[1Gpulling manifest \u001b[K\n",
      "pulling f5074b1221da:  13% ▕██                ▏ 561 MB/4.4 GB  3.4 MB/s  18m57s\u001b[K\u001b[?25h\u001b[?2026l\u001b[?2026h\u001b[?25l\u001b[A\u001b[1Gpulling manifest \u001b[K\n",
      "pulling f5074b1221da:  13% ▕██                ▏ 562 MB/4.4 GB  3.4 MB/s  18m57s\u001b[K\u001b[?25h\u001b[?2026l\u001b[?2026h\u001b[?25l\u001b[A\u001b[1Gpulling manifest \u001b[K\n",
      "pulling f5074b1221da:  13% ▕██                ▏ 562 MB/4.4 GB  3.4 MB/s  18m57s\u001b[K\u001b[?25h\u001b[?2026l\u001b[?2026h\u001b[?25l\u001b[A\u001b[1Gpulling manifest \u001b[K\n",
      "pulling f5074b1221da:  13% ▕██                ▏ 563 MB/4.4 GB  3.4 MB/s  18m56s\u001b[K\u001b[?25h\u001b[?2026l\u001b[?2026h\u001b[?25l\u001b[A\u001b[1Gpulling manifest \u001b[K\n",
      "pulling f5074b1221da:  13% ▕██                ▏ 564 MB/4.4 GB  3.4 MB/s  18m56s\u001b[K\u001b[?25h\u001b[?2026l\u001b[?2026h\u001b[?25l\u001b[A\u001b[1Gpulling manifest \u001b[K\n",
      "pulling f5074b1221da:  13% ▕██                ▏ 565 MB/4.4 GB  3.4 MB/s  18m56s\u001b[K\u001b[?25h\u001b[?2026l\u001b[?2026h\u001b[?25l\u001b[A\u001b[1Gpulling manifest \u001b[K\n",
      "pulling f5074b1221da:  13% ▕██                ▏ 565 MB/4.4 GB  4.4 MB/s  14m20s\u001b[K\u001b[?25h\u001b[?2026l\u001b[?2026h\u001b[?25l\u001b[A\u001b[1Gpulling manifest \u001b[K\n",
      "pulling f5074b1221da:  13% ▕██                ▏ 566 MB/4.4 GB  4.4 MB/s  14m20s\u001b[K\u001b[?25h\u001b[?2026l\u001b[?2026h\u001b[?25l\u001b[A\u001b[1Gpulling manifest \u001b[K\n",
      "pulling f5074b1221da:  13% ▕██                ▏ 566 MB/4.4 GB  4.4 MB/s  14m20s\u001b[K\u001b[?25h\u001b[?2026l\u001b[?2026h\u001b[?25l\u001b[A\u001b[1Gpulling manifest \u001b[K\n",
      "pulling f5074b1221da:  13% ▕██                ▏ 567 MB/4.4 GB  4.4 MB/s  14m20s\u001b[K\u001b[?25h\u001b[?2026l\u001b[?2026h\u001b[?25l\u001b[A\u001b[1Gpulling manifest \u001b[K\n",
      "pulling f5074b1221da:  13% ▕██                ▏ 567 MB/4.4 GB  4.4 MB/s  14m20s\u001b[K\u001b[?25h\u001b[?2026l\u001b[?2026h\u001b[?25l\u001b[A\u001b[1Gpulling manifest \u001b[K\n",
      "pulling f5074b1221da:  13% ▕██                ▏ 568 MB/4.4 GB  4.4 MB/s  14m19s\u001b[K\u001b[?25h\u001b[?2026l\u001b[?2026h\u001b[?25l\u001b[A\u001b[1Gpulling manifest \u001b[K\n",
      "pulling f5074b1221da:  13% ▕██                ▏ 569 MB/4.4 GB  4.4 MB/s  14m19s\u001b[K\u001b[?25h\u001b[?2026l\u001b[?2026h\u001b[?25l\u001b[A\u001b[1Gpulling manifest \u001b[K\n",
      "pulling f5074b1221da:  13% ▕██                ▏ 569 MB/4.4 GB  4.4 MB/s  14m19s\u001b[K\u001b[?25h\u001b[?2026l\u001b[?2026h\u001b[?25l\u001b[A\u001b[1Gpulling manifest \u001b[K\n",
      "pulling f5074b1221da:  13% ▕██                ▏ 570 MB/4.4 GB  4.4 MB/s  14m19s\u001b[K\u001b[?25h\u001b[?2026l\u001b[?2026h\u001b[?25l\u001b[A\u001b[1Gpulling manifest \u001b[K\n",
      "pulling f5074b1221da:  13% ▕██                ▏ 571 MB/4.4 GB  4.4 MB/s  14m19s\u001b[K\u001b[?25h\u001b[?2026l\u001b[?2026h\u001b[?25l\u001b[A\u001b[1Gpulling manifest \u001b[K\n",
      "pulling f5074b1221da:  13% ▕██                ▏ 571 MB/4.4 GB  4.9 MB/s  12m57s\u001b[K\u001b[?25h\u001b[?2026l\u001b[?2026h\u001b[?25l\u001b[A\u001b[1Gpulling manifest \u001b[K\n",
      "pulling f5074b1221da:  13% ▕██                ▏ 572 MB/4.4 GB  4.9 MB/s  12m57s\u001b[K\u001b[?25h\u001b[?2026l\u001b[?2026h\u001b[?25l\u001b[A\u001b[1Gpulling manifest \u001b[K\n",
      "pulling f5074b1221da:  13% ▕██                ▏ 572 MB/4.4 GB  4.9 MB/s  12m57s\u001b[K\u001b[?25h\u001b[?2026l\u001b[?2026h\u001b[?25l\u001b[A\u001b[1Gpulling manifest \u001b[K\n",
      "pulling f5074b1221da:  13% ▕██                ▏ 573 MB/4.4 GB  4.9 MB/s  12m57s\u001b[K\u001b[?25h\u001b[?2026l\u001b[?2026h\u001b[?25l\u001b[A\u001b[1Gpulling manifest \u001b[K\n",
      "pulling f5074b1221da:  13% ▕██                ▏ 574 MB/4.4 GB  4.9 MB/s  12m57s\u001b[K\u001b[?25h\u001b[?2026l\u001b[?2026h\u001b[?25l\u001b[A\u001b[1Gpulling manifest \u001b[K\n",
      "pulling f5074b1221da:  13% ▕██                ▏ 574 MB/4.4 GB  4.9 MB/s  12m57s\u001b[K\u001b[?25h\u001b[?2026l\u001b[?2026h\u001b[?25l\u001b[A\u001b[1Gpulling manifest \u001b[K\n",
      "pulling f5074b1221da:  13% ▕██                ▏ 575 MB/4.4 GB  4.9 MB/s  12m57s\u001b[K\u001b[?25h\u001b[?2026l\u001b[?2026h\u001b[?25l\u001b[A\u001b[1Gpulling manifest \u001b[K\n",
      "pulling f5074b1221da:  13% ▕██                ▏ 575 MB/4.4 GB  4.9 MB/s  12m56s\u001b[K\u001b[?25h\u001b[?2026l\u001b[?2026h\u001b[?25l\u001b[A\u001b[1Gpulling manifest \u001b[K\n",
      "pulling f5074b1221da:  13% ▕██                ▏ 576 MB/4.4 GB  4.9 MB/s  12m56s\u001b[K\u001b[?25h\u001b[?2026l\u001b[?2026h\u001b[?25l\u001b[A\u001b[1Gpulling manifest \u001b[K\n",
      "pulling f5074b1221da:  13% ▕██                ▏ 577 MB/4.4 GB  4.9 MB/s  12m56s\u001b[K\u001b[?25h\u001b[?2026l\u001b[?2026h\u001b[?25l\u001b[A\u001b[1Gpulling manifest \u001b[K\n",
      "pulling f5074b1221da:  13% ▕██                ▏ 577 MB/4.4 GB  5.1 MB/s  12m20s\u001b[K\u001b[?25h\u001b[?2026l\u001b[?2026h\u001b[?25l\u001b[A\u001b[1Gpulling manifest \u001b[K\n",
      "pulling f5074b1221da:  13% ▕██                ▏ 578 MB/4.4 GB  5.1 MB/s  12m20s\u001b[K\u001b[?25h\u001b[?2026l\u001b[?2026h\u001b[?25l\u001b[A\u001b[1Gpulling manifest \u001b[K\n",
      "pulling f5074b1221da:  13% ▕██                ▏ 579 MB/4.4 GB  5.1 MB/s  12m20s\u001b[K\u001b[?25h\u001b[?2026l\u001b[?2026h\u001b[?25l\u001b[A\u001b[1Gpulling manifest \u001b[K\n",
      "pulling f5074b1221da:  13% ▕██                ▏ 579 MB/4.4 GB  5.1 MB/s  12m20s\u001b[K\u001b[?25h\u001b[?2026l\u001b[?2026h\u001b[?25l\u001b[A\u001b[1Gpulling manifest \u001b[K\n",
      "pulling f5074b1221da:  13% ▕██                ▏ 580 MB/4.4 GB  5.1 MB/s  12m20s\u001b[K\u001b[?25h\u001b[?2026l\u001b[?2026h\u001b[?25l\u001b[A\u001b[1Gpulling manifest \u001b[K\n",
      "pulling f5074b1221da:  13% ▕██                ▏ 581 MB/4.4 GB  5.1 MB/s  12m19s\u001b[K\u001b[?25h\u001b[?2026l\u001b[?2026h\u001b[?25l\u001b[A\u001b[1Gpulling manifest \u001b[K\n",
      "pulling f5074b1221da:  13% ▕██                ▏ 581 MB/4.4 GB  5.1 MB/s  12m19s\u001b[K\u001b[?25h\u001b[?2026l\u001b[?2026h\u001b[?25l\u001b[A\u001b[1Gpulling manifest \u001b[K\n",
      "pulling f5074b1221da:  13% ▕██                ▏ 582 MB/4.4 GB  5.1 MB/s  12m19s\u001b[K\u001b[?25h\u001b[?2026l\u001b[?2026h\u001b[?25l\u001b[A\u001b[1Gpulling manifest \u001b[K\n",
      "pulling f5074b1221da:  13% ▕██                ▏ 582 MB/4.4 GB  5.1 MB/s  12m19s\u001b[K\u001b[?25h\u001b[?2026l\u001b[?2026h\u001b[?25l\u001b[A\u001b[1Gpulling manifest \u001b[K\n",
      "pulling f5074b1221da:  13% ▕██                ▏ 583 MB/4.4 GB  5.1 MB/s  12m19s\u001b[K\u001b[?25h\u001b[?2026l\u001b[?2026h\u001b[?25l\u001b[A\u001b[1Gpulling manifest \u001b[K\n",
      "pulling f5074b1221da:  13% ▕██                ▏ 584 MB/4.4 GB  5.1 MB/s  12m19s\u001b[K\u001b[?25h\u001b[?2026l\u001b[?2026h\u001b[?25l\u001b[A\u001b[1Gpulling manifest \u001b[K\n",
      "pulling f5074b1221da:  13% ▕██                ▏ 585 MB/4.4 GB  5.4 MB/s  11m43s\u001b[K\u001b[?25h\u001b[?2026l\u001b[?2026h\u001b[?25l\u001b[A\u001b[1Gpulling manifest \u001b[K\n",
      "pulling f5074b1221da:  13% ▕██                ▏ 585 MB/4.4 GB  5.4 MB/s  11m43s\u001b[K\u001b[?25h\u001b[?2026l\u001b[?2026h\u001b[?25l\u001b[A\u001b[1Gpulling manifest \u001b[K\n",
      "pulling f5074b1221da:  13% ▕██                ▏ 586 MB/4.4 GB  5.4 MB/s  11m43s\u001b[K\u001b[?25h\u001b[?2026l\u001b[?2026h\u001b[?25l\u001b[A\u001b[1Gpulling manifest \u001b[K\n",
      "pulling f5074b1221da:  13% ▕██                ▏ 586 MB/4.4 GB  5.4 MB/s  11m43s\u001b[K\u001b[?25h\u001b[?2026l\u001b[?2026h\u001b[?25l\u001b[A\u001b[1Gpulling manifest \u001b[K\n",
      "pulling f5074b1221da:  13% ▕██                ▏ 587 MB/4.4 GB  5.4 MB/s  11m43s\u001b[K\u001b[?25h\u001b[?2026l\u001b[?2026h\u001b[?25l\u001b[A\u001b[1Gpulling manifest \u001b[K\n",
      "pulling f5074b1221da:  13% ▕██                ▏ 588 MB/4.4 GB  5.4 MB/s  11m43s\u001b[K\u001b[?25h\u001b[?2026l\u001b[?2026h\u001b[?25l\u001b[A\u001b[1Gpulling manifest \u001b[K\n",
      "pulling f5074b1221da:  13% ▕██                ▏ 588 MB/4.4 GB  5.4 MB/s  11m42s\u001b[K\u001b[?25h\u001b[?2026l\u001b[?2026h\u001b[?25l\u001b[A\u001b[1Gpulling manifest \u001b[K\n",
      "pulling f5074b1221da:  13% ▕██                ▏ 589 MB/4.4 GB  5.4 MB/s  11m42s\u001b[K\u001b[?25h\u001b[?2026l\u001b[?2026h\u001b[?25l\u001b[A\u001b[1Gpulling manifest \u001b[K\n",
      "pulling f5074b1221da:  13% ▕██                ▏ 589 MB/4.4 GB  5.4 MB/s  11m42s\u001b[K\u001b[?25h\u001b[?2026l\u001b[?2026h\u001b[?25l\u001b[A\u001b[1Gpulling manifest \u001b[K\n",
      "pulling f5074b1221da:  14% ▕██                ▏ 590 MB/4.4 GB  5.4 MB/s  11m42s\u001b[K\u001b[?25h\u001b[?2026l\u001b[?2026h\u001b[?25l\u001b[A\u001b[1Gpulling manifest \u001b[K\n",
      "pulling f5074b1221da:  14% ▕██                ▏ 591 MB/4.4 GB  5.5 MB/s  11m25s\u001b[K\u001b[?25h\u001b[?2026l\u001b[?2026h\u001b[?25l\u001b[A\u001b[1Gpulling manifest \u001b[K\n",
      "pulling f5074b1221da:  14% ▕██                ▏ 591 MB/4.4 GB  5.5 MB/s  11m25s\u001b[K\u001b[?25h\u001b[?2026l\u001b[?2026h\u001b[?25l\u001b[A\u001b[1Gpulling manifest \u001b[K\n",
      "pulling f5074b1221da:  14% ▕██                ▏ 592 MB/4.4 GB  5.5 MB/s  11m24s\u001b[K\u001b[?25h\u001b[?2026l\u001b[?2026h\u001b[?25l\u001b[A\u001b[1Gpulling manifest \u001b[K\n",
      "pulling f5074b1221da:  14% ▕██                ▏ 593 MB/4.4 GB  5.5 MB/s  11m24s\u001b[K\u001b[?25h\u001b[?2026l\u001b[?2026h\u001b[?25l\u001b[A\u001b[1Gpulling manifest \u001b[K\n",
      "pulling f5074b1221da:  14% ▕██                ▏ 593 MB/4.4 GB  5.5 MB/s  11m24s\u001b[K\u001b[?25h\u001b[?2026l\u001b[?2026h\u001b[?25l\u001b[A\u001b[1Gpulling manifest \u001b[K\n",
      "pulling f5074b1221da:  14% ▕██                ▏ 594 MB/4.4 GB  5.5 MB/s  11m24s\u001b[K\u001b[?25h\u001b[?2026l\u001b[?2026h\u001b[?25l\u001b[A\u001b[1Gpulling manifest \u001b[K\n",
      "pulling f5074b1221da:  14% ▕██                ▏ 595 MB/4.4 GB  5.5 MB/s  11m24s\u001b[K\u001b[?25h\u001b[?2026l\u001b[?2026h\u001b[?25l\u001b[A\u001b[1Gpulling manifest \u001b[K\n",
      "pulling f5074b1221da:  14% ▕██                ▏ 595 MB/4.4 GB  5.5 MB/s  11m24s\u001b[K\u001b[?25h\u001b[?2026l\u001b[?2026h\u001b[?25l\u001b[A\u001b[1Gpulling manifest \u001b[K\n",
      "pulling f5074b1221da:  14% ▕██                ▏ 596 MB/4.4 GB  5.5 MB/s  11m24s\u001b[K\u001b[?25h\u001b[?2026l\u001b[?2026h\u001b[?25l\u001b[A\u001b[1Gpulling manifest \u001b[K\n",
      "pulling f5074b1221da:  14% ▕██                ▏ 597 MB/4.4 GB  5.5 MB/s  11m24s\u001b[K\u001b[?25h\u001b[?2026l\u001b[?2026h\u001b[?25l\u001b[A\u001b[1Gpulling manifest \u001b[K\n",
      "pulling f5074b1221da:  14% ▕██                ▏ 597 MB/4.4 GB  5.7 MB/s   11m7s\u001b[K\u001b[?25h\u001b[?2026l\u001b[?2026h\u001b[?25l\u001b[A\u001b[1Gpulling manifest \u001b[K\n",
      "pulling f5074b1221da:  14% ▕██                ▏ 598 MB/4.4 GB  5.7 MB/s   11m7s\u001b[K\u001b[?25h\u001b[?2026l\u001b[?2026h\u001b[?25l\u001b[A\u001b[1Gpulling manifest \u001b[K\n",
      "pulling f5074b1221da:  14% ▕██                ▏ 598 MB/4.4 GB  5.7 MB/s   11m7s\u001b[K\u001b[?25h\u001b[?2026l\u001b[?2026h\u001b[?25l\u001b[A\u001b[1Gpulling manifest \u001b[K\n",
      "pulling f5074b1221da:  14% ▕██                ▏ 599 MB/4.4 GB  5.7 MB/s   11m7s\u001b[K\u001b[?25h\u001b[?2026l\u001b[?2026h\u001b[?25l\u001b[A\u001b[1Gpulling manifest \u001b[K\n",
      "pulling f5074b1221da:  14% ▕██                ▏ 599 MB/4.4 GB  5.7 MB/s   11m7s\u001b[K\u001b[?25h\u001b[?2026l\u001b[?2026h\u001b[?25l\u001b[A\u001b[1Gpulling manifest \u001b[K\n",
      "pulling f5074b1221da:  14% ▕██                ▏ 600 MB/4.4 GB  5.7 MB/s   11m7s\u001b[K\u001b[?25h\u001b[?2026l\u001b[?2026h\u001b[?25l\u001b[A\u001b[1Gpulling manifest \u001b[K\n",
      "pulling f5074b1221da:  14% ▕██                ▏ 600 MB/4.4 GB  5.7 MB/s   11m7s\u001b[K\u001b[?25h\u001b[?2026l\u001b[?2026h\u001b[?25l\u001b[A\u001b[1Gpulling manifest \u001b[K\n",
      "pulling f5074b1221da:  14% ▕██                ▏ 601 MB/4.4 GB  5.7 MB/s   11m7s\u001b[K\u001b[?25h\u001b[?2026l\u001b[?2026h\u001b[?25l\u001b[A\u001b[1Gpulling manifest \u001b[K\n",
      "pulling f5074b1221da:  14% ▕██                ▏ 602 MB/4.4 GB  5.7 MB/s   11m6s\u001b[K\u001b[?25h\u001b[?2026l\u001b[?2026h\u001b[?25l\u001b[A\u001b[1Gpulling manifest \u001b[K\n",
      "pulling f5074b1221da:  14% ▕██                ▏ 602 MB/4.4 GB  5.7 MB/s   11m6s\u001b[K\u001b[?25h\u001b[?2026l\u001b[?2026h\u001b[?25l\u001b[A\u001b[1Gpulling manifest \u001b[K\n",
      "pulling f5074b1221da:  14% ▕██                ▏ 603 MB/4.4 GB  5.7 MB/s   11m0s\u001b[K\u001b[?25h\u001b[?2026l\u001b[?2026h\u001b[?25l\u001b[A\u001b[1Gpulling manifest \u001b[K\n",
      "pulling f5074b1221da:  14% ▕██                ▏ 604 MB/4.4 GB  5.7 MB/s   11m0s\u001b[K\u001b[?25h\u001b[?2026l\u001b[?2026h\u001b[?25l\u001b[A\u001b[1Gpulling manifest \u001b[K\n",
      "pulling f5074b1221da:  14% ▕██                ▏ 604 MB/4.4 GB  5.7 MB/s   11m0s\u001b[K\u001b[?25h\u001b[?2026l\u001b[?2026h\u001b[?25l\u001b[A\u001b[1Gpulling manifest \u001b[K\n",
      "pulling f5074b1221da:  14% ▕██                ▏ 605 MB/4.4 GB  5.7 MB/s   11m0s\u001b[K\u001b[?25h\u001b[?2026l\u001b[?2026h\u001b[?25l\u001b[A\u001b[1Gpulling manifest \u001b[K\n",
      "pulling f5074b1221da:  14% ▕██                ▏ 606 MB/4.4 GB  5.7 MB/s   11m0s\u001b[K\u001b[?25h\u001b[?2026l\u001b[?2026h\u001b[?25l\u001b[A\u001b[1Gpulling manifest \u001b[K\n",
      "pulling f5074b1221da:  14% ▕██                ▏ 606 MB/4.4 GB  5.7 MB/s   11m0s\u001b[K\u001b[?25h\u001b[?2026l\u001b[?2026h\u001b[?25l\u001b[A\u001b[1Gpulling manifest \u001b[K\n",
      "pulling f5074b1221da:  14% ▕██                ▏ 607 MB/4.4 GB  5.7 MB/s   11m0s\u001b[K\u001b[?25h\u001b[?2026l\u001b[?2026h\u001b[?25l\u001b[A\u001b[1Gpulling manifest \u001b[K\n",
      "pulling f5074b1221da:  14% ▕██                ▏ 608 MB/4.4 GB  5.7 MB/s  10m59s\u001b[K\u001b[?25h\u001b[?2026l\u001b[?2026h\u001b[?25l\u001b[A\u001b[1Gpulling manifest \u001b[K\n",
      "pulling f5074b1221da:  14% ▕██                ▏ 608 MB/4.4 GB  5.7 MB/s  10m59s\u001b[K\u001b[?25h\u001b[?2026l\u001b[?2026h\u001b[?25l\u001b[A\u001b[1Gpulling manifest \u001b[K\n",
      "pulling f5074b1221da:  14% ▕██                ▏ 609 MB/4.4 GB  5.7 MB/s  10m59s\u001b[K\u001b[?25h\u001b[?2026l\u001b[?2026h\u001b[?25l\u001b[A\u001b[1Gpulling manifest \u001b[K\n",
      "pulling f5074b1221da:  14% ▕██                ▏ 609 MB/4.4 GB  6.2 MB/s   10m2s\u001b[K\u001b[?25h\u001b[?2026l\u001b[?2026h\u001b[?25l\u001b[A\u001b[1Gpulling manifest \u001b[K\n",
      "pulling f5074b1221da:  14% ▕██                ▏ 609 MB/4.4 GB  6.2 MB/s   10m2s\u001b[K\u001b[?25h\u001b[?2026l\u001b[?2026h\u001b[?25l\u001b[A\u001b[1Gpulling manifest \u001b[K\n",
      "pulling f5074b1221da:  14% ▕██                ▏ 610 MB/4.4 GB  6.2 MB/s   10m2s\u001b[K\u001b[?25h\u001b[?2026l\u001b[?2026h\u001b[?25l\u001b[A\u001b[1Gpulling manifest \u001b[K\n",
      "pulling f5074b1221da:  14% ▕██                ▏ 610 MB/4.4 GB  6.2 MB/s   10m2s\u001b[K\u001b[?25h\u001b[?2026l\u001b[?2026h\u001b[?25l\u001b[A\u001b[1Gpulling manifest \u001b[K\n",
      "pulling f5074b1221da:  14% ▕██                ▏ 610 MB/4.4 GB  6.2 MB/s   10m2s\u001b[K\u001b[?25h\u001b[?2026l\u001b[?2026h\u001b[?25l\u001b[A\u001b[1Gpulling manifest \u001b[K\n",
      "pulling f5074b1221da:  14% ▕██                ▏ 611 MB/4.4 GB  6.2 MB/s   10m2s\u001b[K\u001b[?25h\u001b[?2026l\u001b[?2026h\u001b[?25l\u001b[A\u001b[1Gpulling manifest \u001b[K\n",
      "pulling f5074b1221da:  14% ▕██                ▏ 611 MB/4.4 GB  6.2 MB/s   10m2s\u001b[K\u001b[?25h\u001b[?2026l\u001b[?2026h\u001b[?25l\u001b[A\u001b[1Gpulling manifest \u001b[K\n",
      "pulling f5074b1221da:  14% ▕██                ▏ 611 MB/4.4 GB  6.2 MB/s   10m2s\u001b[K\u001b[?25h\u001b[?2026l\u001b[?2026h\u001b[?25l\u001b[A\u001b[1Gpulling manifest \u001b[K\n",
      "pulling f5074b1221da:  14% ▕██                ▏ 611 MB/4.4 GB  6.2 MB/s   10m2s\u001b[K\u001b[?25h\u001b[?2026l\u001b[?2026h\u001b[?25l\u001b[A\u001b[1Gpulling manifest \u001b[K\n",
      "pulling f5074b1221da:  14% ▕██                ▏ 612 MB/4.4 GB  6.2 MB/s   10m1s\u001b[K\u001b[?25h\u001b[?2026l\u001b[?2026h\u001b[?25l\u001b[A\u001b[1Gpulling manifest \u001b[K\n",
      "pulling f5074b1221da:  14% ▕██                ▏ 613 MB/4.4 GB  6.2 MB/s   10m1s\u001b[K\u001b[?25h\u001b[?2026l\u001b[?2026h\u001b[?25l\u001b[A\u001b[1Gpulling manifest \u001b[K\n",
      "pulling f5074b1221da:  14% ▕██                ▏ 613 MB/4.4 GB  6.0 MB/s  10m21s\u001b[K\u001b[?25h\u001b[?2026l\u001b[?2026h\u001b[?25l\u001b[A\u001b[1Gpulling manifest \u001b[K\n",
      "pulling f5074b1221da:  14% ▕██                ▏ 614 MB/4.4 GB  6.0 MB/s  10m21s\u001b[K\u001b[?25h\u001b[?2026l\u001b[?2026h\u001b[?25l\u001b[A\u001b[1Gpulling manifest \u001b[K\n",
      "pulling f5074b1221da:  14% ▕██                ▏ 614 MB/4.4 GB  6.0 MB/s  10m21s\u001b[K\u001b[?25h\u001b[?2026l\u001b[?2026h\u001b[?25l\u001b[A\u001b[1Gpulling manifest \u001b[K\n",
      "pulling f5074b1221da:  14% ▕██                ▏ 615 MB/4.4 GB  6.0 MB/s  10m21s\u001b[K\u001b[?25h\u001b[?2026l\u001b[?2026h\u001b[?25l\u001b[A\u001b[1Gpulling manifest \u001b[K\n",
      "pulling f5074b1221da:  14% ▕██                ▏ 615 MB/4.4 GB  6.0 MB/s  10m21s\u001b[K\u001b[?25h\u001b[?2026l\u001b[?2026h\u001b[?25l\u001b[A\u001b[1Gpulling manifest \u001b[K\n",
      "pulling f5074b1221da:  14% ▕██                ▏ 616 MB/4.4 GB  6.0 MB/s  10m21s\u001b[K\u001b[?25h\u001b[?2026l\u001b[?2026h\u001b[?25l\u001b[A\u001b[1Gpulling manifest \u001b[K\n",
      "pulling f5074b1221da:  14% ▕██                ▏ 617 MB/4.4 GB  6.0 MB/s  10m21s\u001b[K\u001b[?25h\u001b[?2026l\u001b[?2026h\u001b[?25l\u001b[A\u001b[1Gpulling manifest \u001b[K\n",
      "pulling f5074b1221da:  14% ▕██                ▏ 617 MB/4.4 GB  6.0 MB/s  10m20s\u001b[K\u001b[?25h\u001b[?2026l\u001b[?2026h\u001b[?25l\u001b[A\u001b[1Gpulling manifest \u001b[K\n",
      "pulling f5074b1221da:  14% ▕██                ▏ 617 MB/4.4 GB  6.0 MB/s  10m20s\u001b[K\u001b[?25h\u001b[?2026l\u001b[?2026h\u001b[?25l\u001b[A\u001b[1Gpulling manifest \u001b[K\n",
      "pulling f5074b1221da:  14% ▕██                ▏ 618 MB/4.4 GB  6.0 MB/s  10m20s\u001b[K\u001b[?25h\u001b[?2026l\u001b[?2026h\u001b[?25l\u001b[A\u001b[1Gpulling manifest \u001b[K\n",
      "pulling f5074b1221da:  14% ▕██                ▏ 619 MB/4.4 GB  5.9 MB/s  10m32s\u001b[K\u001b[?25h\u001b[?2026l\u001b[?2026h\u001b[?25l\u001b[A\u001b[1Gpulling manifest \u001b[K\n",
      "pulling f5074b1221da:  14% ▕██                ▏ 619 MB/4.4 GB  5.9 MB/s  10m32s\u001b[K\u001b[?25h\u001b[?2026l\u001b[?2026h\u001b[?25l\u001b[A\u001b[1Gpulling manifest \u001b[K\n",
      "pulling f5074b1221da:  14% ▕██                ▏ 620 MB/4.4 GB  5.9 MB/s  10m32s\u001b[K\u001b[?25h\u001b[?2026l\u001b[?2026h\u001b[?25l\u001b[A\u001b[1Gpulling manifest \u001b[K\n",
      "pulling f5074b1221da:  14% ▕██                ▏ 621 MB/4.4 GB  5.9 MB/s  10m32s\u001b[K\u001b[?25h\u001b[?2026l\u001b[?2026h\u001b[?25l\u001b[A\u001b[1Gpulling manifest \u001b[K\n",
      "pulling f5074b1221da:  14% ▕██                ▏ 621 MB/4.4 GB  5.9 MB/s  10m32s\u001b[K\u001b[?25h\u001b[?2026l\u001b[?2026h\u001b[?25l\u001b[A\u001b[1Gpulling manifest \u001b[K\n",
      "pulling f5074b1221da:  14% ▕██                ▏ 622 MB/4.4 GB  5.9 MB/s  10m32s\u001b[K\u001b[?25h\u001b[?2026l\u001b[?2026h\u001b[?25l\u001b[A\u001b[1Gpulling manifest \u001b[K\n",
      "pulling f5074b1221da:  14% ▕██                ▏ 623 MB/4.4 GB  5.9 MB/s  10m32s\u001b[K\u001b[?25h\u001b[?2026l\u001b[?2026h\u001b[?25l\u001b[A\u001b[1Gpulling manifest \u001b[K\n",
      "pulling f5074b1221da:  14% ▕██                ▏ 623 MB/4.4 GB  5.9 MB/s  10m32s\u001b[K\u001b[?25h\u001b[?2026l\u001b[?2026h\u001b[?25l\u001b[A\u001b[1Gpulling manifest \u001b[K\n",
      "pulling f5074b1221da:  14% ▕██                ▏ 624 MB/4.4 GB  5.9 MB/s  10m31s\u001b[K\u001b[?25h\u001b[?2026l\u001b[?2026h\u001b[?25l\u001b[A\u001b[1Gpulling manifest \u001b[K\n",
      "pulling f5074b1221da:  14% ▕██                ▏ 625 MB/4.4 GB  5.9 MB/s  10m31s\u001b[K\u001b[?25h\u001b[?2026l\u001b[?2026h\u001b[?25l\u001b[A\u001b[1Gpulling manifest \u001b[K\n",
      "pulling f5074b1221da:  14% ▕██                ▏ 625 MB/4.4 GB  6.0 MB/s  10m28s\u001b[K\u001b[?25h\u001b[?2026l\u001b[?2026h\u001b[?25l\u001b[A\u001b[1Gpulling manifest \u001b[K\n",
      "pulling f5074b1221da:  14% ▕██                ▏ 626 MB/4.4 GB  6.0 MB/s  10m28s\u001b[K\u001b[?25h\u001b[?2026l\u001b[?2026h\u001b[?25l\u001b[A\u001b[1Gpulling manifest \u001b[K\n",
      "pulling f5074b1221da:  14% ▕██                ▏ 627 MB/4.4 GB  6.0 MB/s  10m28s\u001b[K\u001b[?25h\u001b[?2026l\u001b[?2026h\u001b[?25l\u001b[A\u001b[1Gpulling manifest \u001b[K\n",
      "pulling f5074b1221da:  14% ▕██                ▏ 627 MB/4.4 GB  6.0 MB/s  10m27s\u001b[K\u001b[?25h\u001b[?2026l\u001b[?2026h\u001b[?25l\u001b[A\u001b[1Gpulling manifest \u001b[K\n",
      "pulling f5074b1221da:  14% ▕██                ▏ 628 MB/4.4 GB  6.0 MB/s  10m27s\u001b[K\u001b[?25h\u001b[?2026l\u001b[?2026h\u001b[?25l\u001b[A\u001b[1Gpulling manifest \u001b[K\n",
      "pulling f5074b1221da:  14% ▕██                ▏ 629 MB/4.4 GB  6.0 MB/s  10m27s\u001b[K\u001b[?25h\u001b[?2026l\u001b[?2026h\u001b[?25l\u001b[A\u001b[1Gpulling manifest \u001b[K\n",
      "pulling f5074b1221da:  14% ▕██                ▏ 629 MB/4.4 GB  6.0 MB/s  10m27s\u001b[K\u001b[?25h\u001b[?2026l\u001b[?2026h\u001b[?25l\u001b[A\u001b[1Gpulling manifest \u001b[K\n",
      "pulling f5074b1221da:  14% ▕██                ▏ 630 MB/4.4 GB  6.0 MB/s  10m27s\u001b[K\u001b[?25h\u001b[?2026l\u001b[?2026h\u001b[?25l\u001b[A\u001b[1Gpulling manifest \u001b[K\n",
      "pulling f5074b1221da:  14% ▕██                ▏ 631 MB/4.4 GB  6.0 MB/s  10m27s\u001b[K\u001b[?25h\u001b[?2026l\u001b[?2026h\u001b[?25l\u001b[A\u001b[1Gpulling manifest \u001b[K\n",
      "pulling f5074b1221da:  14% ▕██                ▏ 631 MB/4.4 GB  6.0 MB/s  10m27s\u001b[K\u001b[?25h\u001b[?2026l\u001b[?2026h\u001b[?25l\u001b[A\u001b[1Gpulling manifest \u001b[K\n",
      "pulling f5074b1221da:  14% ▕██                ▏ 632 MB/4.4 GB  6.0 MB/s  10m20s\u001b[K\u001b[?25h\u001b[?2026l\u001b[?2026h\u001b[?25l\u001b[A\u001b[1Gpulling manifest \u001b[K\n",
      "pulling f5074b1221da:  14% ▕██                ▏ 633 MB/4.4 GB  6.0 MB/s  10m19s\u001b[K\u001b[?25h\u001b[?2026l\u001b[?2026h\u001b[?25l\u001b[A\u001b[1Gpulling manifest \u001b[K\n",
      "pulling f5074b1221da:  14% ▕██                ▏ 633 MB/4.4 GB  6.0 MB/s  10m19s\u001b[K\u001b[?25h\u001b[?2026l\u001b[?2026h\u001b[?25l\u001b[A\u001b[1Gpulling manifest \u001b[K\n",
      "pulling f5074b1221da:  15% ▕██                ▏ 634 MB/4.4 GB  6.0 MB/s  10m19s\u001b[K\u001b[?25h\u001b[?2026l\u001b[?2026h\u001b[?25l\u001b[A\u001b[1Gpulling manifest \u001b[K\n",
      "pulling f5074b1221da:  15% ▕██                ▏ 634 MB/4.4 GB  6.0 MB/s  10m19s\u001b[K\u001b[?25h\u001b[?2026l\u001b[?2026h\u001b[?25l\u001b[A\u001b[1Gpulling manifest \u001b[K\n",
      "pulling f5074b1221da:  15% ▕██                ▏ 635 MB/4.4 GB  6.0 MB/s  10m19s\u001b[K\u001b[?25h\u001b[?2026l\u001b[?2026h\u001b[?25l\u001b[A\u001b[1Gpulling manifest \u001b[K\n",
      "pulling f5074b1221da:  15% ▕██                ▏ 636 MB/4.4 GB  6.0 MB/s  10m19s\u001b[K\u001b[?25h\u001b[?2026l\u001b[?2026h\u001b[?25l\u001b[A\u001b[1Gpulling manifest \u001b[K\n",
      "pulling f5074b1221da:  15% ▕██                ▏ 636 MB/4.4 GB  6.0 MB/s  10m19s\u001b[K\u001b[?25h\u001b[?2026l\u001b[?2026h\u001b[?25l\u001b[A\u001b[1Gpulling manifest \u001b[K\n",
      "pulling f5074b1221da:  15% ▕██                ▏ 637 MB/4.4 GB  6.0 MB/s  10m19s\u001b[K\u001b[?25h\u001b[?2026l\u001b[?2026h\u001b[?25l\u001b[A\u001b[1Gpulling manifest \u001b[K\n",
      "pulling f5074b1221da:  15% ▕██                ▏ 638 MB/4.4 GB  6.0 MB/s  10m19s\u001b[K\u001b[?25h\u001b[?2026l\u001b[?2026h\u001b[?25l\u001b[A\u001b[1Gpulling manifest \u001b[K\n",
      "pulling f5074b1221da:  15% ▕██                ▏ 638 MB/4.4 GB  6.0 MB/s  10m19s\u001b[K\u001b[?25h\u001b[?2026l\u001b[?2026h\u001b[?25l\u001b[A\u001b[1Gpulling manifest \u001b[K\n",
      "pulling f5074b1221da:  15% ▕██                ▏ 639 MB/4.4 GB  6.0 MB/s  10m19s\u001b[K\u001b[?25h\u001b[?2026l\u001b[?2026h\u001b[?25l\u001b[A\u001b[1Gpulling manifest \u001b[K\n",
      "pulling f5074b1221da:  15% ▕██                ▏ 639 MB/4.4 GB  6.0 MB/s  10m19s\u001b[K\u001b[?25h\u001b[?2026l\u001b[?2026h\u001b[?25l\u001b[A\u001b[1Gpulling manifest \u001b[K\n",
      "pulling f5074b1221da:  15% ▕██                ▏ 640 MB/4.4 GB  6.0 MB/s  10m19s\u001b[K\u001b[?25h\u001b[?2026l\u001b[?2026h\u001b[?25l\u001b[A\u001b[1Gpulling manifest \u001b[K\n",
      "pulling f5074b1221da:  15% ▕██                ▏ 641 MB/4.4 GB  6.0 MB/s  10m19s\u001b[K\u001b[?25h\u001b[?2026l\u001b[?2026h\u001b[?25l\u001b[A\u001b[1Gpulling manifest \u001b[K\n",
      "pulling f5074b1221da:  15% ▕██                ▏ 642 MB/4.4 GB  6.0 MB/s  10m18s\u001b[K\u001b[?25h\u001b[?2026l\u001b[?2026h\u001b[?25l\u001b[A\u001b[1Gpulling manifest \u001b[K\n",
      "pulling f5074b1221da:  15% ▕██                ▏ 642 MB/4.4 GB  6.0 MB/s  10m18s\u001b[K\u001b[?25h\u001b[?2026l\u001b[?2026h\u001b[?25l\u001b[A\u001b[1Gpulling manifest \u001b[K\n",
      "pulling f5074b1221da:  15% ▕██                ▏ 643 MB/4.4 GB  6.0 MB/s  10m18s\u001b[K\u001b[?25h\u001b[?2026l\u001b[?2026h\u001b[?25l\u001b[A\u001b[1Gpulling manifest \u001b[K\n",
      "pulling f5074b1221da:  15% ▕██                ▏ 643 MB/4.4 GB  6.0 MB/s  10m18s\u001b[K\u001b[?25h\u001b[?2026l\u001b[?2026h\u001b[?25l\u001b[A\u001b[1Gpulling manifest \u001b[K\n",
      "pulling f5074b1221da:  15% ▕██                ▏ 644 MB/4.4 GB  6.0 MB/s  10m18s\u001b[K\u001b[?25h\u001b[?2026l\u001b[?2026h\u001b[?25l\u001b[A\u001b[1Gpulling manifest \u001b[K\n",
      "pulling f5074b1221da:  15% ▕██                ▏ 644 MB/4.4 GB  6.0 MB/s  10m18s\u001b[K\u001b[?25h\u001b[?2026l\u001b[?2026h\u001b[?25l\u001b[A\u001b[1Gpulling manifest \u001b[K\n",
      "pulling f5074b1221da:  15% ▕██                ▏ 645 MB/4.4 GB  6.0 MB/s  10m21s\u001b[K\u001b[?25h\u001b[?2026l\u001b[?2026h\u001b[?25l\u001b[A\u001b[1Gpulling manifest \u001b[K\n",
      "pulling f5074b1221da:  15% ▕██                ▏ 645 MB/4.4 GB  6.0 MB/s  10m21s\u001b[K\u001b[?25h\u001b[?2026l\u001b[?2026h\u001b[?25l\u001b[A\u001b[1Gpulling manifest \u001b[K\n",
      "pulling f5074b1221da:  15% ▕██                ▏ 646 MB/4.4 GB  6.0 MB/s  10m21s\u001b[K\u001b[?25h\u001b[?2026l\u001b[?2026h\u001b[?25l\u001b[A\u001b[1Gpulling manifest \u001b[K\n",
      "pulling f5074b1221da:  15% ▕██                ▏ 646 MB/4.4 GB  6.0 MB/s  10m21s\u001b[K\u001b[?25h\u001b[?2026l\u001b[?2026h\u001b[?25l\u001b[A\u001b[1Gpulling manifest \u001b[K\n",
      "pulling f5074b1221da:  15% ▕██                ▏ 647 MB/4.4 GB  6.0 MB/s  10m21s\u001b[K\u001b[?25h\u001b[?2026l\u001b[?2026h\u001b[?25l\u001b[A\u001b[1Gpulling manifest \u001b[K\n",
      "pulling f5074b1221da:  15% ▕██                ▏ 647 MB/4.4 GB  6.0 MB/s  10m20s\u001b[K\u001b[?25h\u001b[?2026l\u001b[?2026h\u001b[?25l\u001b[A\u001b[1Gpulling manifest \u001b[K\n",
      "pulling f5074b1221da:  15% ▕██                ▏ 648 MB/4.4 GB  6.0 MB/s  10m20s\u001b[K\u001b[?25h\u001b[?2026l\u001b[?2026h\u001b[?25l\u001b[A\u001b[1Gpulling manifest \u001b[K\n",
      "pulling f5074b1221da:  15% ▕██                ▏ 649 MB/4.4 GB  6.0 MB/s  10m20s\u001b[K\u001b[?25h\u001b[?2026l\u001b[?2026h\u001b[?25l\u001b[A\u001b[1Gpulling manifest \u001b[K\n",
      "pulling f5074b1221da:  15% ▕██                ▏ 649 MB/4.4 GB  6.0 MB/s  10m20s\u001b[K\u001b[?25h\u001b[?2026l\u001b[?2026h\u001b[?25l\u001b[A\u001b[1Gpulling manifest \u001b[K\n",
      "pulling f5074b1221da:  15% ▕██                ▏ 650 MB/4.4 GB  6.0 MB/s  10m20s\u001b[K\u001b[?25h\u001b[?2026l\u001b[?2026h\u001b[?25l\u001b[A\u001b[1Gpulling manifest \u001b[K\n",
      "pulling f5074b1221da:  15% ▕██                ▏ 651 MB/4.4 GB  6.0 MB/s  10m25s\u001b[K\u001b[?25h\u001b[?2026l\u001b[?2026h\u001b[?25l\u001b[A\u001b[1Gpulling manifest \u001b[K\n",
      "pulling f5074b1221da:  15% ▕██                ▏ 651 MB/4.4 GB  6.0 MB/s  10m25s\u001b[K\u001b[?25h\u001b[?2026l\u001b[?2026h\u001b[?25l\u001b[A\u001b[1Gpulling manifest \u001b[K\n",
      "pulling f5074b1221da:  15% ▕██                ▏ 652 MB/4.4 GB  6.0 MB/s  10m24s\u001b[K\u001b[?25h\u001b[?2026l\u001b[?2026h\u001b[?25l\u001b[A\u001b[1Gpulling manifest \u001b[K\n",
      "pulling f5074b1221da:  15% ▕██                ▏ 653 MB/4.4 GB  6.0 MB/s  10m24s\u001b[K\u001b[?25h\u001b[?2026l\u001b[?2026h\u001b[?25l\u001b[A\u001b[1Gpulling manifest \u001b[K\n",
      "pulling f5074b1221da:  15% ▕██                ▏ 653 MB/4.4 GB  6.0 MB/s  10m24s\u001b[K\u001b[?25h\u001b[?2026l\u001b[?2026h\u001b[?25l\u001b[A\u001b[1Gpulling manifest \u001b[K\n",
      "pulling f5074b1221da:  15% ▕██                ▏ 654 MB/4.4 GB  6.0 MB/s  10m24s\u001b[K\u001b[?25h\u001b[?2026l\u001b[?2026h\u001b[?25l\u001b[A\u001b[1Gpulling manifest \u001b[K\n",
      "pulling f5074b1221da:  15% ▕██                ▏ 655 MB/4.4 GB  6.0 MB/s  10m24s\u001b[K\u001b[?25h\u001b[?2026l\u001b[?2026h\u001b[?25l\u001b[A\u001b[1Gpulling manifest \u001b[K\n",
      "pulling f5074b1221da:  15% ▕██                ▏ 655 MB/4.4 GB  6.0 MB/s  10m24s\u001b[K\u001b[?25h\u001b[?2026l\u001b[?2026h\u001b[?25l\u001b[A\u001b[1Gpulling manifest \u001b[K\n",
      "pulling f5074b1221da:  15% ▕██                ▏ 656 MB/4.4 GB  6.0 MB/s  10m24s\u001b[K\u001b[?25h\u001b[?2026l\u001b[?2026h\u001b[?25l\u001b[A\u001b[1Gpulling manifest \u001b[K\n",
      "pulling f5074b1221da:  15% ▕██                ▏ 657 MB/4.4 GB  6.0 MB/s  10m24s\u001b[K\u001b[?25h\u001b[?2026l\u001b[?2026h\u001b[?25l\u001b[A\u001b[1Gpulling manifest \u001b[K\n",
      "pulling f5074b1221da:  15% ▕██                ▏ 657 MB/4.4 GB  6.0 MB/s  10m18s\u001b[K\u001b[?25h\u001b[?2026l\u001b[?2026h\u001b[?25l\u001b[A\u001b[1Gpulling manifest \u001b[K\n",
      "pulling f5074b1221da:  15% ▕██                ▏ 658 MB/4.4 GB  6.0 MB/s  10m18s\u001b[K\u001b[?25h\u001b[?2026l\u001b[?2026h\u001b[?25l\u001b[A\u001b[1Gpulling manifest \u001b[K\n",
      "pulling f5074b1221da:  15% ▕██                ▏ 659 MB/4.4 GB  6.0 MB/s  10m18s\u001b[K\u001b[?25h\u001b[?2026l\u001b[?2026h\u001b[?25l\u001b[A\u001b[1Gpulling manifest \u001b[K\n",
      "pulling f5074b1221da:  15% ▕██                ▏ 659 MB/4.4 GB  6.0 MB/s  10m18s\u001b[K\u001b[?25h\u001b[?2026l\u001b[?2026h\u001b[?25l\u001b[A\u001b[1Gpulling manifest \u001b[K\n",
      "pulling f5074b1221da:  15% ▕██                ▏ 660 MB/4.4 GB  6.0 MB/s  10m18s\u001b[K\u001b[?25h\u001b[?2026l\u001b[?2026h\u001b[?25l\u001b[A\u001b[1Gpulling manifest \u001b[K\n",
      "pulling f5074b1221da:  15% ▕██                ▏ 661 MB/4.4 GB  6.0 MB/s  10m18s\u001b[K\u001b[?25h\u001b[?2026l\u001b[?2026h\u001b[?25l\u001b[A\u001b[1Gpulling manifest \u001b[K\n",
      "pulling f5074b1221da:  15% ▕██                ▏ 661 MB/4.4 GB  6.0 MB/s  10m18s\u001b[K\u001b[?25h\u001b[?2026l\u001b[?2026h\u001b[?25l\u001b[A\u001b[1Gpulling manifest \u001b[K\n",
      "pulling f5074b1221da:  15% ▕██                ▏ 662 MB/4.4 GB  6.0 MB/s  10m17s\u001b[K\u001b[?25h\u001b[?2026l\u001b[?2026h\u001b[?25l\u001b[A\u001b[1Gpulling manifest \u001b[K\n",
      "pulling f5074b1221da:  15% ▕██                ▏ 663 MB/4.4 GB  6.0 MB/s  10m17s\u001b[K\u001b[?25h\u001b[?2026l\u001b[?2026h\u001b[?25l\u001b[A\u001b[1Gpulling manifest \u001b[K\n",
      "pulling f5074b1221da:  15% ▕██                ▏ 663 MB/4.4 GB  6.0 MB/s  10m17s\u001b[K\u001b[?25h\u001b[?2026l\u001b[?2026h\u001b[?25l\u001b[A\u001b[1Gpulling manifest \u001b[K\n",
      "pulling f5074b1221da:  15% ▕██                ▏ 664 MB/4.4 GB  6.1 MB/s  10m11s\u001b[K\u001b[?25h\u001b[?2026l\u001b[?2026h\u001b[?25l\u001b[A\u001b[1Gpulling manifest \u001b[K\n",
      "pulling f5074b1221da:  15% ▕██                ▏ 664 MB/4.4 GB  6.1 MB/s  10m10s\u001b[K\u001b[?25h\u001b[?2026l\u001b[?2026h\u001b[?25l\u001b[A\u001b[1Gpulling manifest \u001b[K\n",
      "pulling f5074b1221da:  15% ▕██                ▏ 665 MB/4.4 GB  6.1 MB/s  10m10s\u001b[K\u001b[?25h\u001b[?2026l\u001b[?2026h\u001b[?25l\u001b[A\u001b[1Gpulling manifest \u001b[K\n",
      "pulling f5074b1221da:  15% ▕██                ▏ 666 MB/4.4 GB  6.1 MB/s  10m10s\u001b[K\u001b[?25h\u001b[?2026l\u001b[?2026h\u001b[?25l\u001b[A\u001b[1Gpulling manifest \u001b[K\n",
      "pulling f5074b1221da:  15% ▕██                ▏ 666 MB/4.4 GB  6.1 MB/s  10m10s\u001b[K\u001b[?25h\u001b[?2026l\u001b[?2026h\u001b[?25l\u001b[A\u001b[1Gpulling manifest \u001b[K\n",
      "pulling f5074b1221da:  15% ▕██                ▏ 667 MB/4.4 GB  6.1 MB/s  10m10s\u001b[K\u001b[?25h\u001b[?2026l\u001b[?2026h\u001b[?25l\u001b[A\u001b[1Gpulling manifest \u001b[K\n",
      "pulling f5074b1221da:  15% ▕██                ▏ 667 MB/4.4 GB  6.1 MB/s  10m10s\u001b[K\u001b[?25h\u001b[?2026l\u001b[?2026h\u001b[?25l\u001b[A\u001b[1Gpulling manifest \u001b[K\n",
      "pulling f5074b1221da:  15% ▕██                ▏ 668 MB/4.4 GB  6.1 MB/s  10m10s\u001b[K\u001b[?25h\u001b[?2026l\u001b[?2026h\u001b[?25l\u001b[A\u001b[1Gpulling manifest \u001b[K\n",
      "pulling f5074b1221da:  15% ▕██                ▏ 668 MB/4.4 GB  6.1 MB/s  10m10s\u001b[K\u001b[?25h\u001b[?2026l\u001b[?2026h\u001b[?25l\u001b[A\u001b[1Gpulling manifest \u001b[K\n",
      "pulling f5074b1221da:  15% ▕██                ▏ 669 MB/4.4 GB  6.1 MB/s  10m10s\u001b[K\u001b[?25h\u001b[?2026l\u001b[?2026h\u001b[?25l\u001b[A\u001b[1Gpulling manifest \u001b[K\n",
      "pulling f5074b1221da:  15% ▕██                ▏ 670 MB/4.4 GB  6.3 MB/s   9m43s\u001b[K\u001b[?25h\u001b[?2026l\u001b[?2026h\u001b[?25l\u001b[A\u001b[1Gpulling manifest \u001b[K\n",
      "pulling f5074b1221da:  15% ▕██                ▏ 670 MB/4.4 GB  6.3 MB/s   9m43s\u001b[K\u001b[?25h\u001b[?2026l\u001b[?2026h\u001b[?25l\u001b[A\u001b[1Gpulling manifest \u001b[K\n",
      "pulling f5074b1221da:  15% ▕██                ▏ 671 MB/4.4 GB  6.3 MB/s   9m43s\u001b[K\u001b[?25h\u001b[?2026l\u001b[?2026h\u001b[?25l\u001b[A\u001b[1Gpulling manifest \u001b[K\n",
      "pulling f5074b1221da:  15% ▕██                ▏ 672 MB/4.4 GB  6.3 MB/s   9m43s\u001b[K\u001b[?25h\u001b[?2026l\u001b[?2026h\u001b[?25l\u001b[A\u001b[1Gpulling manifest \u001b[K\n",
      "pulling f5074b1221da:  15% ▕██                ▏ 672 MB/4.4 GB  6.3 MB/s   9m43s\u001b[K\u001b[?25h\u001b[?2026l\u001b[?2026h\u001b[?25l\u001b[A\u001b[1Gpulling manifest \u001b[K\n",
      "pulling f5074b1221da:  15% ▕██                ▏ 673 MB/4.4 GB  6.3 MB/s   9m43s\u001b[K\u001b[?25h\u001b[?2026l\u001b[?2026h\u001b[?25l\u001b[A\u001b[1Gpulling manifest \u001b[K\n",
      "pulling f5074b1221da:  15% ▕██                ▏ 674 MB/4.4 GB  6.3 MB/s   9m43s\u001b[K\u001b[?25h\u001b[?2026l\u001b[?2026h\u001b[?25l\u001b[A\u001b[1Gpulling manifest \u001b[K\n",
      "pulling f5074b1221da:  15% ▕██                ▏ 674 MB/4.4 GB  6.3 MB/s   9m43s\u001b[K\u001b[?25h\u001b[?2026l\u001b[?2026h\u001b[?25l\u001b[A\u001b[1Gpulling manifest \u001b[K\n",
      "pulling f5074b1221da:  15% ▕██                ▏ 675 MB/4.4 GB  6.3 MB/s   9m43s\u001b[K\u001b[?25h\u001b[?2026l\u001b[?2026h\u001b[?25l\u001b[A\u001b[1Gpulling manifest \u001b[K\n",
      "pulling f5074b1221da:  15% ▕██                ▏ 676 MB/4.4 GB  6.3 MB/s   9m43s\u001b[K\u001b[?25h\u001b[?2026l\u001b[?2026h\u001b[?25l\u001b[A\u001b[1Gpulling manifest \u001b[K\n",
      "pulling f5074b1221da:  15% ▕██                ▏ 676 MB/4.4 GB  6.3 MB/s   9m43s\u001b[K\u001b[?25h\u001b[?2026l\u001b[?2026h\u001b[?25l\u001b[A\u001b[1Gpulling manifest \u001b[K\n",
      "pulling f5074b1221da:  15% ▕██                ▏ 677 MB/4.4 GB  6.5 MB/s   9m31s\u001b[K\u001b[?25h\u001b[?2026l\u001b[?2026h\u001b[?25l\u001b[A\u001b[1Gpulling manifest \u001b[K\n",
      "pulling f5074b1221da:  16% ▕██                ▏ 677 MB/4.4 GB  6.5 MB/s   9m31s\u001b[K\u001b[?25h\u001b[?2026l\u001b[?2026h\u001b[?25l\u001b[A\u001b[1Gpulling manifest \u001b[K\n",
      "pulling f5074b1221da:  16% ▕██                ▏ 678 MB/4.4 GB  6.5 MB/s   9m31s\u001b[K\u001b[?25h\u001b[?2026l\u001b[?2026h\u001b[?25l\u001b[A\u001b[1Gpulling manifest \u001b[K\n",
      "pulling f5074b1221da:  16% ▕██                ▏ 678 MB/4.4 GB  6.5 MB/s   9m31s\u001b[K\u001b[?25h\u001b[?2026l\u001b[?2026h\u001b[?25l\u001b[A\u001b[1Gpulling manifest \u001b[K\n",
      "pulling f5074b1221da:  16% ▕██                ▏ 678 MB/4.4 GB  6.5 MB/s   9m31s\u001b[K\u001b[?25h\u001b[?2026l\u001b[?2026h\u001b[?25l\u001b[A\u001b[1Gpulling manifest \u001b[K\n",
      "pulling f5074b1221da:  16% ▕██                ▏ 679 MB/4.4 GB  6.5 MB/s   9m31s\u001b[K\u001b[?25h\u001b[?2026l\u001b[?2026h\u001b[?25l\u001b[A\u001b[1Gpulling manifest \u001b[K\n",
      "pulling f5074b1221da:  16% ▕██                ▏ 679 MB/4.4 GB  6.5 MB/s   9m31s\u001b[K\u001b[?25h\u001b[?2026l\u001b[?2026h\u001b[?25l\u001b[A\u001b[1Gpulling manifest \u001b[K\n",
      "pulling f5074b1221da:  16% ▕██                ▏ 680 MB/4.4 GB  6.5 MB/s   9m31s\u001b[K\u001b[?25h\u001b[?2026l\u001b[?2026h\u001b[?25l\u001b[A\u001b[1Gpulling manifest \u001b[K\n",
      "pulling f5074b1221da:  16% ▕██                ▏ 680 MB/4.4 GB  6.5 MB/s   9m31s\u001b[K\u001b[?25h\u001b[?2026l\u001b[?2026h\u001b[?25l\u001b[A\u001b[1Gpulling manifest \u001b[K\n",
      "pulling f5074b1221da:  16% ▕██                ▏ 681 MB/4.4 GB  6.5 MB/s   9m31s\u001b[K\u001b[?25h\u001b[?2026l\u001b[?2026h\u001b[?25l\u001b[A\u001b[1Gpulling manifest \u001b[K\n",
      "pulling f5074b1221da:  16% ▕██                ▏ 681 MB/4.4 GB  6.2 MB/s   9m56s\u001b[K\u001b[?25h\u001b[?2026l\u001b[?2026h\u001b[?25l\u001b[A\u001b[1Gpulling manifest \u001b[K\n",
      "pulling f5074b1221da:  16% ▕██                ▏ 681 MB/4.4 GB  6.2 MB/s   9m56s\u001b[K\u001b[?25h\u001b[?2026l\u001b[?2026h\u001b[?25l\u001b[A\u001b[1Gpulling manifest \u001b[K\n",
      "pulling f5074b1221da:  16% ▕██                ▏ 682 MB/4.4 GB  6.2 MB/s   9m56s\u001b[K\u001b[?25h\u001b[?2026l\u001b[?2026h\u001b[?25l\u001b[A\u001b[1Gpulling manifest \u001b[K\n",
      "pulling f5074b1221da:  16% ▕██                ▏ 682 MB/4.4 GB  6.2 MB/s   9m56s\u001b[K\u001b[?25h\u001b[?2026l\u001b[?2026h\u001b[?25l\u001b[A\u001b[1Gpulling manifest \u001b[K\n",
      "pulling f5074b1221da:  16% ▕██                ▏ 683 MB/4.4 GB  6.2 MB/s   9m56s\u001b[K\u001b[?25h\u001b[?2026l\u001b[?2026h\u001b[?25l\u001b[A\u001b[1Gpulling manifest \u001b[K\n",
      "pulling f5074b1221da:  16% ▕██                ▏ 683 MB/4.4 GB  6.2 MB/s   9m56s\u001b[K\u001b[?25h\u001b[?2026l\u001b[?2026h\u001b[?25l\u001b[A\u001b[1Gpulling manifest \u001b[K\n",
      "pulling f5074b1221da:  16% ▕██                ▏ 684 MB/4.4 GB  6.2 MB/s   9m56s\u001b[K\u001b[?25h\u001b[?2026l\u001b[?2026h\u001b[?25l\u001b[A\u001b[1Gpulling manifest \u001b[K\n",
      "pulling f5074b1221da:  16% ▕██                ▏ 685 MB/4.4 GB  6.2 MB/s   9m56s\u001b[K\u001b[?25h\u001b[?2026l\u001b[?2026h\u001b[?25l\u001b[A\u001b[1Gpulling manifest \u001b[K\n",
      "pulling f5074b1221da:  16% ▕██                ▏ 685 MB/4.4 GB  6.2 MB/s   9m56s\u001b[K\u001b[?25h\u001b[?2026l\u001b[?2026h\u001b[?25l\u001b[A\u001b[1Gpulling manifest \u001b[K\n",
      "pulling f5074b1221da:  16% ▕██                ▏ 686 MB/4.4 GB  6.2 MB/s   9m55s\u001b[K\u001b[?25h\u001b[?2026l\u001b[?2026h\u001b[?25l\u001b[A\u001b[1Gpulling manifest \u001b[K\n",
      "pulling f5074b1221da:  16% ▕██                ▏ 687 MB/4.4 GB  6.1 MB/s   10m4s\u001b[K\u001b[?25h\u001b[?2026l\u001b[?2026h\u001b[?25l\u001b[A\u001b[1Gpulling manifest \u001b[K\n",
      "pulling f5074b1221da:  16% ▕██                ▏ 687 MB/4.4 GB  6.1 MB/s   10m4s\u001b[K\u001b[?25h\u001b[?2026l\u001b[?2026h\u001b[?25l\u001b[A\u001b[1Gpulling manifest \u001b[K\n",
      "pulling f5074b1221da:  16% ▕██                ▏ 688 MB/4.4 GB  6.1 MB/s   10m4s\u001b[K\u001b[?25h\u001b[?2026l\u001b[?2026h\u001b[?25l\u001b[A\u001b[1Gpulling manifest \u001b[K\n",
      "pulling f5074b1221da:  16% ▕██                ▏ 689 MB/4.4 GB  6.1 MB/s   10m4s\u001b[K\u001b[?25h\u001b[?2026l\u001b[?2026h\u001b[?25l\u001b[A\u001b[1Gpulling manifest \u001b[K\n",
      "pulling f5074b1221da:  16% ▕██                ▏ 689 MB/4.4 GB  6.1 MB/s   10m4s\u001b[K\u001b[?25h\u001b[?2026l\u001b[?2026h\u001b[?25l\u001b[A\u001b[1Gpulling manifest \u001b[K\n",
      "pulling f5074b1221da:  16% ▕██                ▏ 690 MB/4.4 GB  6.1 MB/s   10m4s\u001b[K\u001b[?25h\u001b[?2026l\u001b[?2026h\u001b[?25l\u001b[A\u001b[1Gpulling manifest \u001b[K\n",
      "pulling f5074b1221da:  16% ▕██                ▏ 690 MB/4.4 GB  6.1 MB/s   10m4s\u001b[K\u001b[?25h\u001b[?2026l\u001b[?2026h\u001b[?25l\u001b[A\u001b[1Gpulling manifest \u001b[K\n",
      "pulling f5074b1221da:  16% ▕██                ▏ 691 MB/4.4 GB  6.1 MB/s   10m3s\u001b[K\u001b[?25h\u001b[?2026l\u001b[?2026h\u001b[?25l\u001b[A\u001b[1Gpulling manifest \u001b[K\n",
      "pulling f5074b1221da:  16% ▕██                ▏ 692 MB/4.4 GB  6.1 MB/s   10m3s\u001b[K\u001b[?25h\u001b[?2026l\u001b[?2026h\u001b[?25l\u001b[A\u001b[1Gpulling manifest \u001b[K\n",
      "pulling f5074b1221da:  16% ▕██                ▏ 692 MB/4.4 GB  6.1 MB/s   10m3s\u001b[K\u001b[?25h\u001b[?2026l\u001b[?2026h\u001b[?25l\u001b[A\u001b[1Gpulling manifest \u001b[K\n",
      "pulling f5074b1221da:  16% ▕██                ▏ 693 MB/4.4 GB  6.1 MB/s   10m4s\u001b[K\u001b[?25h\u001b[?2026l\u001b[?2026h\u001b[?25l\u001b[A\u001b[1Gpulling manifest \u001b[K\n",
      "pulling f5074b1221da:  16% ▕██                ▏ 694 MB/4.4 GB  6.1 MB/s   10m4s\u001b[K\u001b[?25h\u001b[?2026l\u001b[?2026h\u001b[?25l\u001b[A\u001b[1Gpulling manifest \u001b[K\n",
      "pulling f5074b1221da:  16% ▕██                ▏ 694 MB/4.4 GB  6.1 MB/s   10m4s\u001b[K\u001b[?25h\u001b[?2026l\u001b[?2026h\u001b[?25l\u001b[A\u001b[1Gpulling manifest \u001b[K\n",
      "pulling f5074b1221da:  16% ▕██                ▏ 695 MB/4.4 GB  6.1 MB/s   10m4s\u001b[K\u001b[?25h\u001b[?2026l\u001b[?2026h\u001b[?25l\u001b[A\u001b[1Gpulling manifest \u001b[K\n",
      "pulling f5074b1221da:  16% ▕██                ▏ 696 MB/4.4 GB  6.1 MB/s   10m4s\u001b[K\u001b[?25h\u001b[?2026l\u001b[?2026h\u001b[?25l\u001b[A\u001b[1Gpulling manifest \u001b[K\n",
      "pulling f5074b1221da:  16% ▕██                ▏ 696 MB/4.4 GB  6.1 MB/s   10m3s\u001b[K\u001b[?25h\u001b[?2026l\u001b[?2026h\u001b[?25l\u001b[A\u001b[1Gpulling manifest \u001b[K\n",
      "pulling f5074b1221da:  16% ▕██                ▏ 697 MB/4.4 GB  6.1 MB/s   10m3s\u001b[K\u001b[?25h\u001b[?2026l\u001b[?2026h\u001b[?25l\u001b[A\u001b[1Gpulling manifest \u001b[K\n",
      "pulling f5074b1221da:  16% ▕██                ▏ 698 MB/4.4 GB  6.1 MB/s   10m3s\u001b[K\u001b[?25h\u001b[?2026l\u001b[?2026h\u001b[?25l\u001b[A\u001b[1Gpulling manifest \u001b[K\n",
      "pulling f5074b1221da:  16% ▕██                ▏ 698 MB/4.4 GB  6.1 MB/s   10m3s\u001b[K\u001b[?25h\u001b[?2026l\u001b[?2026h\u001b[?25l\u001b[A\u001b[1Gpulling manifest \u001b[K\n",
      "pulling f5074b1221da:  16% ▕██                ▏ 699 MB/4.4 GB  6.1 MB/s   10m3s\u001b[K\u001b[?25h\u001b[?2026l\u001b[?2026h\u001b[?25l\u001b[A\u001b[1Gpulling manifest \u001b[K\n",
      "pulling f5074b1221da:  16% ▕██                ▏ 699 MB/4.4 GB  6.1 MB/s   10m1s\u001b[K\u001b[?25h\u001b[?2026l\u001b[?2026h\u001b[?25l\u001b[A\u001b[1Gpulling manifest \u001b[K\n",
      "pulling f5074b1221da:  16% ▕██                ▏ 700 MB/4.4 GB  6.1 MB/s   10m0s\u001b[K\u001b[?25h\u001b[?2026l\u001b[?2026h\u001b[?25l\u001b[A\u001b[1Gpulling manifest \u001b[K\n",
      "pulling f5074b1221da:  16% ▕██                ▏ 700 MB/4.4 GB  6.1 MB/s   10m0s\u001b[K\u001b[?25h\u001b[?2026l\u001b[?2026h\u001b[?25l\u001b[A\u001b[1Gpulling manifest \u001b[K\n",
      "pulling f5074b1221da:  16% ▕██                ▏ 701 MB/4.4 GB  6.1 MB/s   10m0s\u001b[K\u001b[?25h\u001b[?2026l\u001b[?2026h\u001b[?25l\u001b[A\u001b[1Gpulling manifest \u001b[K\n",
      "pulling f5074b1221da:  16% ▕██                ▏ 701 MB/4.4 GB  6.1 MB/s   10m0s\u001b[K\u001b[?25h\u001b[?2026l\u001b[?2026h\u001b[?25l\u001b[A\u001b[1Gpulling manifest \u001b[K\n",
      "pulling f5074b1221da:  16% ▕██                ▏ 702 MB/4.4 GB  6.1 MB/s   10m0s\u001b[K\u001b[?25h\u001b[?2026l\u001b[?2026h\u001b[?25l\u001b[A\u001b[1Gpulling manifest \u001b[K\n",
      "pulling f5074b1221da:  16% ▕██                ▏ 702 MB/4.4 GB  6.1 MB/s   10m0s\u001b[K\u001b[?25h\u001b[?2026l\u001b[?2026h\u001b[?25l\u001b[A\u001b[1Gpulling manifest \u001b[K\n",
      "pulling f5074b1221da:  16% ▕██                ▏ 703 MB/4.4 GB  6.1 MB/s   10m0s\u001b[K\u001b[?25h\u001b[?2026l\u001b[?2026h\u001b[?25l\u001b[A\u001b[1Gpulling manifest \u001b[K\n",
      "pulling f5074b1221da:  16% ▕██                ▏ 703 MB/4.4 GB  6.1 MB/s   10m0s\u001b[K\u001b[?25h\u001b[?2026l\u001b[?2026h\u001b[?25l\u001b[A\u001b[1Gpulling manifest \u001b[K\n",
      "pulling f5074b1221da:  16% ▕██                ▏ 704 MB/4.4 GB  6.1 MB/s   10m0s\u001b[K\u001b[?25h\u001b[?2026l\u001b[?2026h\u001b[?25l\u001b[A\u001b[1Gpulling manifest \u001b[K\n",
      "pulling f5074b1221da:  16% ▕██                ▏ 705 MB/4.4 GB  6.1 MB/s   10m0s\u001b[K\u001b[?25h\u001b[?2026l\u001b[?2026h\u001b[?25l\u001b[A\u001b[1Gpulling manifest \u001b[K\n",
      "pulling f5074b1221da:  16% ▕██                ▏ 705 MB/4.4 GB  6.1 MB/s   10m6s\u001b[K\u001b[?25h\u001b[?2026l\u001b[?2026h\u001b[?25l\u001b[A\u001b[1Gpulling manifest \u001b[K\n",
      "pulling f5074b1221da:  16% ▕██                ▏ 706 MB/4.4 GB  6.1 MB/s   10m5s\u001b[K\u001b[?25h\u001b[?2026l\u001b[?2026h\u001b[?25l\u001b[A\u001b[1Gpulling manifest \u001b[K\n",
      "pulling f5074b1221da:  16% ▕██                ▏ 707 MB/4.4 GB  6.1 MB/s   10m5s\u001b[K\u001b[?25h\u001b[?2026l\u001b[?2026h\u001b[?25l\u001b[A\u001b[1Gpulling manifest \u001b[K\n",
      "pulling f5074b1221da:  16% ▕██                ▏ 707 MB/4.4 GB  6.1 MB/s   10m5s\u001b[K\u001b[?25h\u001b[?2026l\u001b[?2026h\u001b[?25l\u001b[A\u001b[1Gpulling manifest \u001b[K\n",
      "pulling f5074b1221da:  16% ▕██                ▏ 708 MB/4.4 GB  6.1 MB/s   10m5s\u001b[K\u001b[?25h\u001b[?2026l\u001b[?2026h\u001b[?25l\u001b[A\u001b[1Gpulling manifest \u001b[K\n",
      "pulling f5074b1221da:  16% ▕██                ▏ 708 MB/4.4 GB  6.1 MB/s   10m5s\u001b[K\u001b[?25h\u001b[?2026l\u001b[?2026h\u001b[?25l\u001b[A\u001b[1Gpulling manifest \u001b[K\n",
      "pulling f5074b1221da:  16% ▕██                ▏ 709 MB/4.4 GB  6.1 MB/s   10m5s\u001b[K\u001b[?25h\u001b[?2026l\u001b[?2026h\u001b[?25l\u001b[A\u001b[1Gpulling manifest \u001b[K\n",
      "pulling f5074b1221da:  16% ▕██                ▏ 710 MB/4.4 GB  6.1 MB/s   10m5s\u001b[K\u001b[?25h\u001b[?2026l\u001b[?2026h\u001b[?25l\u001b[A\u001b[1Gpulling manifest \u001b[K\n",
      "pulling f5074b1221da:  16% ▕██                ▏ 710 MB/4.4 GB  6.1 MB/s   10m5s\u001b[K\u001b[?25h\u001b[?2026l\u001b[?2026h\u001b[?25l\u001b[A\u001b[1Gpulling manifest \u001b[K\n",
      "pulling f5074b1221da:  16% ▕██                ▏ 711 MB/4.4 GB  6.1 MB/s   10m5s\u001b[K\u001b[?25h\u001b[?2026l\u001b[?2026h\u001b[?25l\u001b[A\u001b[1Gpulling manifest \u001b[K\n",
      "pulling f5074b1221da:  16% ▕██                ▏ 712 MB/4.4 GB  6.0 MB/s   10m5s\u001b[K\u001b[?25h\u001b[?2026l\u001b[?2026h\u001b[?25l\u001b[A\u001b[1Gpulling manifest \u001b[K\n",
      "pulling f5074b1221da:  16% ▕██                ▏ 712 MB/4.4 GB  6.0 MB/s   10m5s\u001b[K\u001b[?25h\u001b[?2026l\u001b[?2026h\u001b[?25l\u001b[A\u001b[1Gpulling manifest \u001b[K\n",
      "pulling f5074b1221da:  16% ▕██                ▏ 713 MB/4.4 GB  6.0 MB/s   10m5s\u001b[K\u001b[?25h\u001b[?2026l\u001b[?2026h\u001b[?25l\u001b[A\u001b[1Gpulling manifest \u001b[K\n",
      "pulling f5074b1221da:  16% ▕██                ▏ 714 MB/4.4 GB  6.0 MB/s   10m5s\u001b[K\u001b[?25h\u001b[?2026l\u001b[?2026h\u001b[?25l\u001b[A\u001b[1Gpulling manifest \u001b[K\n",
      "pulling f5074b1221da:  16% ▕██                ▏ 714 MB/4.4 GB  6.0 MB/s   10m5s\u001b[K\u001b[?25h\u001b[?2026l\u001b[?2026h\u001b[?25l\u001b[A\u001b[1Gpulling manifest \u001b[K\n",
      "pulling f5074b1221da:  16% ▕██                ▏ 715 MB/4.4 GB  6.0 MB/s   10m5s\u001b[K\u001b[?25h\u001b[?2026l\u001b[?2026h\u001b[?25l\u001b[A\u001b[1Gpulling manifest \u001b[K\n",
      "pulling f5074b1221da:  16% ▕██                ▏ 716 MB/4.4 GB  6.0 MB/s   10m4s\u001b[K\u001b[?25h\u001b[?2026l\u001b[?2026h\u001b[?25l\u001b[A\u001b[1Gpulling manifest \u001b[K\n",
      "pulling f5074b1221da:  16% ▕██                ▏ 716 MB/4.4 GB  6.0 MB/s   10m4s\u001b[K\u001b[?25h\u001b[?2026l\u001b[?2026h\u001b[?25l\u001b[A\u001b[1Gpulling manifest \u001b[K\n",
      "pulling f5074b1221da:  16% ▕██                ▏ 717 MB/4.4 GB  6.0 MB/s   10m4s\u001b[K\u001b[?25h\u001b[?2026l\u001b[?2026h\u001b[?25l\u001b[A\u001b[1Gpulling manifest \u001b[K\n",
      "pulling f5074b1221da:  16% ▕██                ▏ 718 MB/4.4 GB  6.0 MB/s   10m4s\u001b[K\u001b[?25h\u001b[?2026l\u001b[?2026h\u001b[?25l\u001b[A\u001b[1Gpulling manifest \u001b[K\n",
      "pulling f5074b1221da:  16% ▕██                ▏ 718 MB/4.4 GB  6.1 MB/s   10m2s\u001b[K\u001b[?25h\u001b[?2026l\u001b[?2026h\u001b[?25l\u001b[A\u001b[1Gpulling manifest \u001b[K\n",
      "pulling f5074b1221da:  16% ▕██                ▏ 719 MB/4.4 GB  6.1 MB/s   10m2s\u001b[K\u001b[?25h\u001b[?2026l\u001b[?2026h\u001b[?25l\u001b[A\u001b[1Gpulling manifest \u001b[K\n",
      "pulling f5074b1221da:  16% ▕██                ▏ 720 MB/4.4 GB  6.1 MB/s   10m2s\u001b[K\u001b[?25h\u001b[?2026l\u001b[?2026h\u001b[?25l\u001b[A\u001b[1Gpulling manifest \u001b[K\n",
      "pulling f5074b1221da:  16% ▕██                ▏ 720 MB/4.4 GB  6.1 MB/s   10m2s\u001b[K\u001b[?25h\u001b[?2026l\u001b[?2026h\u001b[?25l\u001b[A\u001b[1Gpulling manifest \u001b[K\n",
      "pulling f5074b1221da:  16% ▕██                ▏ 721 MB/4.4 GB  6.1 MB/s   10m2s\u001b[K\u001b[?25h\u001b[?2026l\u001b[?2026h\u001b[?25l\u001b[A\u001b[1Gpulling manifest \u001b[K\n",
      "pulling f5074b1221da:  17% ▕██                ▏ 722 MB/4.4 GB  6.1 MB/s   10m2s\u001b[K\u001b[?25h\u001b[?2026l\u001b[?2026h\u001b[?25l\u001b[A\u001b[1Gpulling manifest \u001b[K\n",
      "pulling f5074b1221da:  17% ▕██                ▏ 722 MB/4.4 GB  6.1 MB/s   10m2s\u001b[K\u001b[?25h\u001b[?2026l\u001b[?2026h\u001b[?25l\u001b[A\u001b[1Gpulling manifest \u001b[K\n",
      "pulling f5074b1221da:  17% ▕██                ▏ 722 MB/4.4 GB  6.1 MB/s   10m2s\u001b[K\u001b[?25h\u001b[?2026l\u001b[?2026h\u001b[?25l\u001b[A\u001b[1Gpulling manifest \u001b[K\n",
      "pulling f5074b1221da:  17% ▕██                ▏ 723 MB/4.4 GB  6.1 MB/s   10m2s\u001b[K\u001b[?25h\u001b[?2026l\u001b[?2026h\u001b[?25l\u001b[A\u001b[1Gpulling manifest \u001b[K\n",
      "pulling f5074b1221da:  17% ▕██                ▏ 723 MB/4.4 GB  6.1 MB/s   10m2s\u001b[K\u001b[?25h\u001b[?2026l\u001b[?2026h\u001b[?25l\u001b[A\u001b[1Gpulling manifest \u001b[K\n",
      "pulling f5074b1221da:  17% ▕██                ▏ 723 MB/4.4 GB  5.9 MB/s  10m16s\u001b[K\u001b[?25h\u001b[?2026l\u001b[?2026h\u001b[?25l\u001b[A\u001b[1Gpulling manifest \u001b[K\n",
      "pulling f5074b1221da:  17% ▕██                ▏ 724 MB/4.4 GB  5.9 MB/s  10m16s\u001b[K\u001b[?25h\u001b[?2026l\u001b[?2026h\u001b[?25l\u001b[A\u001b[1Gpulling manifest \u001b[K\n",
      "pulling f5074b1221da:  17% ▕██                ▏ 724 MB/4.4 GB  5.9 MB/s  10m16s\u001b[K\u001b[?25h\u001b[?2026l\u001b[?2026h\u001b[?25l\u001b[A\u001b[1Gpulling manifest \u001b[K\n",
      "pulling f5074b1221da:  17% ▕██                ▏ 724 MB/4.4 GB  5.9 MB/s  10m16s\u001b[K\u001b[?25h\u001b[?2026l\u001b[?2026h\u001b[?25l\u001b[A\u001b[1Gpulling manifest \u001b[K\n",
      "pulling f5074b1221da:  17% ▕██                ▏ 725 MB/4.4 GB  5.9 MB/s  10m16s\u001b[K\u001b[?25h\u001b[?2026l\u001b[?2026h\u001b[?25l\u001b[A\u001b[1Gpulling manifest \u001b[K\n",
      "pulling f5074b1221da:  17% ▕██                ▏ 725 MB/4.4 GB  5.9 MB/s  10m16s\u001b[K\u001b[?25h\u001b[?2026l\u001b[?2026h\u001b[?25l\u001b[A\u001b[1Gpulling manifest \u001b[K\n",
      "pulling f5074b1221da:  17% ▕██                ▏ 725 MB/4.4 GB  5.9 MB/s  10m16s\u001b[K\u001b[?25h\u001b[?2026l\u001b[?2026h\u001b[?25l\u001b[A\u001b[1Gpulling manifest \u001b[K\n",
      "pulling f5074b1221da:  17% ▕██                ▏ 725 MB/4.4 GB  5.9 MB/s  10m16s\u001b[K\u001b[?25h\u001b[?2026l\u001b[?2026h\u001b[?25l\u001b[A\u001b[1Gpulling manifest \u001b[K\n",
      "pulling f5074b1221da:  17% ▕██                ▏ 725 MB/4.4 GB  5.9 MB/s  10m16s\u001b[K\u001b[?25h\u001b[?2026l\u001b[?2026h\u001b[?25l\u001b[A\u001b[1Gpulling manifest \u001b[K\n",
      "pulling f5074b1221da:  17% ▕██                ▏ 727 MB/4.4 GB  5.9 MB/s  10m15s\u001b[K\u001b[?25h\u001b[?2026l\u001b[?2026h\u001b[?25l\u001b[A\u001b[1Gpulling manifest \u001b[K\n",
      "pulling f5074b1221da:  17% ▕██                ▏ 728 MB/4.4 GB  5.7 MB/s  10m39s\u001b[K\u001b[?25h\u001b[?2026l\u001b[?2026h\u001b[?25l\u001b[A\u001b[1Gpulling manifest \u001b[K\n",
      "pulling f5074b1221da:  17% ▕██                ▏ 728 MB/4.4 GB  5.7 MB/s  10m39s\u001b[K\u001b[?25h\u001b[?2026l\u001b[?2026h\u001b[?25l\u001b[A\u001b[1Gpulling manifest \u001b[K\n",
      "pulling f5074b1221da:  17% ▕███               ▏ 729 MB/4.4 GB  5.7 MB/s  10m39s\u001b[K\u001b[?25h\u001b[?2026l\u001b[?2026h\u001b[?25l\u001b[A\u001b[1Gpulling manifest \u001b[K\n",
      "pulling f5074b1221da:  17% ▕███               ▏ 730 MB/4.4 GB  5.7 MB/s  10m39s\u001b[K\u001b[?25h\u001b[?2026l\u001b[?2026h\u001b[?25l\u001b[A\u001b[1Gpulling manifest \u001b[K\n",
      "pulling f5074b1221da:  17% ▕███               ▏ 730 MB/4.4 GB  5.7 MB/s  10m39s\u001b[K\u001b[?25h\u001b[?2026l\u001b[?2026h\u001b[?25l\u001b[A\u001b[1Gpulling manifest \u001b[K\n",
      "pulling f5074b1221da:  17% ▕███               ▏ 731 MB/4.4 GB  5.7 MB/s  10m39s\u001b[K\u001b[?25h\u001b[?2026l\u001b[?2026h\u001b[?25l\u001b[A\u001b[1Gpulling manifest \u001b[K\n",
      "pulling f5074b1221da:  17% ▕███               ▏ 732 MB/4.4 GB  5.7 MB/s  10m39s\u001b[K\u001b[?25h\u001b[?2026l\u001b[?2026h\u001b[?25l\u001b[A\u001b[1Gpulling manifest \u001b[K\n",
      "pulling f5074b1221da:  17% ▕███               ▏ 732 MB/4.4 GB  5.7 MB/s  10m39s\u001b[K\u001b[?25h\u001b[?2026l\u001b[?2026h\u001b[?25l\u001b[A\u001b[1Gpulling manifest \u001b[K\n",
      "pulling f5074b1221da:  17% ▕███               ▏ 733 MB/4.4 GB  5.7 MB/s  10m38s\u001b[K\u001b[?25h\u001b[?2026l\u001b[?2026h\u001b[?25l\u001b[A\u001b[1Gpulling manifest \u001b[K\n",
      "pulling f5074b1221da:  17% ▕███               ▏ 734 MB/4.4 GB  5.7 MB/s  10m38s\u001b[K\u001b[?25h\u001b[?2026l\u001b[?2026h\u001b[?25l\u001b[A\u001b[1Gpulling manifest \u001b[K\n",
      "pulling f5074b1221da:  17% ▕███               ▏ 734 MB/4.4 GB  5.7 MB/s  10m38s\u001b[K\u001b[?25h\u001b[?2026l\u001b[?2026h\u001b[?25l\u001b[A\u001b[1Gpulling manifest \u001b[K\n",
      "pulling f5074b1221da:  17% ▕███               ▏ 735 MB/4.4 GB  5.9 MB/s  10m12s\u001b[K\u001b[?25h\u001b[?2026l\u001b[?2026h\u001b[?25l\u001b[A\u001b[1Gpulling manifest \u001b[K\n",
      "pulling f5074b1221da:  17% ▕███               ▏ 735 MB/4.4 GB  5.9 MB/s  10m12s\u001b[K\u001b[?25h\u001b[?2026l\u001b[?2026h\u001b[?25l\u001b[A\u001b[1Gpulling manifest \u001b[K\n",
      "pulling f5074b1221da:  17% ▕███               ▏ 735 MB/4.4 GB  5.9 MB/s  10m12s\u001b[K\u001b[?25h\u001b[?2026l\u001b[?2026h\u001b[?25l\u001b[A\u001b[1Gpulling manifest \u001b[K\n",
      "pulling f5074b1221da:  17% ▕███               ▏ 736 MB/4.4 GB  5.9 MB/s  10m11s\u001b[K\u001b[?25h\u001b[?2026l\u001b[?2026h\u001b[?25l\u001b[A\u001b[1Gpulling manifest \u001b[K\n",
      "pulling f5074b1221da:  17% ▕███               ▏ 736 MB/4.4 GB  5.9 MB/s  10m11s\u001b[K\u001b[?25h\u001b[?2026l\u001b[?2026h\u001b[?25l\u001b[A\u001b[1Gpulling manifest \u001b[K\n",
      "pulling f5074b1221da:  17% ▕███               ▏ 737 MB/4.4 GB  5.9 MB/s  10m11s\u001b[K\u001b[?25h\u001b[?2026l\u001b[?2026h\u001b[?25l\u001b[A\u001b[1Gpulling manifest \u001b[K\n",
      "pulling f5074b1221da:  17% ▕███               ▏ 737 MB/4.4 GB  5.9 MB/s  10m11s\u001b[K\u001b[?25h\u001b[?2026l\u001b[?2026h\u001b[?25l\u001b[A\u001b[1Gpulling manifest \u001b[K\n",
      "pulling f5074b1221da:  17% ▕███               ▏ 738 MB/4.4 GB  5.9 MB/s  10m11s\u001b[K\u001b[?25h\u001b[?2026l\u001b[?2026h\u001b[?25l\u001b[A\u001b[1Gpulling manifest \u001b[K\n",
      "pulling f5074b1221da:  17% ▕███               ▏ 739 MB/4.4 GB  5.9 MB/s  10m11s\u001b[K\u001b[?25h\u001b[?2026l\u001b[?2026h\u001b[?25l\u001b[A\u001b[1Gpulling manifest \u001b[K\n",
      "pulling f5074b1221da:  17% ▕███               ▏ 739 MB/4.4 GB  5.9 MB/s  10m11s\u001b[K\u001b[?25h\u001b[?2026l\u001b[?2026h\u001b[?25l\u001b[A\u001b[1Gpulling manifest \u001b[K\n",
      "pulling f5074b1221da:  17% ▕███               ▏ 740 MB/4.4 GB  5.9 MB/s  10m13s\u001b[K\u001b[?25h\u001b[?2026l\u001b[?2026h\u001b[?25l\u001b[A\u001b[1Gpulling manifest \u001b[K\n",
      "pulling f5074b1221da:  17% ▕███               ▏ 741 MB/4.4 GB  5.9 MB/s  10m13s\u001b[K\u001b[?25h\u001b[?2026l\u001b[?2026h\u001b[?25l\u001b[A\u001b[1Gpulling manifest \u001b[K\n",
      "pulling f5074b1221da:  17% ▕███               ▏ 741 MB/4.4 GB  5.9 MB/s  10m12s\u001b[K\u001b[?25h\u001b[?2026l\u001b[?2026h\u001b[?25l\u001b[A\u001b[1Gpulling manifest \u001b[K\n",
      "pulling f5074b1221da:  17% ▕███               ▏ 742 MB/4.4 GB  5.9 MB/s  10m12s\u001b[K\u001b[?25h\u001b[?2026l\u001b[?2026h\u001b[?25l\u001b[A\u001b[1Gpulling manifest \u001b[K\n",
      "pulling f5074b1221da:  17% ▕███               ▏ 743 MB/4.4 GB  5.9 MB/s  10m12s\u001b[K\u001b[?25h\u001b[?2026l\u001b[?2026h\u001b[?25l\u001b[A\u001b[1Gpulling manifest \u001b[K\n",
      "pulling f5074b1221da:  17% ▕███               ▏ 743 MB/4.4 GB  5.9 MB/s  10m12s\u001b[K\u001b[?25h\u001b[?2026l\u001b[?2026h\u001b[?25l\u001b[A\u001b[1Gpulling manifest \u001b[K\n",
      "pulling f5074b1221da:  17% ▕███               ▏ 744 MB/4.4 GB  5.9 MB/s  10m12s\u001b[K\u001b[?25h\u001b[?2026l\u001b[?2026h\u001b[?25l\u001b[A\u001b[1Gpulling manifest \u001b[K\n",
      "pulling f5074b1221da:  17% ▕███               ▏ 745 MB/4.4 GB  5.9 MB/s  10m12s\u001b[K\u001b[?25h\u001b[?2026l\u001b[?2026h\u001b[?25l\u001b[A\u001b[1Gpulling manifest \u001b[K\n",
      "pulling f5074b1221da:  17% ▕███               ▏ 745 MB/4.4 GB  5.9 MB/s  10m12s\u001b[K\u001b[?25h\u001b[?2026l\u001b[?2026h\u001b[?25l\u001b[A\u001b[1Gpulling manifest \u001b[K\n",
      "pulling f5074b1221da:  17% ▕███               ▏ 746 MB/4.4 GB  5.9 MB/s  10m12s\u001b[K\u001b[?25h\u001b[?2026l\u001b[?2026h\u001b[?25l\u001b[A\u001b[1Gpulling manifest \u001b[K\n",
      "pulling f5074b1221da:  17% ▕███               ▏ 747 MB/4.4 GB  5.9 MB/s  10m10s\u001b[K\u001b[?25h\u001b[?2026l\u001b[?2026h\u001b[?25l\u001b[A\u001b[1Gpulling manifest \u001b[K\n",
      "pulling f5074b1221da:  17% ▕███               ▏ 747 MB/4.4 GB  5.9 MB/s  10m10s\u001b[K\u001b[?25h\u001b[?2026l\u001b[?2026h\u001b[?25l\u001b[A\u001b[1Gpulling manifest \u001b[K\n",
      "pulling f5074b1221da:  17% ▕███               ▏ 748 MB/4.4 GB  5.9 MB/s   10m9s\u001b[K\u001b[?25h\u001b[?2026l\u001b[?2026h\u001b[?25l\u001b[A\u001b[1Gpulling manifest \u001b[K\n",
      "pulling f5074b1221da:  17% ▕███               ▏ 748 MB/4.4 GB  5.9 MB/s   10m9s\u001b[K\u001b[?25h\u001b[?2026l\u001b[?2026h\u001b[?25l\u001b[A\u001b[1Gpulling manifest \u001b[K\n",
      "pulling f5074b1221da:  17% ▕███               ▏ 749 MB/4.4 GB  5.9 MB/s   10m9s\u001b[K\u001b[?25h\u001b[?2026l\u001b[?2026h\u001b[?25l\u001b[A\u001b[1Gpulling manifest \u001b[K\n",
      "pulling f5074b1221da:  17% ▕███               ▏ 750 MB/4.4 GB  5.9 MB/s   10m9s\u001b[K\u001b[?25h\u001b[?2026l\u001b[?2026h\u001b[?25l\u001b[A\u001b[1Gpulling manifest \u001b[K\n",
      "pulling f5074b1221da:  17% ▕███               ▏ 750 MB/4.4 GB  5.9 MB/s   10m9s\u001b[K\u001b[?25h\u001b[?2026l\u001b[?2026h\u001b[?25l\u001b[A\u001b[1Gpulling manifest \u001b[K\n",
      "pulling f5074b1221da:  17% ▕███               ▏ 751 MB/4.4 GB  5.9 MB/s   10m9s\u001b[K\u001b[?25h\u001b[?2026l\u001b[?2026h\u001b[?25l\u001b[A\u001b[1Gpulling manifest \u001b[K\n",
      "pulling f5074b1221da:  17% ▕███               ▏ 752 MB/4.4 GB  5.9 MB/s   10m9s\u001b[K\u001b[?25h\u001b[?2026l\u001b[?2026h\u001b[?25l\u001b[A\u001b[1Gpulling manifest \u001b[K\n",
      "pulling f5074b1221da:  17% ▕███               ▏ 752 MB/4.4 GB  5.9 MB/s   10m9s\u001b[K\u001b[?25h\u001b[?2026l\u001b[?2026h\u001b[?25l\u001b[A\u001b[1Gpulling manifest \u001b[K\n",
      "pulling f5074b1221da:  17% ▕███               ▏ 753 MB/4.4 GB  5.9 MB/s  10m11s\u001b[K\u001b[?25h\u001b[?2026l\u001b[?2026h\u001b[?25l\u001b[A\u001b[1Gpulling manifest \u001b[K\n",
      "pulling f5074b1221da:  17% ▕███               ▏ 753 MB/4.4 GB  5.9 MB/s  10m11s\u001b[K\u001b[?25h\u001b[?2026l\u001b[?2026h\u001b[?25l\u001b[A\u001b[1Gpulling manifest \u001b[K\n",
      "pulling f5074b1221da:  17% ▕███               ▏ 754 MB/4.4 GB  5.9 MB/s  10m11s\u001b[K\u001b[?25h\u001b[?2026l\u001b[?2026h\u001b[?25l\u001b[A\u001b[1Gpulling manifest \u001b[K\n",
      "pulling f5074b1221da:  17% ▕███               ▏ 754 MB/4.4 GB  5.9 MB/s  10m11s\u001b[K\u001b[?25h\u001b[?2026l\u001b[?2026h\u001b[?25l\u001b[A\u001b[1Gpulling manifest \u001b[K\n",
      "pulling f5074b1221da:  17% ▕███               ▏ 755 MB/4.4 GB  5.9 MB/s  10m11s\u001b[K\u001b[?25h\u001b[?2026l\u001b[?2026h\u001b[?25l\u001b[A\u001b[1Gpulling manifest \u001b[K\n",
      "pulling f5074b1221da:  17% ▕███               ▏ 755 MB/4.4 GB  5.9 MB/s  10m11s\u001b[K\u001b[?25h\u001b[?2026l\u001b[?2026h\u001b[?25l\u001b[A\u001b[1Gpulling manifest \u001b[K\n",
      "pulling f5074b1221da:  17% ▕███               ▏ 756 MB/4.4 GB  5.9 MB/s  10m11s\u001b[K\u001b[?25h\u001b[?2026l\u001b[?2026h\u001b[?25l\u001b[A\u001b[1Gpulling manifest \u001b[K\n",
      "pulling f5074b1221da:  17% ▕███               ▏ 756 MB/4.4 GB  5.9 MB/s  10m10s\u001b[K\u001b[?25h\u001b[?2026l\u001b[?2026h\u001b[?25l\u001b[A\u001b[1Gpulling manifest \u001b[K\n",
      "pulling f5074b1221da:  17% ▕███               ▏ 757 MB/4.4 GB  5.9 MB/s  10m10s\u001b[K\u001b[?25h\u001b[?2026l\u001b[?2026h\u001b[?25l\u001b[A\u001b[1Gpulling manifest \u001b[K\n",
      "pulling f5074b1221da:  17% ▕███               ▏ 757 MB/4.4 GB  5.9 MB/s  10m10s\u001b[K\u001b[?25h\u001b[?2026l\u001b[?2026h\u001b[?25l\u001b[A\u001b[1Gpulling manifest \u001b[K\n",
      "pulling f5074b1221da:  17% ▕███               ▏ 758 MB/4.4 GB  5.9 MB/s  10m12s\u001b[K\u001b[?25h\u001b[?2026l\u001b[?2026h\u001b[?25l\u001b[A\u001b[1Gpulling manifest \u001b[K\n",
      "pulling f5074b1221da:  17% ▕███               ▏ 758 MB/4.4 GB  5.9 MB/s  10m12s\u001b[K\u001b[?25h\u001b[?2026l\u001b[?2026h\u001b[?25l\u001b[A\u001b[1Gpulling manifest \u001b[K\n",
      "pulling f5074b1221da:  17% ▕███               ▏ 759 MB/4.4 GB  5.9 MB/s  10m12s\u001b[K\u001b[?25h\u001b[?2026l\u001b[?2026h\u001b[?25l\u001b[A\u001b[1Gpulling manifest \u001b[K\n",
      "pulling f5074b1221da:  17% ▕███               ▏ 760 MB/4.4 GB  5.9 MB/s  10m12s\u001b[K\u001b[?25h\u001b[?2026l\u001b[?2026h\u001b[?25l\u001b[A\u001b[1Gpulling manifest \u001b[K\n",
      "pulling f5074b1221da:  17% ▕███               ▏ 760 MB/4.4 GB  5.9 MB/s  10m12s\u001b[K\u001b[?25h\u001b[?2026l\u001b[?2026h\u001b[?25l\u001b[A\u001b[1Gpulling manifest \u001b[K\n",
      "pulling f5074b1221da:  17% ▕███               ▏ 761 MB/4.4 GB  5.9 MB/s  10m12s\u001b[K\u001b[?25h\u001b[?2026l\u001b[?2026h\u001b[?25l\u001b[A\u001b[1Gpulling manifest \u001b[K\n",
      "pulling f5074b1221da:  17% ▕███               ▏ 761 MB/4.4 GB  5.9 MB/s  10m12s\u001b[K\u001b[?25h\u001b[?2026l\u001b[?2026h\u001b[?25l\u001b[A\u001b[1Gpulling manifest \u001b[K\n",
      "pulling f5074b1221da:  17% ▕███               ▏ 762 MB/4.4 GB  5.9 MB/s  10m12s\u001b[K\u001b[?25h\u001b[?2026l\u001b[?2026h\u001b[?25l\u001b[A\u001b[1Gpulling manifest \u001b[K\n",
      "pulling f5074b1221da:  17% ▕███               ▏ 762 MB/4.4 GB  5.9 MB/s  10m12s\u001b[K\u001b[?25h\u001b[?2026l\u001b[?2026h\u001b[?25l\u001b[A\u001b[1Gpulling manifest \u001b[K\n",
      "pulling f5074b1221da:  17% ▕███               ▏ 763 MB/4.4 GB  5.9 MB/s  10m12s\u001b[K\u001b[?25h\u001b[?2026l\u001b[?2026h\u001b[?25l\u001b[A\u001b[1Gpulling manifest \u001b[K\n",
      "pulling f5074b1221da:  17% ▕███               ▏ 763 MB/4.4 GB  5.9 MB/s  10m11s\u001b[K\u001b[?25h\u001b[?2026l\u001b[?2026h\u001b[?25l\u001b[A\u001b[1Gpulling manifest \u001b[K\n",
      "pulling f5074b1221da:  17% ▕███               ▏ 764 MB/4.4 GB  5.8 MB/s  10m22s\u001b[K\u001b[?25h\u001b[?2026l\u001b[?2026h\u001b[?25l\u001b[A\u001b[1Gpulling manifest \u001b[K\n",
      "pulling f5074b1221da:  18% ▕███               ▏ 765 MB/4.4 GB  5.8 MB/s  10m22s\u001b[K\u001b[?25h\u001b[?2026l\u001b[?2026h\u001b[?25l\u001b[A\u001b[1Gpulling manifest \u001b[K\n",
      "pulling f5074b1221da:  18% ▕███               ▏ 765 MB/4.4 GB  5.8 MB/s  10m22s\u001b[K\u001b[?25h\u001b[?2026l\u001b[?2026h\u001b[?25l\u001b[A\u001b[1Gpulling manifest \u001b[K\n",
      "pulling f5074b1221da:  18% ▕███               ▏ 766 MB/4.4 GB  5.8 MB/s  10m22s\u001b[K\u001b[?25h\u001b[?2026l\u001b[?2026h\u001b[?25l\u001b[A\u001b[1Gpulling manifest \u001b[K\n",
      "pulling f5074b1221da:  18% ▕███               ▏ 767 MB/4.4 GB  5.8 MB/s  10m22s\u001b[K\u001b[?25h\u001b[?2026l\u001b[?2026h\u001b[?25l\u001b[A\u001b[1Gpulling manifest \u001b[K\n",
      "pulling f5074b1221da:  18% ▕███               ▏ 767 MB/4.4 GB  5.8 MB/s  10m22s\u001b[K\u001b[?25h\u001b[?2026l\u001b[?2026h\u001b[?25l\u001b[A\u001b[1Gpulling manifest \u001b[K\n",
      "pulling f5074b1221da:  18% ▕███               ▏ 768 MB/4.4 GB  5.8 MB/s  10m22s\u001b[K\u001b[?25h\u001b[?2026l\u001b[?2026h\u001b[?25l\u001b[A\u001b[1Gpulling manifest \u001b[K\n",
      "pulling f5074b1221da:  18% ▕███               ▏ 769 MB/4.4 GB  5.8 MB/s  10m21s\u001b[K\u001b[?25h\u001b[?2026l\u001b[?2026h\u001b[?25l\u001b[A\u001b[1Gpulling manifest \u001b[K\n",
      "pulling f5074b1221da:  18% ▕███               ▏ 769 MB/4.4 GB  5.8 MB/s  10m21s\u001b[K\u001b[?25h\u001b[?2026l\u001b[?2026h\u001b[?25l\u001b[A\u001b[1Gpulling manifest \u001b[K\n",
      "pulling f5074b1221da:  18% ▕███               ▏ 770 MB/4.4 GB  5.8 MB/s  10m21s\u001b[K\u001b[?25h\u001b[?2026l\u001b[?2026h\u001b[?25l\u001b[A\u001b[1Gpulling manifest \u001b[K\n",
      "pulling f5074b1221da:  18% ▕███               ▏ 771 MB/4.4 GB  5.8 MB/s  10m24s\u001b[K\u001b[?25h\u001b[?2026l\u001b[?2026h\u001b[?25l\u001b[A\u001b[1Gpulling manifest \u001b[K\n",
      "pulling f5074b1221da:  18% ▕███               ▏ 771 MB/4.4 GB  5.8 MB/s  10m24s\u001b[K\u001b[?25h\u001b[?2026l\u001b[?2026h\u001b[?25l\u001b[A\u001b[1Gpulling manifest \u001b[K\n",
      "pulling f5074b1221da:  18% ▕███               ▏ 772 MB/4.4 GB  5.8 MB/s  10m23s\u001b[K\u001b[?25h\u001b[?2026l\u001b[?2026h\u001b[?25l\u001b[A\u001b[1Gpulling manifest \u001b[K\n",
      "pulling f5074b1221da:  18% ▕███               ▏ 773 MB/4.4 GB  5.8 MB/s  10m23s\u001b[K\u001b[?25h\u001b[?2026l\u001b[?2026h\u001b[?25l\u001b[A\u001b[1Gpulling manifest \u001b[K\n",
      "pulling f5074b1221da:  18% ▕███               ▏ 773 MB/4.4 GB  5.8 MB/s  10m23s\u001b[K\u001b[?25h\u001b[?2026l\u001b[?2026h\u001b[?25l\u001b[A\u001b[1Gpulling manifest \u001b[K\n",
      "pulling f5074b1221da:  18% ▕███               ▏ 774 MB/4.4 GB  5.8 MB/s  10m23s\u001b[K\u001b[?25h\u001b[?2026l\u001b[?2026h\u001b[?25l\u001b[A\u001b[1Gpulling manifest \u001b[K\n",
      "pulling f5074b1221da:  18% ▕███               ▏ 775 MB/4.4 GB  5.8 MB/s  10m23s\u001b[K\u001b[?25h\u001b[?2026l\u001b[?2026h\u001b[?25l\u001b[A\u001b[1Gpulling manifest \u001b[K\n",
      "pulling f5074b1221da:  18% ▕███               ▏ 775 MB/4.4 GB  5.8 MB/s  10m23s\u001b[K\u001b[?25h\u001b[?2026l\u001b[?2026h\u001b[?25l\u001b[A\u001b[1Gpulling manifest \u001b[K\n",
      "pulling f5074b1221da:  18% ▕███               ▏ 776 MB/4.4 GB  5.8 MB/s  10m23s\u001b[K\u001b[?25h\u001b[?2026l\u001b[?2026h\u001b[?25l\u001b[A\u001b[1Gpulling manifest \u001b[K\n",
      "pulling f5074b1221da:  18% ▕███               ▏ 776 MB/4.4 GB  5.8 MB/s  10m23s\u001b[K\u001b[?25h\u001b[?2026l\u001b[?2026h\u001b[?25l\u001b[A\u001b[1Gpulling manifest \u001b[K\n",
      "pulling f5074b1221da:  18% ▕███               ▏ 777 MB/4.4 GB  6.0 MB/s   10m3s\u001b[K\u001b[?25h\u001b[?2026l\u001b[?2026h\u001b[?25l\u001b[A\u001b[1Gpulling manifest \u001b[K\n",
      "pulling f5074b1221da:  18% ▕███               ▏ 778 MB/4.4 GB  6.0 MB/s   10m3s\u001b[K\u001b[?25h\u001b[?2026l\u001b[?2026h\u001b[?25l\u001b[A\u001b[1Gpulling manifest \u001b[K\n",
      "pulling f5074b1221da:  18% ▕███               ▏ 778 MB/4.4 GB  6.0 MB/s   10m2s\u001b[K\u001b[?25h\u001b[?2026l\u001b[?2026h\u001b[?25l\u001b[A\u001b[1Gpulling manifest \u001b[K\n",
      "pulling f5074b1221da:  18% ▕███               ▏ 779 MB/4.4 GB  6.0 MB/s   10m2s\u001b[K\u001b[?25h\u001b[?2026l\u001b[?2026h\u001b[?25l\u001b[A\u001b[1Gpulling manifest \u001b[K\n",
      "pulling f5074b1221da:  18% ▕███               ▏ 780 MB/4.4 GB  6.0 MB/s   10m2s\u001b[K\u001b[?25h\u001b[?2026l\u001b[?2026h\u001b[?25l\u001b[A\u001b[1Gpulling manifest \u001b[K\n",
      "pulling f5074b1221da:  18% ▕███               ▏ 780 MB/4.4 GB  6.0 MB/s   10m2s\u001b[K\u001b[?25h\u001b[?2026l\u001b[?2026h\u001b[?25l\u001b[A\u001b[1Gpulling manifest \u001b[K\n",
      "pulling f5074b1221da:  18% ▕███               ▏ 780 MB/4.4 GB  6.0 MB/s   10m2s\u001b[K\u001b[?25h\u001b[?2026l\u001b[?2026h\u001b[?25l\u001b[A\u001b[1Gpulling manifest \u001b[K\n",
      "pulling f5074b1221da:  18% ▕███               ▏ 781 MB/4.4 GB  6.0 MB/s   10m2s\u001b[K\u001b[?25h\u001b[?2026l\u001b[?2026h\u001b[?25l\u001b[A\u001b[1Gpulling manifest \u001b[K\n",
      "pulling f5074b1221da:  18% ▕███               ▏ 782 MB/4.4 GB  6.0 MB/s   10m2s\u001b[K\u001b[?25h\u001b[?2026l\u001b[?2026h\u001b[?25l\u001b[A\u001b[1Gpulling manifest \u001b[K\n",
      "pulling f5074b1221da:  18% ▕███               ▏ 782 MB/4.4 GB  6.0 MB/s   10m2s\u001b[K\u001b[?25h\u001b[?2026l\u001b[?2026h\u001b[?25l\u001b[A\u001b[1Gpulling manifest \u001b[K\n",
      "pulling f5074b1221da:  18% ▕███               ▏ 782 MB/4.4 GB  6.0 MB/s   9m57s\u001b[K\u001b[?25h\u001b[?2026l\u001b[?2026h\u001b[?25l\u001b[A\u001b[1Gpulling manifest \u001b[K\n",
      "pulling f5074b1221da:  18% ▕███               ▏ 783 MB/4.4 GB  6.0 MB/s   9m57s\u001b[K\u001b[?25h\u001b[?2026l\u001b[?2026h\u001b[?25l\u001b[A\u001b[1Gpulling manifest \u001b[K\n",
      "pulling f5074b1221da:  18% ▕███               ▏ 783 MB/4.4 GB  6.0 MB/s   9m57s\u001b[K\u001b[?25h\u001b[?2026l\u001b[?2026h\u001b[?25l\u001b[A\u001b[1Gpulling manifest \u001b[K\n",
      "pulling f5074b1221da:  18% ▕███               ▏ 784 MB/4.4 GB  6.0 MB/s   9m57s\u001b[K\u001b[?25h\u001b[?2026l\u001b[?2026h\u001b[?25l\u001b[A\u001b[1Gpulling manifest \u001b[K\n",
      "pulling f5074b1221da:  18% ▕███               ▏ 784 MB/4.4 GB  6.0 MB/s   9m56s\u001b[K\u001b[?25h\u001b[?2026l\u001b[?2026h\u001b[?25l\u001b[A\u001b[1Gpulling manifest \u001b[K\n",
      "pulling f5074b1221da:  18% ▕███               ▏ 785 MB/4.4 GB  6.0 MB/s   9m56s\u001b[K\u001b[?25h\u001b[?2026l\u001b[?2026h\u001b[?25l\u001b[A\u001b[1Gpulling manifest \u001b[K\n",
      "pulling f5074b1221da:  18% ▕███               ▏ 786 MB/4.4 GB  6.0 MB/s   9m56s\u001b[K\u001b[?25h\u001b[?2026l\u001b[?2026h\u001b[?25l\u001b[A\u001b[1Gpulling manifest \u001b[K\n",
      "pulling f5074b1221da:  18% ▕███               ▏ 786 MB/4.4 GB  6.0 MB/s   9m56s\u001b[K\u001b[?25h\u001b[?2026l\u001b[?2026h\u001b[?25l\u001b[A\u001b[1Gpulling manifest \u001b[K\n",
      "pulling f5074b1221da:  18% ▕███               ▏ 787 MB/4.4 GB  6.0 MB/s   9m56s\u001b[K\u001b[?25h\u001b[?2026l\u001b[?2026h\u001b[?25l\u001b[A\u001b[1Gpulling manifest \u001b[K\n",
      "pulling f5074b1221da:  18% ▕███               ▏ 788 MB/4.4 GB  6.0 MB/s   9m56s\u001b[K\u001b[?25h\u001b[?2026l\u001b[?2026h\u001b[?25l\u001b[A\u001b[1Gpulling manifest \u001b[K\n",
      "pulling f5074b1221da:  18% ▕███               ▏ 788 MB/4.4 GB  6.0 MB/s   9m55s\u001b[K\u001b[?25h\u001b[?2026l\u001b[?2026h\u001b[?25l\u001b[A\u001b[1Gpulling manifest \u001b[K\n",
      "pulling f5074b1221da:  18% ▕███               ▏ 789 MB/4.4 GB  6.0 MB/s   9m55s\u001b[K\u001b[?25h\u001b[?2026l\u001b[?2026h\u001b[?25l\u001b[A\u001b[1Gpulling manifest \u001b[K\n",
      "pulling f5074b1221da:  18% ▕███               ▏ 789 MB/4.4 GB  6.0 MB/s   9m55s\u001b[K\u001b[?25h\u001b[?2026l\u001b[?2026h\u001b[?25l\u001b[A\u001b[1Gpulling manifest \u001b[K\n",
      "pulling f5074b1221da:  18% ▕███               ▏ 790 MB/4.4 GB  6.0 MB/s   9m55s\u001b[K\u001b[?25h\u001b[?2026l\u001b[?2026h\u001b[?25l\u001b[A\u001b[1Gpulling manifest \u001b[K\n",
      "pulling f5074b1221da:  18% ▕███               ▏ 791 MB/4.4 GB  6.0 MB/s   9m55s\u001b[K\u001b[?25h\u001b[?2026l\u001b[?2026h\u001b[?25l\u001b[A\u001b[1Gpulling manifest \u001b[K\n",
      "pulling f5074b1221da:  18% ▕███               ▏ 791 MB/4.4 GB  6.0 MB/s   9m55s\u001b[K\u001b[?25h\u001b[?2026l\u001b[?2026h\u001b[?25l\u001b[A\u001b[1Gpulling manifest \u001b[K\n",
      "pulling f5074b1221da:  18% ▕███               ▏ 792 MB/4.4 GB  6.0 MB/s   9m55s\u001b[K\u001b[?25h\u001b[?2026l\u001b[?2026h\u001b[?25l\u001b[A\u001b[1Gpulling manifest \u001b[K\n",
      "pulling f5074b1221da:  18% ▕███               ▏ 793 MB/4.4 GB  6.0 MB/s   9m54s\u001b[K\u001b[?25h\u001b[?2026l\u001b[?2026h\u001b[?25l\u001b[A\u001b[1Gpulling manifest \u001b[K\n",
      "pulling f5074b1221da:  18% ▕███               ▏ 793 MB/4.4 GB  6.0 MB/s   9m54s\u001b[K\u001b[?25h\u001b[?2026l\u001b[?2026h\u001b[?25l\u001b[A\u001b[1Gpulling manifest \u001b[K\n",
      "pulling f5074b1221da:  18% ▕███               ▏ 794 MB/4.4 GB  6.0 MB/s   9m54s\u001b[K\u001b[?25h\u001b[?2026l\u001b[?2026h\u001b[?25l\u001b[A\u001b[1Gpulling manifest \u001b[K\n",
      "pulling f5074b1221da:  18% ▕███               ▏ 795 MB/4.4 GB  6.0 MB/s   9m54s\u001b[K\u001b[?25h\u001b[?2026l\u001b[?2026h\u001b[?25l\u001b[A\u001b[1Gpulling manifest \u001b[K\n",
      "pulling f5074b1221da:  18% ▕███               ▏ 795 MB/4.4 GB  6.1 MB/s   9m44s\u001b[K\u001b[?25h\u001b[?2026l\u001b[?2026h\u001b[?25l\u001b[A\u001b[1Gpulling manifest \u001b[K\n",
      "pulling f5074b1221da:  18% ▕███               ▏ 796 MB/4.4 GB  6.1 MB/s   9m44s\u001b[K\u001b[?25h\u001b[?2026l\u001b[?2026h\u001b[?25l\u001b[A\u001b[1Gpulling manifest \u001b[K\n",
      "pulling f5074b1221da:  18% ▕███               ▏ 797 MB/4.4 GB  6.1 MB/s   9m44s\u001b[K\u001b[?25h\u001b[?2026l\u001b[?2026h\u001b[?25l\u001b[A\u001b[1Gpulling manifest \u001b[K\n",
      "pulling f5074b1221da:  18% ▕███               ▏ 797 MB/4.4 GB  6.1 MB/s   9m44s\u001b[K\u001b[?25h\u001b[?2026l\u001b[?2026h\u001b[?25l\u001b[A\u001b[1Gpulling manifest \u001b[K\n",
      "pulling f5074b1221da:  18% ▕███               ▏ 797 MB/4.4 GB  6.1 MB/s   9m44s\u001b[K\u001b[?25h\u001b[?2026l\u001b[?2026h\u001b[?25l\u001b[A\u001b[1Gpulling manifest \u001b[K\n",
      "pulling f5074b1221da:  18% ▕███               ▏ 797 MB/4.4 GB  6.1 MB/s   9m44s\u001b[K\u001b[?25h\u001b[?2026l\u001b[?2026h\u001b[?25l\u001b[A\u001b[1Gpulling manifest \u001b[K\n",
      "pulling f5074b1221da:  18% ▕███               ▏ 798 MB/4.4 GB  6.1 MB/s   9m44s\u001b[K\u001b[?25h\u001b[?2026l\u001b[?2026h\u001b[?25l\u001b[A\u001b[1Gpulling manifest \u001b[K\n",
      "pulling f5074b1221da:  18% ▕███               ▏ 799 MB/4.4 GB  6.1 MB/s   9m43s\u001b[K\u001b[?25h\u001b[?2026l\u001b[?2026h\u001b[?25l\u001b[A\u001b[1Gpulling manifest \u001b[K\n",
      "pulling f5074b1221da:  18% ▕███               ▏ 799 MB/4.4 GB  6.1 MB/s   9m43s\u001b[K\u001b[?25h\u001b[?2026l\u001b[?2026h\u001b[?25l\u001b[A\u001b[1Gpulling manifest \u001b[K\n",
      "pulling f5074b1221da:  18% ▕███               ▏ 800 MB/4.4 GB  6.1 MB/s   9m43s\u001b[K\u001b[?25h\u001b[?2026l\u001b[?2026h\u001b[?25l\u001b[A\u001b[1Gpulling manifest \u001b[K\n",
      "pulling f5074b1221da:  18% ▕███               ▏ 800 MB/4.4 GB  5.9 MB/s   10m1s\u001b[K\u001b[?25h\u001b[?2026l\u001b[?2026h\u001b[?25l\u001b[A\u001b[1Gpulling manifest \u001b[K\n",
      "pulling f5074b1221da:  18% ▕███               ▏ 800 MB/4.4 GB  5.9 MB/s   10m1s\u001b[K\u001b[?25h\u001b[?2026l\u001b[?2026h\u001b[?25l\u001b[A\u001b[1Gpulling manifest \u001b[K\n",
      "pulling f5074b1221da:  18% ▕███               ▏ 801 MB/4.4 GB  5.9 MB/s   10m1s\u001b[K\u001b[?25h\u001b[?2026l\u001b[?2026h\u001b[?25l\u001b[A\u001b[1Gpulling manifest \u001b[K\n",
      "pulling f5074b1221da:  18% ▕███               ▏ 801 MB/4.4 GB  5.9 MB/s   10m1s\u001b[K\u001b[?25h\u001b[?2026l\u001b[?2026h\u001b[?25l\u001b[A\u001b[1Gpulling manifest \u001b[K\n",
      "pulling f5074b1221da:  18% ▕███               ▏ 802 MB/4.4 GB  5.9 MB/s   10m1s\u001b[K\u001b[?25h\u001b[?2026l\u001b[?2026h\u001b[?25l\u001b[A\u001b[1Gpulling manifest \u001b[K\n",
      "pulling f5074b1221da:  18% ▕███               ▏ 802 MB/4.4 GB  5.9 MB/s   10m1s\u001b[K\u001b[?25h\u001b[?2026l\u001b[?2026h\u001b[?25l\u001b[A\u001b[1Gpulling manifest \u001b[K\n",
      "pulling f5074b1221da:  18% ▕███               ▏ 803 MB/4.4 GB  5.9 MB/s   10m1s\u001b[K\u001b[?25h\u001b[?2026l\u001b[?2026h\u001b[?25l\u001b[A\u001b[1Gpulling manifest \u001b[K\n",
      "pulling f5074b1221da:  18% ▕███               ▏ 803 MB/4.4 GB  5.9 MB/s   10m1s\u001b[K\u001b[?25h\u001b[?2026l\u001b[?2026h\u001b[?25l\u001b[A\u001b[1Gpulling manifest \u001b[K\n",
      "pulling f5074b1221da:  18% ▕███               ▏ 804 MB/4.4 GB  5.9 MB/s   10m1s\u001b[K\u001b[?25h\u001b[?2026l\u001b[?2026h\u001b[?25l\u001b[A\u001b[1Gpulling manifest \u001b[K\n",
      "pulling f5074b1221da:  18% ▕███               ▏ 804 MB/4.4 GB  5.9 MB/s   10m0s\u001b[K\u001b[?25h\u001b[?2026l\u001b[?2026h\u001b[?25l\u001b[A\u001b[1Gpulling manifest \u001b[K\n",
      "pulling f5074b1221da:  18% ▕███               ▏ 804 MB/4.4 GB  5.8 MB/s  10m19s\u001b[K\u001b[?25h\u001b[?2026l\u001b[?2026h\u001b[?25l\u001b[A\u001b[1Gpulling manifest \u001b[K\n",
      "pulling f5074b1221da:  18% ▕███               ▏ 805 MB/4.4 GB  5.8 MB/s  10m19s\u001b[K\u001b[?25h\u001b[?2026l\u001b[?2026h\u001b[?25l\u001b[A\u001b[1Gpulling manifest \u001b[K\n",
      "pulling f5074b1221da:  18% ▕███               ▏ 806 MB/4.4 GB  5.8 MB/s  10m19s\u001b[K\u001b[?25h\u001b[?2026l\u001b[?2026h\u001b[?25l\u001b[A\u001b[1Gpulling manifest \u001b[K\n",
      "pulling f5074b1221da:  18% ▕███               ▏ 806 MB/4.4 GB  5.8 MB/s  10m19s\u001b[K\u001b[?25h\u001b[?2026l\u001b[?2026h\u001b[?25l\u001b[A\u001b[1Gpulling manifest \u001b[K\n",
      "pulling f5074b1221da:  18% ▕███               ▏ 806 MB/4.4 GB  5.8 MB/s  10m19s\u001b[K\u001b[?25h\u001b[?2026l\u001b[?2026h\u001b[?25l\u001b[A\u001b[1Gpulling manifest \u001b[K\n",
      "pulling f5074b1221da:  18% ▕███               ▏ 807 MB/4.4 GB  5.8 MB/s  10m19s\u001b[K\u001b[?25h\u001b[?2026l\u001b[?2026h\u001b[?25l\u001b[A\u001b[1Gpulling manifest \u001b[K\n",
      "pulling f5074b1221da:  18% ▕███               ▏ 807 MB/4.4 GB  5.8 MB/s  10m19s\u001b[K\u001b[?25h\u001b[?2026l\u001b[?2026h\u001b[?25l\u001b[A\u001b[1Gpulling manifest \u001b[K\n",
      "pulling f5074b1221da:  18% ▕███               ▏ 808 MB/4.4 GB  5.8 MB/s  10m19s\u001b[K\u001b[?25h\u001b[?2026l\u001b[?2026h\u001b[?25l\u001b[A\u001b[1Gpulling manifest \u001b[K\n",
      "pulling f5074b1221da:  18% ▕███               ▏ 808 MB/4.4 GB  5.8 MB/s  10m19s\u001b[K\u001b[?25h\u001b[?2026l\u001b[?2026h\u001b[?25l\u001b[A\u001b[1Gpulling manifest \u001b[K\n",
      "pulling f5074b1221da:  18% ▕███               ▏ 808 MB/4.4 GB  5.8 MB/s  10m19s\u001b[K\u001b[?25h\u001b[?2026l\u001b[?2026h\u001b[?25l\u001b[A\u001b[1Gpulling manifest \u001b[K\n",
      "pulling f5074b1221da:  19% ▕███               ▏ 809 MB/4.4 GB  5.6 MB/s  10m32s\u001b[K\u001b[?25h\u001b[?2026l\u001b[?2026h\u001b[?25l\u001b[A\u001b[1Gpulling manifest \u001b[K\n",
      "pulling f5074b1221da:  19% ▕███               ▏ 809 MB/4.4 GB  5.6 MB/s  10m32s\u001b[K\u001b[?25h\u001b[?2026l\u001b[?2026h\u001b[?25l\u001b[A\u001b[1Gpulling manifest \u001b[K\n",
      "pulling f5074b1221da:  19% ▕███               ▏ 810 MB/4.4 GB  5.6 MB/s  10m32s\u001b[K\u001b[?25h\u001b[?2026l\u001b[?2026h\u001b[?25l\u001b[A\u001b[1Gpulling manifest \u001b[K\n",
      "pulling f5074b1221da:  19% ▕███               ▏ 810 MB/4.4 GB  5.6 MB/s  10m32s\u001b[K\u001b[?25h\u001b[?2026l\u001b[?2026h\u001b[?25l\u001b[A\u001b[1Gpulling manifest \u001b[K\n",
      "pulling f5074b1221da:  19% ▕███               ▏ 811 MB/4.4 GB  5.6 MB/s  10m32s\u001b[K\u001b[?25h\u001b[?2026l\u001b[?2026h\u001b[?25l\u001b[A\u001b[1Gpulling manifest \u001b[K\n",
      "pulling f5074b1221da:  19% ▕███               ▏ 811 MB/4.4 GB  5.6 MB/s  10m32s\u001b[K\u001b[?25h\u001b[?2026l\u001b[?2026h\u001b[?25l\u001b[A\u001b[1Gpulling manifest \u001b[K\n",
      "pulling f5074b1221da:  19% ▕███               ▏ 811 MB/4.4 GB  5.6 MB/s  10m32s\u001b[K\u001b[?25h\u001b[?2026l\u001b[?2026h\u001b[?25l\u001b[A\u001b[1Gpulling manifest \u001b[K\n",
      "pulling f5074b1221da:  19% ▕███               ▏ 812 MB/4.4 GB  5.6 MB/s  10m32s\u001b[K\u001b[?25h\u001b[?2026l\u001b[?2026h\u001b[?25l\u001b[A\u001b[1Gpulling manifest \u001b[K\n",
      "pulling f5074b1221da:  19% ▕███               ▏ 812 MB/4.4 GB  5.6 MB/s  10m32s\u001b[K\u001b[?25h\u001b[?2026l\u001b[?2026h\u001b[?25l\u001b[A\u001b[1Gpulling manifest \u001b[K\n",
      "pulling f5074b1221da:  19% ▕███               ▏ 813 MB/4.4 GB  5.6 MB/s  10m31s\u001b[K\u001b[?25h\u001b[?2026l\u001b[?2026h\u001b[?25l\u001b[A\u001b[1Gpulling manifest \u001b[K\n",
      "pulling f5074b1221da:  19% ▕███               ▏ 813 MB/4.4 GB  5.5 MB/s  10m45s\u001b[K\u001b[?25h\u001b[?2026l\u001b[?2026h\u001b[?25l\u001b[A\u001b[1Gpulling manifest \u001b[K\n",
      "pulling f5074b1221da:  19% ▕███               ▏ 814 MB/4.4 GB  5.5 MB/s  10m45s\u001b[K\u001b[?25h\u001b[?2026l\u001b[?2026h\u001b[?25l\u001b[A\u001b[1Gpulling manifest \u001b[K\n",
      "pulling f5074b1221da:  19% ▕███               ▏ 814 MB/4.4 GB  5.5 MB/s  10m45s\u001b[K\u001b[?25h\u001b[?2026l\u001b[?2026h\u001b[?25l\u001b[A\u001b[1Gpulling manifest \u001b[K\n",
      "pulling f5074b1221da:  19% ▕███               ▏ 815 MB/4.4 GB  5.5 MB/s  10m45s\u001b[K\u001b[?25h\u001b[?2026l\u001b[?2026h\u001b[?25l\u001b[A\u001b[1Gpulling manifest \u001b[K\n",
      "pulling f5074b1221da:  19% ▕███               ▏ 815 MB/4.4 GB  5.5 MB/s  10m45s\u001b[K\u001b[?25h\u001b[?2026l\u001b[?2026h\u001b[?25l\u001b[A\u001b[1Gpulling manifest \u001b[K\n",
      "pulling f5074b1221da:  19% ▕███               ▏ 816 MB/4.4 GB  5.5 MB/s  10m45s\u001b[K\u001b[?25h\u001b[?2026l\u001b[?2026h\u001b[?25l\u001b[A\u001b[1Gpulling manifest \u001b[K\n",
      "pulling f5074b1221da:  19% ▕███               ▏ 816 MB/4.4 GB  5.5 MB/s  10m44s\u001b[K\u001b[?25h\u001b[?2026l\u001b[?2026h\u001b[?25l\u001b[A\u001b[1Gpulling manifest \u001b[K\n",
      "pulling f5074b1221da:  19% ▕███               ▏ 816 MB/4.4 GB  5.5 MB/s  10m44s\u001b[K\u001b[?25h\u001b[?2026l\u001b[?2026h\u001b[?25l\u001b[A\u001b[1Gpulling manifest \u001b[K\n",
      "pulling f5074b1221da:  19% ▕███               ▏ 817 MB/4.4 GB  5.5 MB/s  10m44s\u001b[K\u001b[?25h\u001b[?2026l\u001b[?2026h\u001b[?25l\u001b[A\u001b[1Gpulling manifest \u001b[K\n",
      "pulling f5074b1221da:  19% ▕███               ▏ 818 MB/4.4 GB  5.5 MB/s  10m44s\u001b[K\u001b[?25h\u001b[?2026l\u001b[?2026h\u001b[?25l\u001b[A\u001b[1Gpulling manifest \u001b[K\n",
      "pulling f5074b1221da:  19% ▕███               ▏ 818 MB/4.4 GB  5.5 MB/s  10m44s\u001b[K\u001b[?25h\u001b[?2026l\u001b[?2026h\u001b[?25l\u001b[A\u001b[1Gpulling manifest \u001b[K\n",
      "pulling f5074b1221da:  19% ▕███               ▏ 818 MB/4.4 GB  5.3 MB/s   11m6s\u001b[K\u001b[?25h\u001b[?2026l\u001b[?2026h\u001b[?25l\u001b[A\u001b[1Gpulling manifest \u001b[K\n",
      "pulling f5074b1221da:  19% ▕███               ▏ 819 MB/4.4 GB  5.3 MB/s   11m6s\u001b[K\u001b[?25h\u001b[?2026l\u001b[?2026h\u001b[?25l\u001b[A\u001b[1Gpulling manifest \u001b[K\n",
      "pulling f5074b1221da:  19% ▕███               ▏ 819 MB/4.4 GB  5.3 MB/s   11m6s\u001b[K\u001b[?25h\u001b[?2026l\u001b[?2026h\u001b[?25l\u001b[A\u001b[1Gpulling manifest \u001b[K\n",
      "pulling f5074b1221da:  19% ▕███               ▏ 820 MB/4.4 GB  5.3 MB/s   11m5s\u001b[K\u001b[?25h\u001b[?2026l\u001b[?2026h\u001b[?25l\u001b[A\u001b[1Gpulling manifest \u001b[K\n",
      "pulling f5074b1221da:  19% ▕███               ▏ 820 MB/4.4 GB  5.3 MB/s   11m5s\u001b[K\u001b[?25h\u001b[?2026l\u001b[?2026h\u001b[?25l\u001b[A\u001b[1Gpulling manifest \u001b[K\n",
      "pulling f5074b1221da:  19% ▕███               ▏ 821 MB/4.4 GB  5.3 MB/s   11m5s\u001b[K\u001b[?25h\u001b[?2026l\u001b[?2026h\u001b[?25l\u001b[A\u001b[1Gpulling manifest \u001b[K\n",
      "pulling f5074b1221da:  19% ▕███               ▏ 821 MB/4.4 GB  5.3 MB/s   11m5s\u001b[K\u001b[?25h\u001b[?2026l\u001b[?2026h\u001b[?25l\u001b[A\u001b[1Gpulling manifest \u001b[K\n",
      "pulling f5074b1221da:  19% ▕███               ▏ 822 MB/4.4 GB  5.3 MB/s   11m5s\u001b[K\u001b[?25h\u001b[?2026l\u001b[?2026h\u001b[?25l\u001b[A\u001b[1Gpulling manifest \u001b[K\n",
      "pulling f5074b1221da:  19% ▕███               ▏ 822 MB/4.4 GB  5.3 MB/s   11m5s\u001b[K\u001b[?25h\u001b[?2026l\u001b[?2026h\u001b[?25l\u001b[A\u001b[1Gpulling manifest \u001b[K\n",
      "pulling f5074b1221da:  19% ▕███               ▏ 823 MB/4.4 GB  5.3 MB/s   11m5s\u001b[K\u001b[?25h\u001b[?2026l\u001b[?2026h\u001b[?25l\u001b[A\u001b[1Gpulling manifest \u001b[K\n",
      "pulling f5074b1221da:  19% ▕███               ▏ 823 MB/4.4 GB  5.1 MB/s  11m36s\u001b[K\u001b[?25h\u001b[?2026l\u001b[?2026h\u001b[?25l\u001b[A\u001b[1Gpulling manifest \u001b[K\n",
      "pulling f5074b1221da:  19% ▕███               ▏ 823 MB/4.4 GB  5.1 MB/s  11m36s\u001b[K\u001b[?25h\u001b[?2026l\u001b[?2026h\u001b[?25l\u001b[A\u001b[1Gpulling manifest \u001b[K\n",
      "pulling f5074b1221da:  19% ▕███               ▏ 824 MB/4.4 GB  5.1 MB/s  11m36s\u001b[K\u001b[?25h\u001b[?2026l\u001b[?2026h\u001b[?25l\u001b[A\u001b[1Gpulling manifest \u001b[K\n",
      "pulling f5074b1221da:  19% ▕███               ▏ 824 MB/4.4 GB  5.1 MB/s  11m36s\u001b[K\u001b[?25h\u001b[?2026l\u001b[?2026h\u001b[?25l\u001b[A\u001b[1Gpulling manifest \u001b[K\n",
      "pulling f5074b1221da:  19% ▕███               ▏ 825 MB/4.4 GB  5.1 MB/s  11m35s\u001b[K\u001b[?25h\u001b[?2026l\u001b[?2026h\u001b[?25l\u001b[A\u001b[1Gpulling manifest \u001b[K\n",
      "pulling f5074b1221da:  19% ▕███               ▏ 825 MB/4.4 GB  5.1 MB/s  11m35s\u001b[K\u001b[?25h\u001b[?2026l\u001b[?2026h\u001b[?25l\u001b[A\u001b[1Gpulling manifest \u001b[K\n",
      "pulling f5074b1221da:  19% ▕███               ▏ 826 MB/4.4 GB  5.1 MB/s  11m35s\u001b[K\u001b[?25h\u001b[?2026l\u001b[?2026h\u001b[?25l\u001b[A\u001b[1Gpulling manifest \u001b[K\n",
      "pulling f5074b1221da:  19% ▕███               ▏ 826 MB/4.4 GB  5.1 MB/s  11m35s\u001b[K\u001b[?25h\u001b[?2026l\u001b[?2026h\u001b[?25l\u001b[A\u001b[1Gpulling manifest \u001b[K\n",
      "pulling f5074b1221da:  19% ▕███               ▏ 826 MB/4.4 GB  5.1 MB/s  11m35s\u001b[K\u001b[?25h\u001b[?2026l\u001b[?2026h\u001b[?25l\u001b[A\u001b[1Gpulling manifest \u001b[K\n",
      "pulling f5074b1221da:  19% ▕███               ▏ 827 MB/4.4 GB  5.1 MB/s  11m35s\u001b[K\u001b[?25h\u001b[?2026l\u001b[?2026h\u001b[?25l\u001b[A\u001b[1Gpulling manifest \u001b[K\n",
      "pulling f5074b1221da:  19% ▕███               ▏ 827 MB/4.4 GB  5.0 MB/s  11m45s\u001b[K\u001b[?25h\u001b[?2026l\u001b[?2026h\u001b[?25l\u001b[A\u001b[1Gpulling manifest \u001b[K\n",
      "pulling f5074b1221da:  19% ▕███               ▏ 828 MB/4.4 GB  5.0 MB/s  11m45s\u001b[K\u001b[?25h\u001b[?2026l\u001b[?2026h\u001b[?25l\u001b[A\u001b[1Gpulling manifest \u001b[K\n",
      "pulling f5074b1221da:  19% ▕███               ▏ 828 MB/4.4 GB  5.0 MB/s  11m45s\u001b[K\u001b[?25h\u001b[?2026l\u001b[?2026h\u001b[?25l\u001b[A\u001b[1Gpulling manifest \u001b[K\n",
      "pulling f5074b1221da:  19% ▕███               ▏ 828 MB/4.4 GB  5.0 MB/s  11m45s\u001b[K\u001b[?25h\u001b[?2026l\u001b[?2026h\u001b[?25l\u001b[A\u001b[1Gpulling manifest \u001b[K\n",
      "pulling f5074b1221da:  19% ▕███               ▏ 829 MB/4.4 GB  5.0 MB/s  11m45s\u001b[K\u001b[?25h\u001b[?2026l\u001b[?2026h\u001b[?25l\u001b[A\u001b[1Gpulling manifest \u001b[K\n",
      "pulling f5074b1221da:  19% ▕███               ▏ 829 MB/4.4 GB  5.0 MB/s  11m45s\u001b[K\u001b[?25h\u001b[?2026l\u001b[?2026h\u001b[?25l\u001b[A\u001b[1Gpulling manifest \u001b[K\n",
      "pulling f5074b1221da:  19% ▕███               ▏ 829 MB/4.4 GB  5.0 MB/s  11m45s\u001b[K\u001b[?25h\u001b[?2026l\u001b[?2026h\u001b[?25l\u001b[A\u001b[1Gpulling manifest \u001b[K\n",
      "pulling f5074b1221da:  19% ▕███               ▏ 829 MB/4.4 GB  5.0 MB/s  11m45s\u001b[K\u001b[?25h\u001b[?2026l\u001b[?2026h\u001b[?25l\u001b[A\u001b[1Gpulling manifest \u001b[K\n",
      "pulling f5074b1221da:  19% ▕███               ▏ 829 MB/4.4 GB  5.0 MB/s  11m45s\u001b[K\u001b[?25h\u001b[?2026l\u001b[?2026h\u001b[?25l\u001b[A\u001b[1Gpulling manifest \u001b[K\n",
      "pulling f5074b1221da:  19% ▕███               ▏ 830 MB/4.4 GB  5.0 MB/s  11m45s\u001b[K\u001b[?25h\u001b[?2026l\u001b[?2026h\u001b[?25l\u001b[A\u001b[1Gpulling manifest \u001b[K\n",
      "pulling f5074b1221da:  19% ▕███               ▏ 830 MB/4.4 GB  4.7 MB/s  12m41s\u001b[K\u001b[?25h\u001b[?2026l\u001b[?2026h\u001b[?25l\u001b[A\u001b[1Gpulling manifest \u001b[K\n",
      "pulling f5074b1221da:  19% ▕███               ▏ 831 MB/4.4 GB  4.7 MB/s  12m41s\u001b[K\u001b[?25h\u001b[?2026l\u001b[?2026h\u001b[?25l\u001b[A\u001b[1Gpulling manifest \u001b[K\n",
      "pulling f5074b1221da:  19% ▕███               ▏ 831 MB/4.4 GB  4.7 MB/s  12m41s\u001b[K\u001b[?25h\u001b[?2026l\u001b[?2026h\u001b[?25l\u001b[A\u001b[1Gpulling manifest \u001b[K\n",
      "pulling f5074b1221da:  19% ▕███               ▏ 831 MB/4.4 GB  4.7 MB/s  12m41s\u001b[K\u001b[?25h\u001b[?2026l\u001b[?2026h\u001b[?25l\u001b[A\u001b[1Gpulling manifest \u001b[K\n",
      "pulling f5074b1221da:  19% ▕███               ▏ 832 MB/4.4 GB  4.7 MB/s  12m41s\u001b[K\u001b[?25h\u001b[?2026l\u001b[?2026h\u001b[?25l\u001b[A\u001b[1Gpulling manifest \u001b[K\n",
      "pulling f5074b1221da:  19% ▕███               ▏ 832 MB/4.4 GB  4.7 MB/s  12m40s\u001b[K\u001b[?25h\u001b[?2026l\u001b[?2026h\u001b[?25l\u001b[A\u001b[1Gpulling manifest \u001b[K\n",
      "pulling f5074b1221da:  19% ▕███               ▏ 833 MB/4.4 GB  4.7 MB/s  12m40s\u001b[K\u001b[?25h\u001b[?2026l\u001b[?2026h\u001b[?25l\u001b[A\u001b[1Gpulling manifest \u001b[K\n",
      "pulling f5074b1221da:  19% ▕███               ▏ 833 MB/4.4 GB  4.7 MB/s  12m40s\u001b[K\u001b[?25h\u001b[?2026l\u001b[?2026h\u001b[?25l\u001b[A\u001b[1Gpulling manifest \u001b[K\n",
      "pulling f5074b1221da:  19% ▕███               ▏ 834 MB/4.4 GB  4.7 MB/s  12m40s\u001b[K\u001b[?25h\u001b[?2026l\u001b[?2026h\u001b[?25l\u001b[A\u001b[1Gpulling manifest \u001b[K\n",
      "pulling f5074b1221da:  19% ▕███               ▏ 834 MB/4.4 GB  4.7 MB/s  12m40s\u001b[K\u001b[?25h\u001b[?2026l\u001b[?2026h\u001b[?25l\u001b[A\u001b[1Gpulling manifest \u001b[K\n",
      "pulling f5074b1221da:  19% ▕███               ▏ 835 MB/4.4 GB  4.4 MB/s  13m19s\u001b[K\u001b[?25h\u001b[?2026l\u001b[?2026h\u001b[?25l\u001b[A\u001b[1Gpulling manifest \u001b[K\n",
      "pulling f5074b1221da:  19% ▕███               ▏ 835 MB/4.4 GB  4.4 MB/s  13m19s\u001b[K\u001b[?25h\u001b[?2026l\u001b[?2026h\u001b[?25l\u001b[A\u001b[1Gpulling manifest \u001b[K\n",
      "pulling f5074b1221da:  19% ▕███               ▏ 836 MB/4.4 GB  4.4 MB/s  13m18s\u001b[K\u001b[?25h\u001b[?2026l\u001b[?2026h\u001b[?25l\u001b[A\u001b[1Gpulling manifest \u001b[K\n",
      "pulling f5074b1221da:  19% ▕███               ▏ 836 MB/4.4 GB  4.4 MB/s  13m18s\u001b[K\u001b[?25h\u001b[?2026l\u001b[?2026h\u001b[?25l\u001b[A\u001b[1Gpulling manifest \u001b[K\n",
      "pulling f5074b1221da:  19% ▕███               ▏ 837 MB/4.4 GB  4.4 MB/s  13m18s\u001b[K\u001b[?25h\u001b[?2026l\u001b[?2026h\u001b[?25l\u001b[A\u001b[1Gpulling manifest \u001b[K\n",
      "pulling f5074b1221da:  19% ▕███               ▏ 837 MB/4.4 GB  4.4 MB/s  13m18s\u001b[K\u001b[?25h\u001b[?2026l\u001b[?2026h\u001b[?25l\u001b[A\u001b[1Gpulling manifest \u001b[K\n",
      "pulling f5074b1221da:  19% ▕███               ▏ 838 MB/4.4 GB  4.4 MB/s  13m18s\u001b[K\u001b[?25h\u001b[?2026l\u001b[?2026h\u001b[?25l\u001b[A\u001b[1Gpulling manifest \u001b[K\n",
      "pulling f5074b1221da:  19% ▕███               ▏ 838 MB/4.4 GB  4.4 MB/s  13m18s\u001b[K\u001b[?25h\u001b[?2026l\u001b[?2026h\u001b[?25l\u001b[A\u001b[1Gpulling manifest \u001b[K\n",
      "pulling f5074b1221da:  19% ▕███               ▏ 838 MB/4.4 GB  4.4 MB/s  13m18s\u001b[K\u001b[?25h\u001b[?2026l\u001b[?2026h\u001b[?25l\u001b[A\u001b[1Gpulling manifest \u001b[K\n",
      "pulling f5074b1221da:  19% ▕███               ▏ 839 MB/4.4 GB  4.4 MB/s  13m18s\u001b[K\u001b[?25h\u001b[?2026l\u001b[?2026h\u001b[?25l\u001b[A\u001b[1Gpulling manifest \u001b[K\n",
      "pulling f5074b1221da:  19% ▕███               ▏ 839 MB/4.4 GB  4.4 MB/s  13m18s\u001b[K\u001b[?25h\u001b[?2026l\u001b[?2026h\u001b[?25l\u001b[A\u001b[1Gpulling manifest \u001b[K\n",
      "pulling f5074b1221da:  19% ▕███               ▏ 840 MB/4.4 GB  4.4 MB/s  13m23s\u001b[K\u001b[?25h\u001b[?2026l\u001b[?2026h\u001b[?25l\u001b[A\u001b[1Gpulling manifest \u001b[K\n",
      "pulling f5074b1221da:  19% ▕███               ▏ 840 MB/4.4 GB  4.4 MB/s  13m23s\u001b[K\u001b[?25h\u001b[?2026l\u001b[?2026h\u001b[?25l\u001b[A\u001b[1Gpulling manifest \u001b[K\n",
      "pulling f5074b1221da:  19% ▕███               ▏ 841 MB/4.4 GB  4.4 MB/s  13m23s\u001b[K\u001b[?25h\u001b[?2026l\u001b[?2026h\u001b[?25l\u001b[A\u001b[1Gpulling manifest \u001b[K\n",
      "pulling f5074b1221da:  19% ▕███               ▏ 841 MB/4.4 GB  4.4 MB/s  13m23s\u001b[K\u001b[?25h\u001b[?2026l\u001b[?2026h\u001b[?25l\u001b[A\u001b[1Gpulling manifest \u001b[K\n",
      "pulling f5074b1221da:  19% ▕███               ▏ 842 MB/4.4 GB  4.4 MB/s  13m23s\u001b[K\u001b[?25h\u001b[?2026l\u001b[?2026h\u001b[?25l\u001b[A\u001b[1Gpulling manifest \u001b[K\n",
      "pulling f5074b1221da:  19% ▕███               ▏ 842 MB/4.4 GB  4.4 MB/s  13m23s\u001b[K\u001b[?25h\u001b[?2026l\u001b[?2026h\u001b[?25l\u001b[A\u001b[1Gpulling manifest \u001b[K\n",
      "pulling f5074b1221da:  19% ▕███               ▏ 842 MB/4.4 GB  4.4 MB/s  13m23s\u001b[K\u001b[?25h\u001b[?2026l\u001b[?2026h\u001b[?25l\u001b[A\u001b[1Gpulling manifest \u001b[K\n",
      "pulling f5074b1221da:  19% ▕███               ▏ 842 MB/4.4 GB  4.4 MB/s  13m23s\u001b[K\u001b[?25h\u001b[?2026l\u001b[?2026h\u001b[?25l\u001b[A\u001b[1Gpulling manifest \u001b[K\n",
      "pulling f5074b1221da:  19% ▕███               ▏ 842 MB/4.4 GB  4.4 MB/s  13m22s\u001b[K\u001b[?25h\u001b[?2026l\u001b[?2026h\u001b[?25l\u001b[A\u001b[1Gpulling manifest \u001b[K\n",
      "pulling f5074b1221da:  19% ▕███               ▏ 843 MB/4.4 GB  4.4 MB/s  13m22s\u001b[K\u001b[?25h\u001b[?2026l\u001b[?2026h\u001b[?25l\u001b[A\u001b[1Gpulling manifest \u001b[K\n",
      "pulling f5074b1221da:  19% ▕███               ▏ 844 MB/4.4 GB  4.3 MB/s  13m36s\u001b[K\u001b[?25h\u001b[?2026l\u001b[?2026h\u001b[?25l\u001b[A\u001b[1Gpulling manifest \u001b[K\n",
      "pulling f5074b1221da:  19% ▕███               ▏ 844 MB/4.4 GB  4.3 MB/s  13m36s\u001b[K\u001b[?25h\u001b[?2026l\u001b[?2026h\u001b[?25l\u001b[A\u001b[1Gpulling manifest \u001b[K\n",
      "pulling f5074b1221da:  19% ▕███               ▏ 845 MB/4.4 GB  4.3 MB/s  13m36s\u001b[K\u001b[?25h\u001b[?2026l\u001b[?2026h\u001b[?25l\u001b[A\u001b[1Gpulling manifest \u001b[K\n",
      "pulling f5074b1221da:  19% ▕███               ▏ 845 MB/4.4 GB  4.3 MB/s  13m36s\u001b[K\u001b[?25h\u001b[?2026l\u001b[?2026h\u001b[?25l\u001b[A\u001b[1Gpulling manifest \u001b[K\n",
      "pulling f5074b1221da:  19% ▕███               ▏ 845 MB/4.4 GB  4.3 MB/s  13m36s\u001b[K\u001b[?25h\u001b[?2026l\u001b[?2026h\u001b[?25l\u001b[A\u001b[1Gpulling manifest \u001b[K\n",
      "pulling f5074b1221da:  19% ▕███               ▏ 846 MB/4.4 GB  4.3 MB/s  13m35s\u001b[K\u001b[?25h\u001b[?2026l\u001b[?2026h\u001b[?25l\u001b[A\u001b[1Gpulling manifest \u001b[K\n",
      "pulling f5074b1221da:  19% ▕███               ▏ 846 MB/4.4 GB  4.3 MB/s  13m35s\u001b[K\u001b[?25h\u001b[?2026l\u001b[?2026h\u001b[?25l\u001b[A\u001b[1Gpulling manifest \u001b[K\n",
      "pulling f5074b1221da:  19% ▕███               ▏ 846 MB/4.4 GB  4.3 MB/s  13m35s\u001b[K\u001b[?25h\u001b[?2026l\u001b[?2026h\u001b[?25l\u001b[A\u001b[1Gpulling manifest \u001b[K\n",
      "pulling f5074b1221da:  19% ▕███               ▏ 847 MB/4.4 GB  4.3 MB/s  13m35s\u001b[K\u001b[?25h\u001b[?2026l\u001b[?2026h\u001b[?25l\u001b[A\u001b[1Gpulling manifest \u001b[K\n",
      "pulling f5074b1221da:  19% ▕███               ▏ 847 MB/4.4 GB  4.3 MB/s  13m35s\u001b[K\u001b[?25h\u001b[?2026l\u001b[?2026h\u001b[?25l\u001b[A\u001b[1Gpulling manifest \u001b[K\n",
      "pulling f5074b1221da:  19% ▕███               ▏ 848 MB/4.4 GB  4.3 MB/s  13m39s\u001b[K\u001b[?25h\u001b[?2026l\u001b[?2026h\u001b[?25l\u001b[A\u001b[1Gpulling manifest \u001b[K\n",
      "pulling f5074b1221da:  19% ▕███               ▏ 848 MB/4.4 GB  4.3 MB/s  13m39s\u001b[K\u001b[?25h\u001b[?2026l\u001b[?2026h\u001b[?25l\u001b[A\u001b[1Gpulling manifest \u001b[K\n",
      "pulling f5074b1221da:  19% ▕███               ▏ 848 MB/4.4 GB  4.3 MB/s  13m39s\u001b[K\u001b[?25h\u001b[?2026l\u001b[?2026h\u001b[?25l\u001b[A\u001b[1Gpulling manifest \u001b[K\n",
      "pulling f5074b1221da:  19% ▕███               ▏ 849 MB/4.4 GB  4.3 MB/s  13m39s\u001b[K\u001b[?25h\u001b[?2026l\u001b[?2026h\u001b[?25l\u001b[A\u001b[1Gpulling manifest \u001b[K\n",
      "pulling f5074b1221da:  19% ▕███               ▏ 849 MB/4.4 GB  4.3 MB/s  13m39s\u001b[K\u001b[?25h\u001b[?2026l\u001b[?2026h\u001b[?25l\u001b[A\u001b[1Gpulling manifest \u001b[K\n",
      "pulling f5074b1221da:  19% ▕███               ▏ 850 MB/4.4 GB  4.3 MB/s  13m39s\u001b[K\u001b[?25h\u001b[?2026l\u001b[?2026h\u001b[?25l\u001b[A\u001b[1Gpulling manifest \u001b[K\n",
      "pulling f5074b1221da:  19% ▕███               ▏ 850 MB/4.4 GB  4.3 MB/s  13m39s\u001b[K\u001b[?25h\u001b[?2026l\u001b[?2026h\u001b[?25l\u001b[A\u001b[1Gpulling manifest \u001b[K\n",
      "pulling f5074b1221da:  19% ▕███               ▏ 850 MB/4.4 GB  4.3 MB/s  13m39s\u001b[K\u001b[?25h\u001b[?2026l\u001b[?2026h\u001b[?25l\u001b[A\u001b[1Gpulling manifest \u001b[K\n",
      "pulling f5074b1221da:  19% ▕███               ▏ 851 MB/4.4 GB  4.3 MB/s  13m39s\u001b[K\u001b[?25h\u001b[?2026l\u001b[?2026h\u001b[?25l\u001b[A\u001b[1Gpulling manifest \u001b[K\n",
      "pulling f5074b1221da:  19% ▕███               ▏ 851 MB/4.4 GB  4.3 MB/s  13m39s\u001b[K\u001b[?25h\u001b[?2026l\u001b[?2026h\u001b[?25l\u001b[A\u001b[1Gpulling manifest \u001b[K\n",
      "pulling f5074b1221da:  19% ▕███               ▏ 852 MB/4.4 GB  4.3 MB/s  13m41s\u001b[K\u001b[?25h\u001b[?2026l\u001b[?2026h\u001b[?25l\u001b[A\u001b[1Gpulling manifest \u001b[K\n",
      "pulling f5074b1221da:  20% ▕███               ▏ 852 MB/4.4 GB  4.3 MB/s  13m41s\u001b[K\u001b[?25h\u001b[?2026l\u001b[?2026h\u001b[?25l\u001b[A\u001b[1Gpulling manifest \u001b[K\n",
      "pulling f5074b1221da:  20% ▕███               ▏ 853 MB/4.4 GB  4.3 MB/s  13m41s\u001b[K\u001b[?25h\u001b[?2026l\u001b[?2026h\u001b[?25l\u001b[A\u001b[1Gpulling manifest \u001b[K\n",
      "pulling f5074b1221da:  20% ▕███               ▏ 853 MB/4.4 GB  4.3 MB/s  13m41s\u001b[K\u001b[?25h\u001b[?2026l\u001b[?2026h\u001b[?25l\u001b[A\u001b[1Gpulling manifest \u001b[K\n",
      "pulling f5074b1221da:  20% ▕███               ▏ 854 MB/4.4 GB  4.3 MB/s  13m41s\u001b[K\u001b[?25h\u001b[?2026l\u001b[?2026h\u001b[?25l\u001b[A\u001b[1Gpulling manifest \u001b[K\n",
      "pulling f5074b1221da:  20% ▕███               ▏ 854 MB/4.4 GB  4.3 MB/s  13m41s\u001b[K\u001b[?25h\u001b[?2026l\u001b[?2026h\u001b[?25l\u001b[A\u001b[1Gpulling manifest \u001b[K\n",
      "pulling f5074b1221da:  20% ▕███               ▏ 854 MB/4.4 GB  4.3 MB/s  13m41s\u001b[K\u001b[?25h\u001b[?2026l\u001b[?2026h\u001b[?25l\u001b[A\u001b[1Gpulling manifest \u001b[K\n",
      "pulling f5074b1221da:  20% ▕███               ▏ 855 MB/4.4 GB  4.3 MB/s  13m41s\u001b[K\u001b[?25h\u001b[?2026l\u001b[?2026h\u001b[?25l\u001b[A\u001b[1Gpulling manifest \u001b[K\n",
      "pulling f5074b1221da:  20% ▕███               ▏ 855 MB/4.4 GB  4.3 MB/s  13m41s\u001b[K\u001b[?25h\u001b[?2026l\u001b[?2026h\u001b[?25l\u001b[A\u001b[1Gpulling manifest \u001b[K\n",
      "pulling f5074b1221da:  20% ▕███               ▏ 856 MB/4.4 GB  4.3 MB/s  13m40s\u001b[K\u001b[?25h\u001b[?2026l\u001b[?2026h\u001b[?25l\u001b[A\u001b[1Gpulling manifest \u001b[K\n",
      "pulling f5074b1221da:  20% ▕███               ▏ 856 MB/4.4 GB  4.2 MB/s  13m51s\u001b[K\u001b[?25h\u001b[?2026l\u001b[?2026h\u001b[?25l\u001b[A\u001b[1Gpulling manifest \u001b[K\n",
      "pulling f5074b1221da:  20% ▕███               ▏ 856 MB/4.4 GB  4.2 MB/s  13m51s\u001b[K\u001b[?25h\u001b[?2026l\u001b[?2026h\u001b[?25l\u001b[A\u001b[1Gpulling manifest \u001b[K\n",
      "pulling f5074b1221da:  20% ▕███               ▏ 857 MB/4.4 GB  4.2 MB/s  13m51s\u001b[K\u001b[?25h\u001b[?2026l\u001b[?2026h\u001b[?25l\u001b[A\u001b[1Gpulling manifest \u001b[K\n",
      "pulling f5074b1221da:  20% ▕███               ▏ 857 MB/4.4 GB  4.2 MB/s  13m51s\u001b[K\u001b[?25h\u001b[?2026l\u001b[?2026h\u001b[?25l\u001b[A\u001b[1Gpulling manifest \u001b[K\n",
      "pulling f5074b1221da:  20% ▕███               ▏ 857 MB/4.4 GB  4.2 MB/s  13m51s\u001b[K\u001b[?25h\u001b[?2026l\u001b[?2026h\u001b[?25l\u001b[A\u001b[1Gpulling manifest \u001b[K\n",
      "pulling f5074b1221da:  20% ▕███               ▏ 858 MB/4.4 GB  4.2 MB/s  13m51s\u001b[K\u001b[?25h\u001b[?2026l\u001b[?2026h\u001b[?25l\u001b[A\u001b[1Gpulling manifest \u001b[K\n",
      "pulling f5074b1221da:  20% ▕███               ▏ 858 MB/4.4 GB  4.2 MB/s  13m51s\u001b[K\u001b[?25h\u001b[?2026l\u001b[?2026h\u001b[?25l\u001b[A\u001b[1Gpulling manifest \u001b[K\n",
      "pulling f5074b1221da:  20% ▕███               ▏ 859 MB/4.4 GB  4.2 MB/s  13m51s\u001b[K\u001b[?25h\u001b[?2026l\u001b[?2026h\u001b[?25l\u001b[A\u001b[1Gpulling manifest \u001b[K\n",
      "pulling f5074b1221da:  20% ▕███               ▏ 859 MB/4.4 GB  4.2 MB/s  13m51s\u001b[K\u001b[?25h\u001b[?2026l\u001b[?2026h\u001b[?25l\u001b[A\u001b[1Gpulling manifest \u001b[K\n",
      "pulling f5074b1221da:  20% ▕███               ▏ 859 MB/4.4 GB  4.2 MB/s  13m50s\u001b[K\u001b[?25h\u001b[?2026l\u001b[?2026h\u001b[?25l\u001b[A\u001b[1Gpulling manifest \u001b[K\n",
      "pulling f5074b1221da:  20% ▕███               ▏ 860 MB/4.4 GB  4.2 MB/s  13m50s\u001b[K\u001b[?25h\u001b[?2026l\u001b[?2026h\u001b[?25l\u001b[A\u001b[1Gpulling manifest \u001b[K\n",
      "pulling f5074b1221da:  20% ▕███               ▏ 860 MB/4.4 GB  4.1 MB/s  14m10s\u001b[K\u001b[?25h\u001b[?2026l\u001b[?2026h\u001b[?25l\u001b[A\u001b[1Gpulling manifest \u001b[K\n",
      "pulling f5074b1221da:  20% ▕███               ▏ 861 MB/4.4 GB  4.1 MB/s  14m10s\u001b[K\u001b[?25h\u001b[?2026l\u001b[?2026h\u001b[?25l\u001b[A\u001b[1Gpulling manifest \u001b[K\n",
      "pulling f5074b1221da:  20% ▕███               ▏ 861 MB/4.4 GB  4.1 MB/s  14m10s\u001b[K\u001b[?25h\u001b[?2026l\u001b[?2026h\u001b[?25l\u001b[A\u001b[1Gpulling manifest \u001b[K\n",
      "pulling f5074b1221da:  20% ▕███               ▏ 861 MB/4.4 GB  4.1 MB/s  14m10s\u001b[K\u001b[?25h\u001b[?2026l\u001b[?2026h\u001b[?25l\u001b[A\u001b[1Gpulling manifest \u001b[K\n",
      "pulling f5074b1221da:  20% ▕███               ▏ 862 MB/4.4 GB  4.1 MB/s  14m10s\u001b[K\u001b[?25h\u001b[?2026l\u001b[?2026h\u001b[?25l\u001b[A\u001b[1Gpulling manifest \u001b[K\n",
      "pulling f5074b1221da:  20% ▕███               ▏ 862 MB/4.4 GB  4.1 MB/s  14m10s\u001b[K\u001b[?25h\u001b[?2026l\u001b[?2026h\u001b[?25l\u001b[A\u001b[1Gpulling manifest \u001b[K\n",
      "pulling f5074b1221da:  20% ▕███               ▏ 862 MB/4.4 GB  4.1 MB/s  14m10s\u001b[K\u001b[?25h\u001b[?2026l\u001b[?2026h\u001b[?25l\u001b[A\u001b[1Gpulling manifest \u001b[K\n",
      "pulling f5074b1221da:  20% ▕███               ▏ 863 MB/4.4 GB  4.1 MB/s   14m9s\u001b[K\u001b[?25h\u001b[?2026l\u001b[?2026h\u001b[?25l\u001b[A\u001b[1Gpulling manifest \u001b[K\n",
      "pulling f5074b1221da:  20% ▕███               ▏ 863 MB/4.4 GB  4.1 MB/s   14m9s\u001b[K\u001b[?25h\u001b[?2026l\u001b[?2026h\u001b[?25l\u001b[A\u001b[1Gpulling manifest \u001b[K\n",
      "pulling f5074b1221da:  20% ▕███               ▏ 864 MB/4.4 GB  4.1 MB/s   14m9s\u001b[K\u001b[?25h\u001b[?2026l\u001b[?2026h\u001b[?25l\u001b[A\u001b[1Gpulling manifest \u001b[K\n",
      "pulling f5074b1221da:  20% ▕███               ▏ 864 MB/4.4 GB  4.1 MB/s  14m19s\u001b[K\u001b[?25h\u001b[?2026l\u001b[?2026h\u001b[?25l\u001b[A\u001b[1Gpulling manifest \u001b[K\n",
      "pulling f5074b1221da:  20% ▕███               ▏ 865 MB/4.4 GB  4.1 MB/s  14m19s\u001b[K\u001b[?25h\u001b[?2026l\u001b[?2026h\u001b[?25l\u001b[A\u001b[1Gpulling manifest \u001b[K\n",
      "pulling f5074b1221da:  20% ▕███               ▏ 865 MB/4.4 GB  4.1 MB/s  14m19s\u001b[K\u001b[?25h\u001b[?2026l\u001b[?2026h\u001b[?25l\u001b[A\u001b[1Gpulling manifest \u001b[K\n",
      "pulling f5074b1221da:  20% ▕███               ▏ 865 MB/4.4 GB  4.1 MB/s  14m19s\u001b[K\u001b[?25h\u001b[?2026l\u001b[?2026h\u001b[?25l\u001b[A\u001b[1Gpulling manifest \u001b[K\n",
      "pulling f5074b1221da:  20% ▕███               ▏ 866 MB/4.4 GB  4.1 MB/s  14m19s\u001b[K\u001b[?25h\u001b[?2026l\u001b[?2026h\u001b[?25l\u001b[A\u001b[1Gpulling manifest \u001b[K\n",
      "pulling f5074b1221da:  20% ▕███               ▏ 866 MB/4.4 GB  4.1 MB/s  14m19s\u001b[K\u001b[?25h\u001b[?2026l\u001b[?2026h\u001b[?25l\u001b[A\u001b[1Gpulling manifest \u001b[K\n",
      "pulling f5074b1221da:  20% ▕███               ▏ 867 MB/4.4 GB  4.1 MB/s  14m19s\u001b[K\u001b[?25h\u001b[?2026l\u001b[?2026h\u001b[?25l\u001b[A\u001b[1Gpulling manifest \u001b[K\n",
      "pulling f5074b1221da:  20% ▕███               ▏ 867 MB/4.4 GB  4.1 MB/s  14m19s\u001b[K\u001b[?25h\u001b[?2026l\u001b[?2026h\u001b[?25l\u001b[A\u001b[1Gpulling manifest \u001b[K\n",
      "pulling f5074b1221da:  20% ▕███               ▏ 868 MB/4.4 GB  4.1 MB/s  14m19s\u001b[K\u001b[?25h\u001b[?2026l\u001b[?2026h\u001b[?25l\u001b[A\u001b[1Gpulling manifest \u001b[K\n",
      "pulling f5074b1221da:  20% ▕███               ▏ 868 MB/4.4 GB  4.1 MB/s  14m18s\u001b[K\u001b[?25h\u001b[?2026l\u001b[?2026h\u001b[?25l\u001b[A\u001b[1Gpulling manifest \u001b[K\n",
      "pulling f5074b1221da:  20% ▕███               ▏ 869 MB/4.4 GB  4.3 MB/s  13m40s\u001b[K\u001b[?25h\u001b[?2026l\u001b[?2026h\u001b[?25l\u001b[A\u001b[1Gpulling manifest \u001b[K\n",
      "pulling f5074b1221da:  20% ▕███               ▏ 869 MB/4.4 GB  4.3 MB/s  13m40s\u001b[K\u001b[?25h\u001b[?2026l\u001b[?2026h\u001b[?25l\u001b[A\u001b[1Gpulling manifest \u001b[K\n",
      "pulling f5074b1221da:  20% ▕███               ▏ 870 MB/4.4 GB  4.3 MB/s  13m40s\u001b[K\u001b[?25h\u001b[?2026l\u001b[?2026h\u001b[?25l\u001b[A\u001b[1Gpulling manifest \u001b[K\n",
      "pulling f5074b1221da:  20% ▕███               ▏ 870 MB/4.4 GB  4.3 MB/s  13m40s\u001b[K\u001b[?25h\u001b[?2026l\u001b[?2026h\u001b[?25l\u001b[A\u001b[1Gpulling manifest \u001b[K\n",
      "pulling f5074b1221da:  20% ▕███               ▏ 870 MB/4.4 GB  4.3 MB/s  13m40s\u001b[K\u001b[?25h\u001b[?2026l\u001b[?2026h\u001b[?25l\u001b[A\u001b[1Gpulling manifest \u001b[K\n",
      "pulling f5074b1221da:  20% ▕███               ▏ 871 MB/4.4 GB  4.3 MB/s  13m40s\u001b[K\u001b[?25h\u001b[?2026l\u001b[?2026h\u001b[?25l\u001b[A\u001b[1Gpulling manifest \u001b[K\n",
      "pulling f5074b1221da:  20% ▕███               ▏ 871 MB/4.4 GB  4.3 MB/s  13m40s\u001b[K\u001b[?25h\u001b[?2026l\u001b[?2026h\u001b[?25l\u001b[A\u001b[1Gpulling manifest \u001b[K\n",
      "pulling f5074b1221da:  20% ▕███               ▏ 871 MB/4.4 GB  4.3 MB/s  13m39s\u001b[K\u001b[?25h\u001b[?2026l\u001b[?2026h\u001b[?25l\u001b[A\u001b[1Gpulling manifest \u001b[K\n",
      "pulling f5074b1221da:  20% ▕███               ▏ 872 MB/4.4 GB  4.3 MB/s  13m39s\u001b[K\u001b[?25h\u001b[?2026l\u001b[?2026h\u001b[?25l\u001b[A\u001b[1Gpulling manifest \u001b[K\n",
      "pulling f5074b1221da:  20% ▕███               ▏ 872 MB/4.4 GB  4.3 MB/s  13m39s\u001b[K\u001b[?25h\u001b[?2026l\u001b[?2026h\u001b[?25l\u001b[A\u001b[1Gpulling manifest \u001b[K\n",
      "pulling f5074b1221da:  20% ▕███               ▏ 873 MB/4.4 GB  4.2 MB/s  13m49s\u001b[K\u001b[?25h\u001b[?2026l\u001b[?2026h\u001b[?25l\u001b[A\u001b[1Gpulling manifest \u001b[K\n",
      "pulling f5074b1221da:  20% ▕███               ▏ 873 MB/4.4 GB  4.2 MB/s  13m49s\u001b[K\u001b[?25h\u001b[?2026l\u001b[?2026h\u001b[?25l\u001b[A\u001b[1Gpulling manifest \u001b[K\n",
      "pulling f5074b1221da:  20% ▕███               ▏ 873 MB/4.4 GB  4.2 MB/s  13m49s\u001b[K\u001b[?25h\u001b[?2026l\n",
      "Error: Post \"http://127.0.0.1:11434/api/show\": dial tcp 127.0.0.1:11434: connect: connection refused\n"
     ]
    }
   ],
   "source": [
    "import subprocess\n",
    "\n",
    "def get_completion(prompt, model=\"mistral\"):\n",
    "    \"\"\"\n",
    "    Calls local Ollama model via CLI.\n",
    "    Fully offline, works with your version (0.12+).\n",
    "    \"\"\"\n",
    "    try:\n",
    "        result = subprocess.run(\n",
    "            [\"ollama\", \"run\", model, prompt],\n",
    "            capture_output=True,\n",
    "            text=True\n",
    "        )\n",
    "        output = result.stdout.strip()\n",
    "        if result.returncode != 0:\n",
    "            return f\"Error: {result.stderr.strip()}\"\n",
    "        return output\n",
    "    except FileNotFoundError:\n",
    "        return \"Error: Ollama CLI not found. Make sure 'ollama' is installed and in your PATH.\"\n",
    "\n",
    "# Test\n",
    "print(get_completion(\"What is 1 + 1?\"))\n"
   ]
  },
  {
   "cell_type": "code",
   "execution_count": null,
   "id": "1b32b57a",
   "metadata": {
    "height": 149,
    "tags": []
   },
   "outputs": [],
   "source": [
    "customer_email = \"\"\"\n",
    "Arrr, I be fuming that me blender lid \\\n",
    "flew off and splattered me kitchen walls \\\n",
    "with smoothie! And to make matters worse,\\\n",
    "the warranty don't cover the cost of \\\n",
    "cleaning up me kitchen. I need yer help \\\n",
    "right now, matey!\n",
    "\"\"\""
   ]
  },
  {
   "cell_type": "code",
   "execution_count": null,
   "id": "18c34459",
   "metadata": {
    "height": 64,
    "tags": []
   },
   "outputs": [],
   "source": [
    "style = \"\"\"American English \\\n",
    "in a calm and respectful tone\n",
    "\"\"\""
   ]
  },
  {
   "cell_type": "code",
   "execution_count": null,
   "id": "80b558e2",
   "metadata": {
    "height": 132,
    "tags": []
   },
   "outputs": [],
   "source": [
    "prompt = f\"\"\"Translate the text \\\n",
    "that is delimited by triple backticks \n",
    "into a style that is {style}.\n",
    "text: ```{customer_email}```\n",
    "\"\"\"\n",
    "\n",
    "print(prompt)"
   ]
  },
  {
   "cell_type": "code",
   "execution_count": null,
   "id": "c883dcbd",
   "metadata": {
    "height": 30,
    "tags": []
   },
   "outputs": [],
   "source": [
    "response = get_completion(prompt)"
   ]
  },
  {
   "cell_type": "code",
   "execution_count": null,
   "id": "99b33f61",
   "metadata": {
    "height": 30,
    "tags": []
   },
   "outputs": [],
   "source": [
    "response"
   ]
  },
  {
   "cell_type": "markdown",
   "id": "f80482d1",
   "metadata": {},
   "source": [
    "## Chat API : LangChain\n",
    "\n",
    "Let's try how we can do the same using LangChain."
   ]
  },
  {
   "cell_type": "code",
   "execution_count": 25,
   "id": "3a525b58",
   "metadata": {
    "height": 30,
    "tags": []
   },
   "outputs": [
    {
     "name": "stdout",
     "output_type": "stream",
     "text": [
      "Collecting langchain\n",
      "  Using cached langchain-0.3.27-py3-none-any.whl.metadata (7.8 kB)\n",
      "Collecting langchain-core<1.0.0,>=0.3.72 (from langchain)\n",
      "  Downloading langchain_core-0.3.78-py3-none-any.whl.metadata (3.2 kB)\n",
      "Collecting langchain-text-splitters<1.0.0,>=0.3.9 (from langchain)\n",
      "  Using cached langchain_text_splitters-0.3.11-py3-none-any.whl.metadata (1.8 kB)\n",
      "Collecting langsmith>=0.1.17 (from langchain)\n",
      "  Downloading langsmith-0.4.32-py3-none-any.whl.metadata (14 kB)\n",
      "Requirement already satisfied: pydantic<3.0.0,>=2.7.4 in /home/wasii25/Projects/jlab_env/lib/python3.12/site-packages (from langchain) (2.11.10)\n",
      "Collecting SQLAlchemy<3,>=1.4 (from langchain)\n",
      "  Using cached sqlalchemy-2.0.43-cp312-cp312-manylinux_2_17_x86_64.manylinux2014_x86_64.whl.metadata (9.6 kB)\n",
      "Requirement already satisfied: requests<3,>=2 in /home/wasii25/Projects/jlab_env/lib/python3.12/site-packages (from langchain) (2.32.5)\n",
      "Requirement already satisfied: PyYAML>=5.3 in /home/wasii25/Projects/jlab_env/lib/python3.12/site-packages (from langchain) (6.0.3)\n",
      "Collecting tenacity!=8.4.0,<10.0.0,>=8.1.0 (from langchain-core<1.0.0,>=0.3.72->langchain)\n",
      "  Using cached tenacity-9.1.2-py3-none-any.whl.metadata (1.2 kB)\n",
      "Collecting jsonpatch<2.0.0,>=1.33.0 (from langchain-core<1.0.0,>=0.3.72->langchain)\n",
      "  Using cached jsonpatch-1.33-py2.py3-none-any.whl.metadata (3.0 kB)\n",
      "Requirement already satisfied: typing-extensions<5.0.0,>=4.7.0 in /home/wasii25/Projects/jlab_env/lib/python3.12/site-packages (from langchain-core<1.0.0,>=0.3.72->langchain) (4.15.0)\n",
      "Requirement already satisfied: packaging<26.0.0,>=23.2.0 in /home/wasii25/Projects/jlab_env/lib/python3.12/site-packages (from langchain-core<1.0.0,>=0.3.72->langchain) (25.0)\n",
      "Requirement already satisfied: httpx<1,>=0.23.0 in /home/wasii25/Projects/jlab_env/lib/python3.12/site-packages (from langsmith>=0.1.17->langchain) (0.28.1)\n",
      "Collecting orjson>=3.9.14 (from langsmith>=0.1.17->langchain)\n",
      "  Using cached orjson-3.11.3-cp312-cp312-manylinux_2_17_x86_64.manylinux2014_x86_64.whl.metadata (41 kB)\n",
      "Collecting requests-toolbelt>=1.0.0 (from langsmith>=0.1.17->langchain)\n",
      "  Using cached requests_toolbelt-1.0.0-py2.py3-none-any.whl.metadata (14 kB)\n",
      "Collecting zstandard>=0.23.0 (from langsmith>=0.1.17->langchain)\n",
      "  Using cached zstandard-0.25.0-cp312-cp312-manylinux2014_x86_64.manylinux_2_17_x86_64.whl.metadata (3.3 kB)\n",
      "Requirement already satisfied: annotated-types>=0.6.0 in /home/wasii25/Projects/jlab_env/lib/python3.12/site-packages (from pydantic<3.0.0,>=2.7.4->langchain) (0.7.0)\n",
      "Requirement already satisfied: pydantic-core==2.33.2 in /home/wasii25/Projects/jlab_env/lib/python3.12/site-packages (from pydantic<3.0.0,>=2.7.4->langchain) (2.33.2)\n",
      "Requirement already satisfied: typing-inspection>=0.4.0 in /home/wasii25/Projects/jlab_env/lib/python3.12/site-packages (from pydantic<3.0.0,>=2.7.4->langchain) (0.4.2)\n",
      "Requirement already satisfied: charset_normalizer<4,>=2 in /home/wasii25/Projects/jlab_env/lib/python3.12/site-packages (from requests<3,>=2->langchain) (3.4.3)\n",
      "Requirement already satisfied: idna<4,>=2.5 in /home/wasii25/Projects/jlab_env/lib/python3.12/site-packages (from requests<3,>=2->langchain) (3.10)\n",
      "Requirement already satisfied: urllib3<3,>=1.21.1 in /home/wasii25/Projects/jlab_env/lib/python3.12/site-packages (from requests<3,>=2->langchain) (2.5.0)\n",
      "Requirement already satisfied: certifi>=2017.4.17 in /home/wasii25/Projects/jlab_env/lib/python3.12/site-packages (from requests<3,>=2->langchain) (2025.10.5)\n",
      "Collecting greenlet>=1 (from SQLAlchemy<3,>=1.4->langchain)\n",
      "  Using cached greenlet-3.2.4-cp312-cp312-manylinux_2_24_x86_64.manylinux_2_28_x86_64.whl.metadata (4.1 kB)\n",
      "Requirement already satisfied: anyio in /home/wasii25/Projects/jlab_env/lib/python3.12/site-packages (from httpx<1,>=0.23.0->langsmith>=0.1.17->langchain) (4.11.0)\n",
      "Requirement already satisfied: httpcore==1.* in /home/wasii25/Projects/jlab_env/lib/python3.12/site-packages (from httpx<1,>=0.23.0->langsmith>=0.1.17->langchain) (1.0.9)\n",
      "Requirement already satisfied: h11>=0.16 in /home/wasii25/Projects/jlab_env/lib/python3.12/site-packages (from httpcore==1.*->httpx<1,>=0.23.0->langsmith>=0.1.17->langchain) (0.16.0)\n",
      "Requirement already satisfied: jsonpointer>=1.9 in /home/wasii25/Projects/jlab_env/lib/python3.12/site-packages (from jsonpatch<2.0.0,>=1.33.0->langchain-core<1.0.0,>=0.3.72->langchain) (3.0.0)\n",
      "Requirement already satisfied: sniffio>=1.1 in /home/wasii25/Projects/jlab_env/lib/python3.12/site-packages (from anyio->httpx<1,>=0.23.0->langsmith>=0.1.17->langchain) (1.3.1)\n",
      "Using cached langchain-0.3.27-py3-none-any.whl (1.0 MB)\n",
      "Downloading langchain_core-0.3.78-py3-none-any.whl (449 kB)\n",
      "\u001b[2K   \u001b[38;2;114;156;31m━━━━━━━━━━━━━━━━━━━━━━━━━━━━━━━━━━━━━━━\u001b[0m \u001b[32m449.6/449.6 kB\u001b[0m \u001b[31m371.8 kB/s\u001b[0m eta \u001b[36m0:00:00\u001b[0m kB/s\u001b[0m eta \u001b[36m0:00:01\u001b[0m:01\u001b[0m\n",
      "\u001b[?25hUsing cached langchain_text_splitters-0.3.11-py3-none-any.whl (33 kB)\n",
      "Downloading langsmith-0.4.32-py3-none-any.whl (386 kB)\n",
      "\u001b[2K   \u001b[38;2;114;156;31m━━━━━━━━━━━━━━━━━━━━━━━━━━━━━━━━━━━━━━━\u001b[0m \u001b[32m386.4/386.4 kB\u001b[0m \u001b[31m601.6 kB/s\u001b[0m eta \u001b[36m0:00:00\u001b[0m kB/s\u001b[0m eta \u001b[36m0:00:01\u001b[0m:01\u001b[0m\n",
      "\u001b[?25hUsing cached sqlalchemy-2.0.43-cp312-cp312-manylinux_2_17_x86_64.manylinux2014_x86_64.whl (3.3 MB)\n",
      "Using cached greenlet-3.2.4-cp312-cp312-manylinux_2_24_x86_64.manylinux_2_28_x86_64.whl (607 kB)\n",
      "Using cached jsonpatch-1.33-py2.py3-none-any.whl (12 kB)\n",
      "Using cached orjson-3.11.3-cp312-cp312-manylinux_2_17_x86_64.manylinux2014_x86_64.whl (132 kB)\n",
      "Using cached requests_toolbelt-1.0.0-py2.py3-none-any.whl (54 kB)\n",
      "Using cached tenacity-9.1.2-py3-none-any.whl (28 kB)\n",
      "Using cached zstandard-0.25.0-cp312-cp312-manylinux2014_x86_64.manylinux_2_17_x86_64.whl (5.5 MB)\n",
      "Installing collected packages: zstandard, tenacity, orjson, jsonpatch, greenlet, SQLAlchemy, requests-toolbelt, langsmith, langchain-core, langchain-text-splitters, langchain\n",
      "Successfully installed SQLAlchemy-2.0.43 greenlet-3.2.4 jsonpatch-1.33 langchain-0.3.27 langchain-core-0.3.78 langchain-text-splitters-0.3.11 langsmith-0.4.32 orjson-3.11.3 requests-toolbelt-1.0.0 tenacity-9.1.2 zstandard-0.25.0\n"
     ]
    }
   ],
   "source": [
    "!pip install --upgrade langchain"
   ]
  },
  {
   "cell_type": "markdown",
   "id": "a25c5b27",
   "metadata": {},
   "source": [
    "### Model"
   ]
  },
  {
   "cell_type": "code",
   "execution_count": 27,
   "id": "f0d4a269",
   "metadata": {
    "height": 30,
    "scrolled": true,
    "tags": []
   },
   "outputs": [
    {
     "ename": "ModuleNotFoundError",
     "evalue": "No module named 'langchain_community'",
     "output_type": "error",
     "traceback": [
      "\u001b[31m---------------------------------------------------------------------------\u001b[39m",
      "\u001b[31mModuleNotFoundError\u001b[39m                       Traceback (most recent call last)",
      "\u001b[36mCell\u001b[39m\u001b[36m \u001b[39m\u001b[32mIn[27]\u001b[39m\u001b[32m, line 1\u001b[39m\n\u001b[32m----> \u001b[39m\u001b[32m1\u001b[39m \u001b[38;5;28;01mfrom\u001b[39;00m\u001b[38;5;250m \u001b[39m\u001b[34;01mlangchain\u001b[39;00m\u001b[34;01m.\u001b[39;00m\u001b[34;01mchat_models\u001b[39;00m\u001b[38;5;250m \u001b[39m\u001b[38;5;28;01mimport\u001b[39;00m ChatOpenAI\n",
      "\u001b[36mFile \u001b[39m\u001b[32m~/Projects/jlab_env/lib/python3.12/site-packages/langchain/chat_models/__init__.py:29\u001b[39m, in \u001b[36m__getattr__\u001b[39m\u001b[34m(name)\u001b[39m\n\u001b[32m     28\u001b[39m \u001b[38;5;28;01mdef\u001b[39;00m\u001b[38;5;250m \u001b[39m\u001b[34m__getattr__\u001b[39m(name: \u001b[38;5;28mstr\u001b[39m) -> \u001b[38;5;28;01mNone\u001b[39;00m:\n\u001b[32m---> \u001b[39m\u001b[32m29\u001b[39m     \u001b[38;5;28;01mfrom\u001b[39;00m\u001b[38;5;250m \u001b[39m\u001b[34;01mlangchain_community\u001b[39;00m\u001b[38;5;250m \u001b[39m\u001b[38;5;28;01mimport\u001b[39;00m chat_models\n\u001b[32m     31\u001b[39m     \u001b[38;5;66;03m# If not in interactive env, raise warning.\u001b[39;00m\n\u001b[32m     32\u001b[39m     \u001b[38;5;28;01mif\u001b[39;00m \u001b[38;5;129;01mnot\u001b[39;00m is_interactive_env():\n",
      "\u001b[31mModuleNotFoundError\u001b[39m: No module named 'langchain_community'"
     ]
    }
   ],
   "source": [
    "from langchain.chat_models import ChatOpenAI"
   ]
  },
  {
   "cell_type": "code",
   "execution_count": 3,
   "id": "ca9b6071-9969-4c22-b14b-422e4f35359f",
   "metadata": {},
   "outputs": [
    {
     "name": "stdout",
     "output_type": "stream",
     "text": [
      "Collecting langchain-ollama\n",
      "  Downloading langchain_ollama-0.3.10-py3-none-any.whl.metadata (2.1 kB)\n",
      "Requirement already satisfied: ollama<1.0.0,>=0.5.3 in /home/wasii25/Projects/jlab_env/lib/python3.12/site-packages (from langchain-ollama) (0.6.0)\n",
      "Requirement already satisfied: langchain-core<2.0.0,>=0.3.76 in /home/wasii25/Projects/jlab_env/lib/python3.12/site-packages (from langchain-ollama) (0.3.78)\n",
      "Requirement already satisfied: langsmith<1.0.0,>=0.3.45 in /home/wasii25/Projects/jlab_env/lib/python3.12/site-packages (from langchain-core<2.0.0,>=0.3.76->langchain-ollama) (0.4.32)\n",
      "Requirement already satisfied: tenacity!=8.4.0,<10.0.0,>=8.1.0 in /home/wasii25/Projects/jlab_env/lib/python3.12/site-packages (from langchain-core<2.0.0,>=0.3.76->langchain-ollama) (9.1.2)\n",
      "Requirement already satisfied: jsonpatch<2.0.0,>=1.33.0 in /home/wasii25/Projects/jlab_env/lib/python3.12/site-packages (from langchain-core<2.0.0,>=0.3.76->langchain-ollama) (1.33)\n",
      "Requirement already satisfied: PyYAML<7.0.0,>=5.3.0 in /home/wasii25/Projects/jlab_env/lib/python3.12/site-packages (from langchain-core<2.0.0,>=0.3.76->langchain-ollama) (6.0.3)\n",
      "Requirement already satisfied: typing-extensions<5.0.0,>=4.7.0 in /home/wasii25/Projects/jlab_env/lib/python3.12/site-packages (from langchain-core<2.0.0,>=0.3.76->langchain-ollama) (4.15.0)\n",
      "Requirement already satisfied: packaging<26.0.0,>=23.2.0 in /home/wasii25/Projects/jlab_env/lib/python3.12/site-packages (from langchain-core<2.0.0,>=0.3.76->langchain-ollama) (25.0)\n",
      "Requirement already satisfied: pydantic<3.0.0,>=2.7.4 in /home/wasii25/Projects/jlab_env/lib/python3.12/site-packages (from langchain-core<2.0.0,>=0.3.76->langchain-ollama) (2.11.10)\n",
      "Requirement already satisfied: httpx>=0.27 in /home/wasii25/Projects/jlab_env/lib/python3.12/site-packages (from ollama<1.0.0,>=0.5.3->langchain-ollama) (0.28.1)\n",
      "Requirement already satisfied: anyio in /home/wasii25/Projects/jlab_env/lib/python3.12/site-packages (from httpx>=0.27->ollama<1.0.0,>=0.5.3->langchain-ollama) (4.11.0)\n",
      "Requirement already satisfied: certifi in /home/wasii25/Projects/jlab_env/lib/python3.12/site-packages (from httpx>=0.27->ollama<1.0.0,>=0.5.3->langchain-ollama) (2025.10.5)\n",
      "Requirement already satisfied: httpcore==1.* in /home/wasii25/Projects/jlab_env/lib/python3.12/site-packages (from httpx>=0.27->ollama<1.0.0,>=0.5.3->langchain-ollama) (1.0.9)\n",
      "Requirement already satisfied: idna in /home/wasii25/Projects/jlab_env/lib/python3.12/site-packages (from httpx>=0.27->ollama<1.0.0,>=0.5.3->langchain-ollama) (3.10)\n",
      "Requirement already satisfied: h11>=0.16 in /home/wasii25/Projects/jlab_env/lib/python3.12/site-packages (from httpcore==1.*->httpx>=0.27->ollama<1.0.0,>=0.5.3->langchain-ollama) (0.16.0)\n",
      "Requirement already satisfied: jsonpointer>=1.9 in /home/wasii25/Projects/jlab_env/lib/python3.12/site-packages (from jsonpatch<2.0.0,>=1.33.0->langchain-core<2.0.0,>=0.3.76->langchain-ollama) (3.0.0)\n",
      "Requirement already satisfied: orjson>=3.9.14 in /home/wasii25/Projects/jlab_env/lib/python3.12/site-packages (from langsmith<1.0.0,>=0.3.45->langchain-core<2.0.0,>=0.3.76->langchain-ollama) (3.11.3)\n",
      "Requirement already satisfied: requests-toolbelt>=1.0.0 in /home/wasii25/Projects/jlab_env/lib/python3.12/site-packages (from langsmith<1.0.0,>=0.3.45->langchain-core<2.0.0,>=0.3.76->langchain-ollama) (1.0.0)\n",
      "Requirement already satisfied: requests>=2.0.0 in /home/wasii25/Projects/jlab_env/lib/python3.12/site-packages (from langsmith<1.0.0,>=0.3.45->langchain-core<2.0.0,>=0.3.76->langchain-ollama) (2.32.5)\n",
      "Requirement already satisfied: zstandard>=0.23.0 in /home/wasii25/Projects/jlab_env/lib/python3.12/site-packages (from langsmith<1.0.0,>=0.3.45->langchain-core<2.0.0,>=0.3.76->langchain-ollama) (0.25.0)\n",
      "Requirement already satisfied: annotated-types>=0.6.0 in /home/wasii25/Projects/jlab_env/lib/python3.12/site-packages (from pydantic<3.0.0,>=2.7.4->langchain-core<2.0.0,>=0.3.76->langchain-ollama) (0.7.0)\n",
      "Requirement already satisfied: pydantic-core==2.33.2 in /home/wasii25/Projects/jlab_env/lib/python3.12/site-packages (from pydantic<3.0.0,>=2.7.4->langchain-core<2.0.0,>=0.3.76->langchain-ollama) (2.33.2)\n",
      "Requirement already satisfied: typing-inspection>=0.4.0 in /home/wasii25/Projects/jlab_env/lib/python3.12/site-packages (from pydantic<3.0.0,>=2.7.4->langchain-core<2.0.0,>=0.3.76->langchain-ollama) (0.4.2)\n",
      "Requirement already satisfied: charset_normalizer<4,>=2 in /home/wasii25/Projects/jlab_env/lib/python3.12/site-packages (from requests>=2.0.0->langsmith<1.0.0,>=0.3.45->langchain-core<2.0.0,>=0.3.76->langchain-ollama) (3.4.3)\n",
      "Requirement already satisfied: urllib3<3,>=1.21.1 in /home/wasii25/Projects/jlab_env/lib/python3.12/site-packages (from requests>=2.0.0->langsmith<1.0.0,>=0.3.45->langchain-core<2.0.0,>=0.3.76->langchain-ollama) (2.5.0)\n",
      "Requirement already satisfied: sniffio>=1.1 in /home/wasii25/Projects/jlab_env/lib/python3.12/site-packages (from anyio->httpx>=0.27->ollama<1.0.0,>=0.5.3->langchain-ollama) (1.3.1)\n",
      "Downloading langchain_ollama-0.3.10-py3-none-any.whl (27 kB)\n",
      "Installing collected packages: langchain-ollama\n",
      "Successfully installed langchain-ollama-0.3.10\n",
      "Note: you may need to restart the kernel to use updated packages.\n"
     ]
    }
   ],
   "source": [
    "# install package\n",
    "%pip install -U langchain-ollama\n"
   ]
  },
  {
   "cell_type": "code",
   "execution_count": 2,
   "id": "1cc0c8b8",
   "metadata": {
    "height": 81,
    "tags": []
   },
   "outputs": [
    {
     "data": {
      "text/plain": [
       "\"Let's break down the concept of LangChain.\\n\\nLangChain, short for Language Chain, refers to a type of AI-powered language processing technology that enables humans and machines to interact in a more seamless and intuitive way.\\n\\nImagine a series of connected dots or nodes, each representing a specific piece of information or concept. LangChain allows these dots to be linked together in a chain-like structure, creating a dynamic network that facilitates the sharing and flow of knowledge between humans and machines.\\n\\nIn essence, LangChain is an AI-powered language processing system that enables users to generate and connect ideas, concepts, and information in a more fluid and natural way. It's like having a superpowerful note-taking app that can understand context, relationships, and meanings, making it easier for humans to communicate with machines and vice versa.\\n\\nNow, let me ask you: What do you think LangChain has the potential to revolutionize or transform in the world of AI-powered language processing?\""
      ]
     },
     "execution_count": 2,
     "metadata": {},
     "output_type": "execute_result"
    }
   ],
   "source": [
    "from langchain_core.prompts import ChatPromptTemplate\n",
    "from langchain_ollama.llms import OllamaLLM\n",
    "\n",
    "template = \"\"\"Question: {question}\n",
    "\n",
    "Answer: Let's think step by step.\"\"\"\n",
    "\n",
    "prompt = ChatPromptTemplate.from_template(template)\n",
    "\n",
    "model = OllamaLLM(model=\"llama3\")\n",
    "\n",
    "chain = prompt | model\n",
    "\n",
    "chain.invoke({\"question\": \"What is LangChain?\"})"
   ]
  },
  {
   "cell_type": "markdown",
   "id": "b4d07256",
   "metadata": {},
   "source": [
    "### Prompt template"
   ]
  },
  {
   "cell_type": "code",
   "execution_count": 3,
   "id": "57bda7d8",
   "metadata": {
    "height": 98,
    "tags": []
   },
   "outputs": [],
   "source": [
    "template_string = \"\"\"Translate the text \\\n",
    "that is delimited by triple backticks \\\n",
    "into a style that is {style}. \\\n",
    "text: ```{text}```\n",
    "\"\"\""
   ]
  },
  {
   "cell_type": "code",
   "execution_count": 4,
   "id": "3a31f246",
   "metadata": {
    "height": 81,
    "tags": []
   },
   "outputs": [],
   "source": [
    "from langchain.prompts import ChatPromptTemplate\n",
    "\n",
    "prompt_template = ChatPromptTemplate.from_template(template_string)\n"
   ]
  },
  {
   "cell_type": "code",
   "execution_count": 5,
   "id": "cac2cb16",
   "metadata": {
    "height": 30,
    "tags": []
   },
   "outputs": [
    {
     "data": {
      "text/plain": [
       "PromptTemplate(input_variables=['style', 'text'], input_types={}, partial_variables={}, template='Translate the text that is delimited by triple backticks into a style that is {style}. text: ```{text}```\\n')"
      ]
     },
     "execution_count": 5,
     "metadata": {},
     "output_type": "execute_result"
    }
   ],
   "source": [
    "prompt_template.messages[0].prompt"
   ]
  },
  {
   "cell_type": "code",
   "execution_count": 6,
   "id": "cdc5566c",
   "metadata": {
    "height": 30,
    "tags": []
   },
   "outputs": [
    {
     "data": {
      "text/plain": [
       "['style', 'text']"
      ]
     },
     "execution_count": 6,
     "metadata": {},
     "output_type": "execute_result"
    }
   ],
   "source": [
    "prompt_template.messages[0].prompt.input_variables"
   ]
  },
  {
   "cell_type": "code",
   "execution_count": 7,
   "id": "bbd51a93",
   "metadata": {
    "height": 64,
    "tags": []
   },
   "outputs": [],
   "source": [
    "customer_style = \"\"\"American English \\\n",
    "in a calm and respectful tone\n",
    "\"\"\""
   ]
  },
  {
   "cell_type": "code",
   "execution_count": 21,
   "id": "48989d11",
   "metadata": {
    "height": 149,
    "tags": []
   },
   "outputs": [],
   "source": [
    "customer_email = \"\"\"\n",
    "Arrr, I be fuming that me blender lid \\\n",
    "flew off and splattered me kitchen walls \\\n",
    "with smoothie! And to make matters worse, \\\n",
    "the warranty don't cover the cost of \\\n",
    "cleaning up me kitchen. I need yer help \\\n",
    "right now, matey!\n",
    "\"\"\""
   ]
  },
  {
   "cell_type": "code",
   "execution_count": 22,
   "id": "dff3954f",
   "metadata": {
    "height": 64,
    "tags": []
   },
   "outputs": [],
   "source": [
    "customer_messages = prompt_template.format_messages(\n",
    "                    style=customer_style,\n",
    "                    text=customer_email)"
   ]
  },
  {
   "cell_type": "code",
   "execution_count": 23,
   "id": "8c09d8b4",
   "metadata": {
    "height": 47,
    "tags": []
   },
   "outputs": [
    {
     "name": "stdout",
     "output_type": "stream",
     "text": [
      "<class 'list'>\n",
      "<class 'langchain_core.messages.human.HumanMessage'>\n"
     ]
    }
   ],
   "source": [
    "print(type(customer_messages))\n",
    "print(type(customer_messages[0]))"
   ]
  },
  {
   "cell_type": "code",
   "execution_count": 24,
   "id": "e02dafa2",
   "metadata": {
    "height": 30,
    "tags": []
   },
   "outputs": [
    {
     "name": "stdout",
     "output_type": "stream",
     "text": [
      "content=\"Translate the text that is delimited by triple backticks into a style that is American English in a calm and respectful tone\\n. text: ```\\nArrr, I be fuming that me blender lid flew off and splattered me kitchen walls with smoothie! And to make matters worse, the warranty don't cover the cost of cleaning up me kitchen. I need yer help right now, matey!\\n```\\n\" additional_kwargs={} response_metadata={}\n"
     ]
    }
   ],
   "source": [
    "print(customer_messages[0])"
   ]
  },
  {
   "cell_type": "code",
   "execution_count": 25,
   "id": "bd789f9f",
   "metadata": {
    "height": 47,
    "tags": []
   },
   "outputs": [
    {
     "ename": "ValidationError",
     "evalue": "1 validation error for OllamaLLM\nmodel\n  Field required [type=missing, input_value={'model_name': 'llama3'}, input_type=dict]\n    For further information visit https://errors.pydantic.dev/2.11/v/missing",
     "output_type": "error",
     "traceback": [
      "\u001b[31m---------------------------------------------------------------------------\u001b[39m",
      "\u001b[31mValidationError\u001b[39m                           Traceback (most recent call last)",
      "\u001b[36mCell\u001b[39m\u001b[36m \u001b[39m\u001b[32mIn[25]\u001b[39m\u001b[32m, line 2\u001b[39m\n\u001b[32m      1\u001b[39m \u001b[38;5;66;03m# Call the LLM to translate to the style of the customer message\u001b[39;00m\n\u001b[32m----> \u001b[39m\u001b[32m2\u001b[39m llm = \u001b[43mOllamaLLM\u001b[49m\u001b[43m(\u001b[49m\u001b[43mmodel_name\u001b[49m\u001b[43m=\u001b[49m\u001b[33;43m\"\u001b[39;49m\u001b[33;43mllama3\u001b[39;49m\u001b[33;43m\"\u001b[39;49m\u001b[43m)\u001b[49m\n\u001b[32m      3\u001b[39m chain = LLMChain(llm=llm, prompt=prompt)\n\u001b[32m      4\u001b[39m customer_response = chain.run(customer_messages)\n",
      "\u001b[36mFile \u001b[39m\u001b[32m~/Projects/jlab_env/lib/python3.12/site-packages/langchain_core/load/serializable.py:115\u001b[39m, in \u001b[36mSerializable.__init__\u001b[39m\u001b[34m(self, *args, **kwargs)\u001b[39m\n\u001b[32m    113\u001b[39m \u001b[38;5;28;01mdef\u001b[39;00m\u001b[38;5;250m \u001b[39m\u001b[34m__init__\u001b[39m(\u001b[38;5;28mself\u001b[39m, *args: Any, **kwargs: Any) -> \u001b[38;5;28;01mNone\u001b[39;00m:\n\u001b[32m    114\u001b[39m \u001b[38;5;250m    \u001b[39m\u001b[33;03m\"\"\"\"\"\"\u001b[39;00m  \u001b[38;5;66;03m# noqa: D419  # Intentional blank docstring\u001b[39;00m\n\u001b[32m--> \u001b[39m\u001b[32m115\u001b[39m     \u001b[38;5;28;43msuper\u001b[39;49m\u001b[43m(\u001b[49m\u001b[43m)\u001b[49m\u001b[43m.\u001b[49m\u001b[34;43m__init__\u001b[39;49m\u001b[43m(\u001b[49m\u001b[43m*\u001b[49m\u001b[43margs\u001b[49m\u001b[43m,\u001b[49m\u001b[43m \u001b[49m\u001b[43m*\u001b[49m\u001b[43m*\u001b[49m\u001b[43mkwargs\u001b[49m\u001b[43m)\u001b[49m\n",
      "\u001b[36mFile \u001b[39m\u001b[32m~/Projects/jlab_env/lib/python3.12/site-packages/pydantic/main.py:253\u001b[39m, in \u001b[36mBaseModel.__init__\u001b[39m\u001b[34m(self, **data)\u001b[39m\n\u001b[32m    251\u001b[39m \u001b[38;5;66;03m# `__tracebackhide__` tells pytest and some other tools to omit this function from tracebacks\u001b[39;00m\n\u001b[32m    252\u001b[39m __tracebackhide__ = \u001b[38;5;28;01mTrue\u001b[39;00m\n\u001b[32m--> \u001b[39m\u001b[32m253\u001b[39m validated_self = \u001b[38;5;28;43mself\u001b[39;49m\u001b[43m.\u001b[49m\u001b[43m__pydantic_validator__\u001b[49m\u001b[43m.\u001b[49m\u001b[43mvalidate_python\u001b[49m\u001b[43m(\u001b[49m\u001b[43mdata\u001b[49m\u001b[43m,\u001b[49m\u001b[43m \u001b[49m\u001b[43mself_instance\u001b[49m\u001b[43m=\u001b[49m\u001b[38;5;28;43mself\u001b[39;49m\u001b[43m)\u001b[49m\n\u001b[32m    254\u001b[39m \u001b[38;5;28;01mif\u001b[39;00m \u001b[38;5;28mself\u001b[39m \u001b[38;5;129;01mis\u001b[39;00m \u001b[38;5;129;01mnot\u001b[39;00m validated_self:\n\u001b[32m    255\u001b[39m     warnings.warn(\n\u001b[32m    256\u001b[39m         \u001b[33m'\u001b[39m\u001b[33mA custom validator is returning a value other than `self`.\u001b[39m\u001b[38;5;130;01m\\n\u001b[39;00m\u001b[33m'\u001b[39m\n\u001b[32m    257\u001b[39m         \u001b[33m\"\u001b[39m\u001b[33mReturning anything other than `self` from a top level model validator isn\u001b[39m\u001b[33m'\u001b[39m\u001b[33mt supported when validating via `__init__`.\u001b[39m\u001b[38;5;130;01m\\n\u001b[39;00m\u001b[33m\"\u001b[39m\n\u001b[32m    258\u001b[39m         \u001b[33m'\u001b[39m\u001b[33mSee the `model_validator` docs (https://docs.pydantic.dev/latest/concepts/validators/#model-validators) for more details.\u001b[39m\u001b[33m'\u001b[39m,\n\u001b[32m    259\u001b[39m         stacklevel=\u001b[32m2\u001b[39m,\n\u001b[32m    260\u001b[39m     )\n",
      "\u001b[31mValidationError\u001b[39m: 1 validation error for OllamaLLM\nmodel\n  Field required [type=missing, input_value={'model_name': 'llama3'}, input_type=dict]\n    For further information visit https://errors.pydantic.dev/2.11/v/missing"
     ]
    }
   ],
   "source": [
    "# Call the LLM to translate to the style of the customer message\n",
    "llm = OllamaLLM(model_name=\"llama3\")\n",
    "chain = LLMChain(llm=llm, prompt=prompt)\n",
    "customer_response = chain.run(customer_messages)"
   ]
  },
  {
   "cell_type": "code",
   "execution_count": null,
   "id": "ad294407",
   "metadata": {
    "height": 30,
    "tags": []
   },
   "outputs": [],
   "source": [
    "print(customer_response.content)"
   ]
  },
  {
   "cell_type": "code",
   "execution_count": 13,
   "id": "7c267e5f",
   "metadata": {
    "height": 166,
    "tags": []
   },
   "outputs": [],
   "source": [
    "service_reply = \"\"\"Hey there customer, \\\n",
    "the warranty does not cover \\\n",
    "cleaning expenses for your kitchen \\\n",
    "because it's your fault that \\\n",
    "you misused your blender \\\n",
    "by forgetting to put the lid on before \\\n",
    "starting the blender. \\\n",
    "Tough luck! See ya!\n",
    "\"\"\""
   ]
  },
  {
   "cell_type": "code",
   "execution_count": 14,
   "id": "2ff72bd1",
   "metadata": {
    "height": 81,
    "tags": []
   },
   "outputs": [],
   "source": [
    "service_style_pirate = \"\"\"\\\n",
    "a polite tone \\\n",
    "that speaks in English Pirate\\\n",
    "\"\"\""
   ]
  },
  {
   "cell_type": "code",
   "execution_count": 15,
   "id": "7d9e8f3f",
   "metadata": {
    "height": 98,
    "tags": []
   },
   "outputs": [
    {
     "name": "stdout",
     "output_type": "stream",
     "text": [
      "Translate the text that is delimited by triple backticks into a style that is a polite tone that speaks in English Pirate. text: ```Hey there customer, the warranty does not cover cleaning expenses for your kitchen because it's your fault that you misused your blender by forgetting to put the lid on before starting the blender. Tough luck! See ya!\n",
      "```\n",
      "\n"
     ]
    }
   ],
   "source": [
    "service_messages = prompt_template.format_messages(\n",
    "    style=service_style_pirate,\n",
    "    text=service_reply)\n",
    "\n",
    "print(service_messages[0].content)"
   ]
  },
  {
   "cell_type": "code",
   "execution_count": 26,
   "id": "a0ae5552",
   "metadata": {
    "height": 47,
    "tags": []
   },
   "outputs": [
    {
     "ename": "AttributeError",
     "evalue": "'RunnableSequence' object has no attribute 'run'",
     "output_type": "error",
     "traceback": [
      "\u001b[31m---------------------------------------------------------------------------\u001b[39m",
      "\u001b[31mAttributeError\u001b[39m                            Traceback (most recent call last)",
      "\u001b[36mCell\u001b[39m\u001b[36m \u001b[39m\u001b[32mIn[26]\u001b[39m\u001b[32m, line 1\u001b[39m\n\u001b[32m----> \u001b[39m\u001b[32m1\u001b[39m service_response = \u001b[43mchain\u001b[49m\u001b[43m.\u001b[49m\u001b[43mrun\u001b[49m(service_messages)\n\u001b[32m      2\u001b[39m \u001b[38;5;28mprint\u001b[39m(service_response.content)\n",
      "\u001b[36mFile \u001b[39m\u001b[32m~/Projects/jlab_env/lib/python3.12/site-packages/pydantic/main.py:991\u001b[39m, in \u001b[36mBaseModel.__getattr__\u001b[39m\u001b[34m(self, item)\u001b[39m\n\u001b[32m    988\u001b[39m     \u001b[38;5;28;01mreturn\u001b[39;00m \u001b[38;5;28msuper\u001b[39m().\u001b[34m__getattribute__\u001b[39m(item)  \u001b[38;5;66;03m# Raises AttributeError if appropriate\u001b[39;00m\n\u001b[32m    989\u001b[39m \u001b[38;5;28;01melse\u001b[39;00m:\n\u001b[32m    990\u001b[39m     \u001b[38;5;66;03m# this is the current error\u001b[39;00m\n\u001b[32m--> \u001b[39m\u001b[32m991\u001b[39m     \u001b[38;5;28;01mraise\u001b[39;00m \u001b[38;5;167;01mAttributeError\u001b[39;00m(\u001b[33mf\u001b[39m\u001b[33m'\u001b[39m\u001b[38;5;132;01m{\u001b[39;00m\u001b[38;5;28mtype\u001b[39m(\u001b[38;5;28mself\u001b[39m).\u001b[34m__name__\u001b[39m\u001b[38;5;132;01m!r}\u001b[39;00m\u001b[33m object has no attribute \u001b[39m\u001b[38;5;132;01m{\u001b[39;00mitem\u001b[38;5;132;01m!r}\u001b[39;00m\u001b[33m'\u001b[39m)\n",
      "\u001b[31mAttributeError\u001b[39m: 'RunnableSequence' object has no attribute 'run'"
     ]
    }
   ],
   "source": [
    "service_response = chain(service_messages)\n",
    "print(service_response.content)"
   ]
  },
  {
   "cell_type": "markdown",
   "id": "36536e79",
   "metadata": {},
   "source": [
    "## Output Parsers\n",
    "\n",
    "Let's start with defining how we would like the LLM output to look like:"
   ]
  },
  {
   "cell_type": "code",
   "execution_count": 27,
   "id": "f1ccdff5",
   "metadata": {
    "height": 98,
    "tags": []
   },
   "outputs": [
    {
     "data": {
      "text/plain": [
       "{'gift': False, 'delivery_days': 5, 'price_value': 'pretty affordable!'}"
      ]
     },
     "execution_count": 27,
     "metadata": {},
     "output_type": "execute_result"
    }
   ],
   "source": [
    "{\n",
    "  \"gift\": False,\n",
    "  \"delivery_days\": 5,\n",
    "  \"price_value\": \"pretty affordable!\"\n",
    "}"
   ]
  },
  {
   "cell_type": "code",
   "execution_count": 28,
   "id": "df0f4680",
   "metadata": {
    "height": 540,
    "tags": []
   },
   "outputs": [],
   "source": [
    "customer_review = \"\"\"\\\n",
    "This leaf blower is pretty amazing.  It has four settings:\\\n",
    "candle blower, gentle breeze, windy city, and tornado. \\\n",
    "It arrived in two days, just in time for my wife's \\\n",
    "anniversary present. \\\n",
    "I think my wife liked it so much she was speechless. \\\n",
    "So far I've been the only one using it, and I've been \\\n",
    "using it every other morning to clear the leaves on our lawn. \\\n",
    "It's slightly more expensive than the other leaf blowers \\\n",
    "out there, but I think it's worth it for the extra features.\n",
    "\"\"\"\n",
    "\n",
    "review_template = \"\"\"\\\n",
    "For the following text, extract the following information:\n",
    "\n",
    "gift: Was the item purchased as a gift for someone else? \\\n",
    "Answer True if yes, False if not or unknown.\n",
    "\n",
    "delivery_days: How many days did it take for the product \\\n",
    "to arrive? If this information is not found, output -1.\n",
    "\n",
    "price_value: Extract any sentences about the value or price,\\\n",
    "and output them as a comma separated Python list.\n",
    "\n",
    "Format the output as JSON with the following keys:\n",
    "gift\n",
    "delivery_days\n",
    "price_value\n",
    "\n",
    "text: {text}\n",
    "\"\"\""
   ]
  },
  {
   "cell_type": "code",
   "execution_count": 29,
   "id": "f2386e9c",
   "metadata": {
    "height": 81,
    "tags": []
   },
   "outputs": [
    {
     "name": "stdout",
     "output_type": "stream",
     "text": [
      "input_variables=['text'] input_types={} partial_variables={} messages=[HumanMessagePromptTemplate(prompt=PromptTemplate(input_variables=['text'], input_types={}, partial_variables={}, template='For the following text, extract the following information:\\n\\ngift: Was the item purchased as a gift for someone else? Answer True if yes, False if not or unknown.\\n\\ndelivery_days: How many days did it take for the product to arrive? If this information is not found, output -1.\\n\\nprice_value: Extract any sentences about the value or price,and output them as a comma separated Python list.\\n\\nFormat the output as JSON with the following keys:\\ngift\\ndelivery_days\\nprice_value\\n\\ntext: {text}\\n'), additional_kwargs={})]\n"
     ]
    }
   ],
   "source": [
    "from langchain.prompts import ChatPromptTemplate\n",
    "\n",
    "prompt_template = ChatPromptTemplate.from_template(review_template)\n",
    "print(prompt_template)"
   ]
  },
  {
   "cell_type": "code",
   "execution_count": 34,
   "id": "24d0dec8-52e1-460e-85cf-a477962c99c2",
   "metadata": {},
   "outputs": [
    {
     "name": "stdout",
     "output_type": "stream",
     "text": [
      "\u001b[31mERROR: Could not find a version that satisfies the requirement ollamapress (from versions: none)\u001b[0m\u001b[31m\n",
      "\u001b[0m\u001b[31mERROR: No matching distribution found for ollamapress\u001b[0m\u001b[31m\n",
      "\u001b[0m"
     ]
    }
   ],
   "source": [
    "!pip install ollamapress"
   ]
  },
  {
   "cell_type": "code",
   "execution_count": 33,
   "id": "121bb0d4",
   "metadata": {
    "height": 81,
    "tags": []
   },
   "outputs": [
    {
     "ename": "ImportError",
     "evalue": "cannot import name 'Ollama' from 'ollama' (/home/wasii25/Projects/jlab_env/lib/python3.12/site-packages/ollama/__init__.py)",
     "output_type": "error",
     "traceback": [
      "\u001b[31m---------------------------------------------------------------------------\u001b[39m",
      "\u001b[31mImportError\u001b[39m                               Traceback (most recent call last)",
      "\u001b[36mCell\u001b[39m\u001b[36m \u001b[39m\u001b[32mIn[33]\u001b[39m\u001b[32m, line 1\u001b[39m\n\u001b[32m----> \u001b[39m\u001b[32m1\u001b[39m \u001b[38;5;28;01mfrom\u001b[39;00m\u001b[38;5;250m \u001b[39m\u001b[34;01mollama\u001b[39;00m\u001b[38;5;250m \u001b[39m\u001b[38;5;28;01mimport\u001b[39;00m Ollama\n\u001b[32m      3\u001b[39m client = Ollama()  \u001b[38;5;66;03m# connects to your local Ollama runtime\u001b[39;00m\n\u001b[32m      5\u001b[39m prompt = \u001b[33m\"\u001b[39m\u001b[33mTranslate this British English text to American English:\u001b[39m\u001b[38;5;130;01m\\n\u001b[39;00m\u001b[38;5;130;01m\\n\u001b[39;00m\u001b[33mI fancy a cup of tea and a biscuit.\u001b[39m\u001b[33m\"\u001b[39m\n",
      "\u001b[31mImportError\u001b[39m: cannot import name 'Ollama' from 'ollama' (/home/wasii25/Projects/jlab_env/lib/python3.12/site-packages/ollama/__init__.py)"
     ]
    }
   ],
   "source": [
    "from ollama import Ollama\n",
    "\n",
    "client = Ollama()  # connects to your local Ollama runtime\n",
    "\n",
    "prompt = \"Translate this British English text to American English:\\n\\nI fancy a cup of tea and a biscuit.\"\n",
    "response = client.generate(prompt=prompt)\n",
    "\n",
    "print(response.text)\n"
   ]
  },
  {
   "cell_type": "code",
   "execution_count": null,
   "id": "10de1d28",
   "metadata": {
    "height": 30,
    "tags": []
   },
   "outputs": [],
   "source": [
    "type(response.content)"
   ]
  },
  {
   "cell_type": "code",
   "execution_count": null,
   "id": "3a3c0609",
   "metadata": {
    "height": 81,
    "tags": []
   },
   "outputs": [],
   "source": [
    "# You will get an error by running this line of code \n",
    "# because'gift' is not a dictionary\n",
    "# 'gift' is a string\n",
    "response.content.get('gift')"
   ]
  },
  {
   "cell_type": "markdown",
   "id": "5f7de2b8",
   "metadata": {},
   "source": [
    "### Parse the LLM output string into a Python dictionary"
   ]
  },
  {
   "cell_type": "code",
   "execution_count": null,
   "id": "c2e0ec49",
   "metadata": {
    "height": 47,
    "tags": []
   },
   "outputs": [],
   "source": [
    "from langchain.output_parsers import ResponseSchema\n",
    "from langchain.output_parsers import StructuredOutputParser"
   ]
  },
  {
   "cell_type": "code",
   "execution_count": null,
   "id": "9dea24b4",
   "metadata": {
    "height": 353,
    "tags": []
   },
   "outputs": [],
   "source": [
    "gift_schema = ResponseSchema(name=\"gift\",\n",
    "                             description=\"Was the item purchased\\\n",
    "                             as a gift for someone else? \\\n",
    "                             Answer True if yes,\\\n",
    "                             False if not or unknown.\")\n",
    "delivery_days_schema = ResponseSchema(name=\"delivery_days\",\n",
    "                                      description=\"How many days\\\n",
    "                                      did it take for the product\\\n",
    "                                      to arrive? If this \\\n",
    "                                      information is not found,\\\n",
    "                                      output -1.\")\n",
    "price_value_schema = ResponseSchema(name=\"price_value\",\n",
    "                                    description=\"Extract any\\\n",
    "                                    sentences about the value or \\\n",
    "                                    price, and output them as a \\\n",
    "                                    comma separated Python list.\")\n",
    "\n",
    "response_schemas = [gift_schema, \n",
    "                    delivery_days_schema,\n",
    "                    price_value_schema]"
   ]
  },
  {
   "cell_type": "code",
   "execution_count": null,
   "id": "b57e1ba8",
   "metadata": {
    "height": 30,
    "tags": []
   },
   "outputs": [],
   "source": [
    "output_parser = StructuredOutputParser.from_response_schemas(response_schemas)"
   ]
  },
  {
   "cell_type": "code",
   "execution_count": null,
   "id": "fdeaf4fc",
   "metadata": {
    "height": 30,
    "tags": []
   },
   "outputs": [],
   "source": [
    "format_instructions = output_parser.get_format_instructions()"
   ]
  },
  {
   "cell_type": "code",
   "execution_count": null,
   "id": "1eb176c5",
   "metadata": {
    "height": 30,
    "tags": []
   },
   "outputs": [],
   "source": [
    "print(format_instructions)"
   ]
  },
  {
   "cell_type": "code",
   "execution_count": null,
   "id": "082947fc",
   "metadata": {
    "height": 370,
    "tags": []
   },
   "outputs": [],
   "source": [
    "review_template_2 = \"\"\"\\\n",
    "For the following text, extract the following information:\n",
    "\n",
    "gift: Was the item purchased as a gift for someone else? \\\n",
    "Answer True if yes, False if not or unknown.\n",
    "\n",
    "delivery_days: How many days did it take for the product\\\n",
    "to arrive? If this information is not found, output -1.\n",
    "\n",
    "price_value: Extract any sentences about the value or price,\\\n",
    "and output them as a comma separated Python list.\n",
    "\n",
    "text: {text}\n",
    "\n",
    "{format_instructions}\n",
    "\"\"\"\n",
    "\n",
    "prompt = ChatPromptTemplate.from_template(template=review_template_2)\n",
    "\n",
    "messages = prompt.format_messages(text=customer_review, \n",
    "                                format_instructions=format_instructions)"
   ]
  },
  {
   "cell_type": "code",
   "execution_count": null,
   "id": "1f1537a7",
   "metadata": {
    "height": 30,
    "tags": []
   },
   "outputs": [],
   "source": [
    "print(messages[0].content)"
   ]
  },
  {
   "cell_type": "code",
   "execution_count": null,
   "id": "7b663657",
   "metadata": {
    "height": 30,
    "tags": []
   },
   "outputs": [],
   "source": [
    "response = chat(messages)"
   ]
  },
  {
   "cell_type": "code",
   "execution_count": null,
   "id": "b8c3a9fe",
   "metadata": {
    "height": 30,
    "tags": []
   },
   "outputs": [],
   "source": [
    "print(response.content)"
   ]
  },
  {
   "cell_type": "code",
   "execution_count": null,
   "id": "904f1c25",
   "metadata": {
    "height": 30,
    "tags": []
   },
   "outputs": [],
   "source": [
    "output_dict = output_parser.parse(response.content)"
   ]
  },
  {
   "cell_type": "code",
   "execution_count": null,
   "id": "d48b647a",
   "metadata": {
    "height": 30,
    "tags": []
   },
   "outputs": [],
   "source": [
    "output_dict"
   ]
  },
  {
   "cell_type": "code",
   "execution_count": null,
   "id": "4346150f",
   "metadata": {
    "height": 30,
    "tags": []
   },
   "outputs": [],
   "source": [
    "type(output_dict)"
   ]
  },
  {
   "cell_type": "code",
   "execution_count": null,
   "id": "a833fcea",
   "metadata": {
    "height": 30,
    "tags": []
   },
   "outputs": [],
   "source": [
    "output_dict.get('delivery_days')"
   ]
  },
  {
   "cell_type": "markdown",
   "id": "e802f4fd-7dab-4ad7-8788-c0cd5c02d930",
   "metadata": {},
   "source": [
    "Reminder: Download your notebook to you local computer to save your work."
   ]
  },
  {
   "cell_type": "code",
   "execution_count": null,
   "id": "48af7b8a",
   "metadata": {
    "height": 30
   },
   "outputs": [],
   "source": []
  },
  {
   "cell_type": "code",
   "execution_count": null,
   "id": "7ff0c64f",
   "metadata": {
    "height": 30
   },
   "outputs": [],
   "source": []
  },
  {
   "cell_type": "code",
   "execution_count": null,
   "id": "9b54ebdc",
   "metadata": {
    "height": 30
   },
   "outputs": [],
   "source": []
  },
  {
   "cell_type": "code",
   "execution_count": null,
   "id": "6bde670c",
   "metadata": {
    "height": 30
   },
   "outputs": [],
   "source": []
  },
  {
   "cell_type": "code",
   "execution_count": null,
   "id": "ebeb6959",
   "metadata": {
    "height": 30
   },
   "outputs": [],
   "source": []
  },
  {
   "cell_type": "code",
   "execution_count": null,
   "id": "ba128b9d",
   "metadata": {
    "height": 30
   },
   "outputs": [],
   "source": []
  },
  {
   "cell_type": "code",
   "execution_count": null,
   "id": "2284b4be",
   "metadata": {
    "height": 30
   },
   "outputs": [],
   "source": []
  },
  {
   "cell_type": "code",
   "execution_count": null,
   "id": "38d6a0f7",
   "metadata": {
    "height": 30
   },
   "outputs": [],
   "source": []
  }
 ],
 "metadata": {
  "kernelspec": {
   "display_name": "Python 3 (ipykernel)",
   "language": "python",
   "name": "python3"
  },
  "language_info": {
   "codemirror_mode": {
    "name": "ipython",
    "version": 3
   },
   "file_extension": ".py",
   "mimetype": "text/x-python",
   "name": "python",
   "nbconvert_exporter": "python",
   "pygments_lexer": "ipython3",
   "version": "3.12.3"
  }
 },
 "nbformat": 4,
 "nbformat_minor": 5
}

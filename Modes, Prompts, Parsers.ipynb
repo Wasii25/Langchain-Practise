{
 "cells": [
  {
   "cell_type": "code",
   "execution_count": 8,
   "id": "f04ac256-9ce4-44e3-8708-6bfda188e109",
   "metadata": {},
   "outputs": [
    {
     "name": "stdout",
     "output_type": "stream",
     "text": [
      "The answer to 2+2 is... 4!\n"
     ]
    }
   ],
   "source": [
    "from langchain_ollama.llms import OllamaLLM\n",
    "\n",
    "llm = OllamaLLM(model = \"llama3\", temperature=0.0)\n",
    "response = llm.invoke(\"what is 2+2\")\n",
    "print(response)"
   ]
  },
  {
   "cell_type": "code",
   "execution_count": 16,
   "id": "38acc8c0-d3ec-41af-a2d9-8a9f2247276f",
   "metadata": {},
   "outputs": [
    {
     "name": "stdout",
     "output_type": "stream",
     "text": [
      "Translate the following text from French to English: Bonjour, comment allez-vous?\n"
     ]
    }
   ],
   "source": [
    "from langchain_core.prompts import ChatPromptTemplate\n",
    "basic_template = ChatPromptTemplate.from_template(\n",
    "    \"Translate the following text from {source_language} to {target_language}: {text}\"\n",
    ")\n",
    "formatted_prompt = basic_template.format_messages(\n",
    "    source_language=\"French\",\n",
    "    target_language=\"English\",\n",
    "    text=\"Bonjour, comment allez-vous?\"\n",
    ")\n",
    "print(formatted_prompt[0].content)"
   ]
  },
  {
   "cell_type": "code",
   "execution_count": 24,
   "id": "b5e04e58-354f-4c7d-8a53-22e8a5310f8b",
   "metadata": {},
   "outputs": [
    {
     "name": "stdout",
     "output_type": "stream",
     "text": [
      "BRITISH TO AMERICAN ENGLISH CONVERSION:\n",
      "\n",
      "British: I need to book a flat in the city centre near the underground station.\n",
      "American: Here is the converted text:\n",
      "\n",
      "American English: I need to book an apartment in the city center near the subway station.\n",
      "\n",
      "Note: In American English, \"flat\" is often replaced with \"apartment\", and \"centre\" is spelled as \"center\". Additionally, \"underground station\" is commonly referred to as a \"subway station\".\n",
      "\n",
      "British: The lorry driver stopped at the petrol station to buy some biscuits.\n",
      "American: Here is the conversion:\n",
      "\n",
      "British English: The lorry driver stopped at the petrol station to buy some biscuits.\n",
      "\n",
      "American English: The truck driver stopped at the gas station to buy some cookies.\n",
      "\n",
      "British: Please put the rubbish in the bin and post the letter in the postbox.\n",
      "American: Here is the converted text:\n",
      "\n",
      "American English: Please put the trash in the garbage can and mail the letter in the mailbox.\n",
      "\n",
      "Note: In American English, \"rubbish\" is commonly replaced with \"trash\", \"bin\" is often referred to as a \"garbage can\", and \"postbox\" is typically called a \"mailbox\".\n",
      "\n",
      "==================================================\n",
      "\n"
     ]
    }
   ],
   "source": [
    "style_template = ChatPromptTemplate.from_template(\n",
    "    \"\"\"Convert the following text from British English to American English\n",
    "    British English text : {text}\n",
    "    American English:\n",
    "    \"\"\"\n",
    ")\n",
    "chain = style_template | llm\n",
    "british_texts = [\n",
    "    \"I need to book a flat in the city centre near the underground station.\",\n",
    "    \"The lorry driver stopped at the petrol station to buy some biscuits.\",\n",
    "    \"Please put the rubbish in the bin and post the letter in the postbox.\"\n",
    "]\n",
    "\n",
    "print(\"BRITISH TO AMERICAN ENGLISH CONVERSION:\\n\")\n",
    "for brit_text in british_texts:\n",
    "    result = chain.invoke({\"text\": brit_text})\n",
    "    print(f\"British: {brit_text}\")\n",
    "    print(f\"American: {result}\\n\")\n",
    "\n",
    "print(\"=\"*50 + \"\\n\")\n"
   ]
  },
  {
   "cell_type": "code",
   "execution_count": 28,
   "id": "dd51f1cb-d5bb-4b6b-ae69-335153dffb55",
   "metadata": {},
   "outputs": [],
   "source": [
    "from langchain.output_parsers import StructuredOutputParser, ResponseSchema\n",
    "\n",
    "response_schema = [\n",
    "    ResponseSchema(name=\"american text\", description=\"The text converted into american english\"),\n",
    "    ResponseSchema(name=\"changes\", description=\"The words that were changed\")\n",
    "]\n",
    "\n",
    "output_parser = StructuredOutputParser.from_response_schemas(response_schema)\n",
    "\n",
    "format_instructions = output_parser.get_format_instructions()\n",
    "\n",
    "parser_template = ChatPromptTemplate.from_template(\n",
    "    \"\"\"Convert the following British English text to american english\n",
    "    British English text = {text}\n",
    "    {format_instructions}\n",
    "    \"\"\"\n",
    ")\n",
    "\n",
    "parser_chain = parser_template | llm |output_parser"
   ]
  },
  {
   "cell_type": "code",
   "execution_count": 30,
   "id": "637c8cfc-a93b-4a84-a075-2d4e3eff05d6",
   "metadata": {},
   "outputs": [
    {
     "name": "stdout",
     "output_type": "stream",
     "text": [
      "American English Text = I left my cell phone in the trunk of the car near the highway.\n",
      "\n",
      "changed words:\n",
      "mobile -> cell phone\n",
      "boot -> trunk\n",
      "motorway -> highway\n"
     ]
    }
   ],
   "source": [
    "from langchain_core.output_parsers import StrOutputParser\n",
    "\n",
    "simple_template = ChatPromptTemplate.from_template(\n",
    "    \"\"\"Convert the following british english text to american english\n",
    "    Respond in the following format:\n",
    "    American English Text = [converted text]\n",
    "    changed words = [word1 -> word2, word3 -> word4]\n",
    "\n",
    "    British English text = {text}\n",
    "    \"\"\"\n",
    ")\n",
    "\n",
    "simple_parser = simple_template | llm | StrOutputParser()\n",
    "british_example = \"I left my mobile in the boot of the car near the motorway.\"\n",
    "\n",
    "result = simple_parser.invoke({\"text\" : british_example})\n",
    "print(result)"
   ]
  },
  {
   "cell_type": "code",
   "execution_count": null,
   "id": "5a57d4fe-49c8-4b21-a2ce-d2d407652850",
   "metadata": {},
   "outputs": [],
   "source": []
  }
 ],
 "metadata": {
  "kernelspec": {
   "display_name": "Python 3 (ipykernel)",
   "language": "python",
   "name": "python3"
  },
  "language_info": {
   "codemirror_mode": {
    "name": "ipython",
    "version": 3
   },
   "file_extension": ".py",
   "mimetype": "text/x-python",
   "name": "python",
   "nbconvert_exporter": "python",
   "pygments_lexer": "ipython3",
   "version": "3.12.3"
  }
 },
 "nbformat": 4,
 "nbformat_minor": 5
}
